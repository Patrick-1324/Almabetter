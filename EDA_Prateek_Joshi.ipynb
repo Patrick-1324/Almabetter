{
  "nbformat": 4,
  "nbformat_minor": 0,
  "metadata": {
    "colab": {
      "provenance": [],
      "collapsed_sections": [
        "w6K7xa23Elo4",
        "yQaldy8SH6Dl",
        "PH-0ReGfmX4f",
        "mDgbUHAGgjLW",
        "0wOQAZs5pc--",
        "t6dVpIINYklI",
        "ijmpgYnKYklI",
        "-JiQyfWJYklI",
        "EM7whBJCYoAo",
        "fge-S5ZAYoAp",
        "85gYPyotYoAp",
        "RoGjAbkUYoAp",
        "4Of9eVA-YrdM",
        "iky9q4vBYrdO",
        "F6T5p64dYrdO",
        "y-Ehk30pYrdP",
        "bamQiAODYuh1",
        "QHF8YVU7Yuh3",
        "GwzvFGzlYuh3",
        "qYpmQ266Yuh3",
        "OH-pJp9IphqM",
        "bbFf2-_FphqN",
        "_ouA3fa0phqN",
        "Seke61FWphqN",
        "PIIx-8_IphqN",
        "t27r6nlMphqO",
        "r2jJGEOYphqO",
        "b0JNsNcRphqO",
        "BZR9WyysphqO",
        "jj7wYXLtphqO",
        "eZrbJ2SmphqO",
        "rFu4xreNphqO",
        "YJ55k-q6phqO",
        "gCFgpxoyphqP",
        "OVtJsKN_phqQ",
        "lssrdh5qphqQ",
        "U2RJ9gkRphqQ",
        "1M8mcRywphqQ",
        "tgIPom80phqQ",
        "JMzcOPDDphqR",
        "x-EpHcCOp1ci",
        "X_VqEhTip1ck",
        "8zGJKyg5p1ck",
        "PVzmfK_Ep1ck",
        "n3dbpmDWp1ck",
        "ylSl6qgtp1ck",
        "ZWILFDl5p1ck",
        "M7G43BXep1ck",
        "Ag9LCva-p1cl",
        "E6MkPsBcp1cl",
        "2cELzS2fp1cl",
        "3MPXvC8up1cl",
        "NC_X3p0fY2L0",
        "UV0SzAkaZNRQ",
        "YPEH6qLeZNRQ",
        "q29F0dvdveiT",
        "EXh0U9oCveiU",
        "22aHeOlLveiV",
        "JcMwzZxoAimU",
        "8G2x9gOozGDZ",
        "gCX9965dhzqZ",
        "gIfDvo9L0UH2"
      ],
      "gpuType": "T4",
      "include_colab_link": true
    },
    "kernelspec": {
      "name": "python3",
      "display_name": "Python 3"
    },
    "language_info": {
      "name": "python"
    }
  },
  "cells": [
    {
      "cell_type": "markdown",
      "metadata": {
        "id": "view-in-github",
        "colab_type": "text"
      },
      "source": [
        "<a href=\"https://colab.research.google.com/github/Patrick-1324/Almabetter/blob/main/EDA_Prateek_Joshi.ipynb\" target=\"_parent\"><img src=\"https://colab.research.google.com/assets/colab-badge.svg\" alt=\"Open In Colab\"/></a>"
      ]
    },
    {
      "cell_type": "markdown",
      "source": [
        "# **Project Name**    -\n",
        "\n"
      ],
      "metadata": {
        "id": "vncDsAP0Gaoa"
      }
    },
    {
      "cell_type": "markdown",
      "source": [
        "##### **Project Type**    - EDA\n",
        "##### **Contribution**    - Individual\n",
        "##### **Team Member 1 -** Prateek Joshi\n"
      ],
      "metadata": {
        "id": "beRrZCGUAJYm"
      }
    },
    {
      "cell_type": "markdown",
      "source": [
        "# **Project Summary -**"
      ],
      "metadata": {
        "id": "FJNUwmbgGyua"
      }
    },
    {
      "cell_type": "markdown",
      "source": [
        "Telecom churn analysis is a critical process for understanding customer attrition and its impact on companies in the telecom industry. Churn, the rate at which customers discontinue services or switch to competitors, poses significant challenges to telecom companies like Orange S.A., a multinational telecommunications corporation.\n",
        "\n",
        "To gain insights into customer behavior and devise effective retention strategies, an exploratory data analysis was conducted on Orange Telecom's churn dataset. This dataset encompasses customer activity data, coupled with a churn label indicating subscription cancellations. With information from 51 unique states across the United States, this dataset holds immense potential for uncovering meaningful patterns.\n",
        "\n",
        "By studying customer demographics, service usage patterns, and other relevant indicators, we aimed to identify factors contributing to customer churn. Revenue loss, decreased profitability, market share erosion, and compromised brand image are some consequences of high churn rates. These effects create competitive disadvantages, forcing companies to invest significantly in customer acquisition and retention efforts.\n",
        "\n",
        "Our analysis of the Orange Telecom churn dataset sought to extract valuable insights that inform targeted retention strategies. By identifying correlations and patterns, we developed tailored approaches such as personalized offers, loyalty programs, and enhanced customer support. These strategies aim to boost satisfaction, minimize churn, and bolster the company's bottom line.\n",
        "\n",
        "Through the EDA process, we aim to empower Orange S.A. and other telecom companies with knowledge to mitigate churn's detrimental effects. Understanding the factors driving customer attrition allows companies to enhance service quality, improve customer experience, and foster long-term loyalty.\n",
        "\n",
        "In summary, telecom churn analysis plays a crucial role in the industry. By analyzing customer behavior and employing data-driven strategies, telecom companies can combat churn, mitigate its adverse effects, and ensure sustainable growth in a competitive market."
      ],
      "metadata": {
        "id": "F6v_1wHtG2nS"
      }
    },
    {
      "cell_type": "markdown",
      "source": [
        "# **GitHub Link -**"
      ],
      "metadata": {
        "id": "w6K7xa23Elo4"
      }
    },
    {
      "cell_type": "markdown",
      "source": [
        "Provide your GitHub Link here."
      ],
      "metadata": {
        "id": "h1o69JH3Eqqn"
      }
    },
    {
      "cell_type": "markdown",
      "source": [
        "# **Problem Statement**\n"
      ],
      "metadata": {
        "id": "yQaldy8SH6Dl"
      }
    },
    {
      "cell_type": "markdown",
      "source": [
        "As a data analyst, my aim is to perform data analysis (EDA) on mobile data and build predictive models to identify products that users can compete with. The database contains customer information, including features such as minutes of calls, data usage, customer demographics, and churn status."
      ],
      "metadata": {
        "id": "DpeJGUA3kjGy"
      }
    },
    {
      "cell_type": "markdown",
      "source": [
        "#### **Define Your Business Objective?**"
      ],
      "metadata": {
        "id": "PH-0ReGfmX4f"
      }
    },
    {
      "cell_type": "markdown",
      "source": [
        "The Objective of this project is to run a data analysis (EDA) of phone call data and discover insights that can help improve the performance of customer retention strategies. The motive of the analysis is to understand the factors that affect churn and to identify important patterns and relationships in data and strategies."
      ],
      "metadata": {
        "id": "PhDvGCAqmjP1"
      }
    },
    {
      "cell_type": "markdown",
      "source": [
        "Perform univariate analysis to understand the distribution and characteristics of variables such as customer demographics, call duration, service usage patterns, and other relevant factors. Visualize these variables using appropriate charts, histograms, or box plots. Conduct bivariate analysis to explore relationships between variables. For example, analyze the relationship between churn and factors such as call duration, customer tenure, or service plans. Use visualizations like scatter plots or correlation matrices to identify any patterns or correlations."
      ],
      "metadata": {
        "id": "M-3qroanwV7I"
      }
    },
    {
      "cell_type": "markdown",
      "source": [
        "# **General Guidelines** : -  "
      ],
      "metadata": {
        "id": "mDgbUHAGgjLW"
      }
    },
    {
      "cell_type": "markdown",
      "source": [
        "1.   Well-structured, formatted, and commented code is required.\n",
        "2.   Exception Handling, Production Grade Code & Deployment Ready Code will be a plus. Those students will be awarded some additional credits.\n",
        "     \n",
        "     The additional credits will have advantages over other students during Star Student selection.\n",
        "       \n",
        "             [ Note: - Deployment Ready Code is defined as, the whole .ipynb notebook should be executable in one go\n",
        "                       without a single error logged. ]\n",
        "\n",
        "3.   Each and every logic should have proper comments.\n",
        "4. You may add as many number of charts you want. Make Sure for each and every chart the following format should be answered.\n",
        "        \n",
        "\n",
        "```\n",
        "# Chart visualization code\n",
        "```\n",
        "            \n",
        "\n",
        "*   Why did you pick the specific chart?\n",
        "*   What is/are the insight(s) found from the chart?\n",
        "* Will the gained insights help creating a positive business impact?\n",
        "Are there any insights that lead to negative growth? Justify with specific reason.\n",
        "\n",
        "5. You have to create at least 20 logical & meaningful charts having important insights.\n",
        "\n",
        "\n",
        "[ Hints : - Do the Vizualization in  a structured way while following \"UBM\" Rule.\n",
        "\n",
        "U - Univariate Analysis,\n",
        "\n",
        "B - Bivariate Analysis (Numerical - Categorical, Numerical - Numerical, Categorical - Categorical)\n",
        "\n",
        "M - Multivariate Analysis\n",
        " ]\n",
        "\n",
        "\n",
        "\n"
      ],
      "metadata": {
        "id": "ZrxVaUj-hHfC"
      }
    },
    {
      "cell_type": "markdown",
      "source": [
        "# ***Let's Begin !***"
      ],
      "metadata": {
        "id": "O_i_v8NEhb9l"
      }
    },
    {
      "cell_type": "markdown",
      "source": [
        "## ***1. Know Your Data***"
      ],
      "metadata": {
        "id": "HhfV-JJviCcP"
      }
    },
    {
      "cell_type": "markdown",
      "source": [
        "### Import Libraries"
      ],
      "metadata": {
        "id": "Y3lxredqlCYt"
      }
    },
    {
      "cell_type": "code",
      "source": [
        "# Import Libraries\n",
        "import numpy as np\n",
        "import pandas as pd"
      ],
      "metadata": {
        "id": "M8Vqi-pPk-HR"
      },
      "execution_count": 1,
      "outputs": []
    },
    {
      "cell_type": "markdown",
      "source": [
        "### Dataset Loading"
      ],
      "metadata": {
        "id": "3RnN4peoiCZX"
      }
    },
    {
      "cell_type": "code",
      "source": [
        "# Load Dataset\n",
        "url = 'https://raw.githubusercontent.com/Patrick-1324/Almabetter/124210d0194dae68b6a271a556806dc4bb4ce0dc/Telecom%20Churn.csv'\n",
        "telecom_df = pd.read_csv(url)"
      ],
      "metadata": {
        "id": "4CkvbW_SlZ_R"
      },
      "execution_count": 2,
      "outputs": []
    },
    {
      "cell_type": "markdown",
      "source": [
        "### Dataset First View"
      ],
      "metadata": {
        "id": "x71ZqKXriCWQ"
      }
    },
    {
      "cell_type": "code",
      "source": [
        "# Dataset First Look\n",
        "print(\"Top 5 rows of the DataFrame: \")\n",
        "telecom_df.head()"
      ],
      "metadata": {
        "id": "LWNFOSvLl09H",
        "colab": {
          "base_uri": "https://localhost:8080/",
          "height": 302
        },
        "outputId": "695c2043-bfb2-4777-9445-14eb482a112d"
      },
      "execution_count": 3,
      "outputs": [
        {
          "output_type": "stream",
          "name": "stdout",
          "text": [
            "Top 5 rows of the DataFrame: \n"
          ]
        },
        {
          "output_type": "execute_result",
          "data": {
            "text/plain": [
              "  State  Account length  Area code International plan Voice mail plan  \\\n",
              "0    KS             128        415                 No             Yes   \n",
              "1    OH             107        415                 No             Yes   \n",
              "2    NJ             137        415                 No              No   \n",
              "3    OH              84        408                Yes              No   \n",
              "4    OK              75        415                Yes              No   \n",
              "\n",
              "   Number vmail messages  Total day minutes  Total day calls  \\\n",
              "0                     25              265.1              110   \n",
              "1                     26              161.6              123   \n",
              "2                      0              243.4              114   \n",
              "3                      0              299.4               71   \n",
              "4                      0              166.7              113   \n",
              "\n",
              "   Total day charge  Total eve minutes  Total eve calls  Total eve charge  \\\n",
              "0             45.07              197.4               99             16.78   \n",
              "1             27.47              195.5              103             16.62   \n",
              "2             41.38              121.2              110             10.30   \n",
              "3             50.90               61.9               88              5.26   \n",
              "4             28.34              148.3              122             12.61   \n",
              "\n",
              "   Total night minutes  Total night calls  Total night charge  \\\n",
              "0                244.7                 91               11.01   \n",
              "1                254.4                103               11.45   \n",
              "2                162.6                104                7.32   \n",
              "3                196.9                 89                8.86   \n",
              "4                186.9                121                8.41   \n",
              "\n",
              "   Total intl minutes  Total intl calls  Total intl charge  \\\n",
              "0                10.0                 3               2.70   \n",
              "1                13.7                 3               3.70   \n",
              "2                12.2                 5               3.29   \n",
              "3                 6.6                 7               1.78   \n",
              "4                10.1                 3               2.73   \n",
              "\n",
              "   Customer service calls  Churn  \n",
              "0                       1  False  \n",
              "1                       1  False  \n",
              "2                       0  False  \n",
              "3                       2  False  \n",
              "4                       3  False  "
            ],
            "text/html": [
              "\n",
              "\n",
              "  <div id=\"df-87adb1ab-1341-4da6-9868-81b94e138c32\">\n",
              "    <div class=\"colab-df-container\">\n",
              "      <div>\n",
              "<style scoped>\n",
              "    .dataframe tbody tr th:only-of-type {\n",
              "        vertical-align: middle;\n",
              "    }\n",
              "\n",
              "    .dataframe tbody tr th {\n",
              "        vertical-align: top;\n",
              "    }\n",
              "\n",
              "    .dataframe thead th {\n",
              "        text-align: right;\n",
              "    }\n",
              "</style>\n",
              "<table border=\"1\" class=\"dataframe\">\n",
              "  <thead>\n",
              "    <tr style=\"text-align: right;\">\n",
              "      <th></th>\n",
              "      <th>State</th>\n",
              "      <th>Account length</th>\n",
              "      <th>Area code</th>\n",
              "      <th>International plan</th>\n",
              "      <th>Voice mail plan</th>\n",
              "      <th>Number vmail messages</th>\n",
              "      <th>Total day minutes</th>\n",
              "      <th>Total day calls</th>\n",
              "      <th>Total day charge</th>\n",
              "      <th>Total eve minutes</th>\n",
              "      <th>Total eve calls</th>\n",
              "      <th>Total eve charge</th>\n",
              "      <th>Total night minutes</th>\n",
              "      <th>Total night calls</th>\n",
              "      <th>Total night charge</th>\n",
              "      <th>Total intl minutes</th>\n",
              "      <th>Total intl calls</th>\n",
              "      <th>Total intl charge</th>\n",
              "      <th>Customer service calls</th>\n",
              "      <th>Churn</th>\n",
              "    </tr>\n",
              "  </thead>\n",
              "  <tbody>\n",
              "    <tr>\n",
              "      <th>0</th>\n",
              "      <td>KS</td>\n",
              "      <td>128</td>\n",
              "      <td>415</td>\n",
              "      <td>No</td>\n",
              "      <td>Yes</td>\n",
              "      <td>25</td>\n",
              "      <td>265.1</td>\n",
              "      <td>110</td>\n",
              "      <td>45.07</td>\n",
              "      <td>197.4</td>\n",
              "      <td>99</td>\n",
              "      <td>16.78</td>\n",
              "      <td>244.7</td>\n",
              "      <td>91</td>\n",
              "      <td>11.01</td>\n",
              "      <td>10.0</td>\n",
              "      <td>3</td>\n",
              "      <td>2.70</td>\n",
              "      <td>1</td>\n",
              "      <td>False</td>\n",
              "    </tr>\n",
              "    <tr>\n",
              "      <th>1</th>\n",
              "      <td>OH</td>\n",
              "      <td>107</td>\n",
              "      <td>415</td>\n",
              "      <td>No</td>\n",
              "      <td>Yes</td>\n",
              "      <td>26</td>\n",
              "      <td>161.6</td>\n",
              "      <td>123</td>\n",
              "      <td>27.47</td>\n",
              "      <td>195.5</td>\n",
              "      <td>103</td>\n",
              "      <td>16.62</td>\n",
              "      <td>254.4</td>\n",
              "      <td>103</td>\n",
              "      <td>11.45</td>\n",
              "      <td>13.7</td>\n",
              "      <td>3</td>\n",
              "      <td>3.70</td>\n",
              "      <td>1</td>\n",
              "      <td>False</td>\n",
              "    </tr>\n",
              "    <tr>\n",
              "      <th>2</th>\n",
              "      <td>NJ</td>\n",
              "      <td>137</td>\n",
              "      <td>415</td>\n",
              "      <td>No</td>\n",
              "      <td>No</td>\n",
              "      <td>0</td>\n",
              "      <td>243.4</td>\n",
              "      <td>114</td>\n",
              "      <td>41.38</td>\n",
              "      <td>121.2</td>\n",
              "      <td>110</td>\n",
              "      <td>10.30</td>\n",
              "      <td>162.6</td>\n",
              "      <td>104</td>\n",
              "      <td>7.32</td>\n",
              "      <td>12.2</td>\n",
              "      <td>5</td>\n",
              "      <td>3.29</td>\n",
              "      <td>0</td>\n",
              "      <td>False</td>\n",
              "    </tr>\n",
              "    <tr>\n",
              "      <th>3</th>\n",
              "      <td>OH</td>\n",
              "      <td>84</td>\n",
              "      <td>408</td>\n",
              "      <td>Yes</td>\n",
              "      <td>No</td>\n",
              "      <td>0</td>\n",
              "      <td>299.4</td>\n",
              "      <td>71</td>\n",
              "      <td>50.90</td>\n",
              "      <td>61.9</td>\n",
              "      <td>88</td>\n",
              "      <td>5.26</td>\n",
              "      <td>196.9</td>\n",
              "      <td>89</td>\n",
              "      <td>8.86</td>\n",
              "      <td>6.6</td>\n",
              "      <td>7</td>\n",
              "      <td>1.78</td>\n",
              "      <td>2</td>\n",
              "      <td>False</td>\n",
              "    </tr>\n",
              "    <tr>\n",
              "      <th>4</th>\n",
              "      <td>OK</td>\n",
              "      <td>75</td>\n",
              "      <td>415</td>\n",
              "      <td>Yes</td>\n",
              "      <td>No</td>\n",
              "      <td>0</td>\n",
              "      <td>166.7</td>\n",
              "      <td>113</td>\n",
              "      <td>28.34</td>\n",
              "      <td>148.3</td>\n",
              "      <td>122</td>\n",
              "      <td>12.61</td>\n",
              "      <td>186.9</td>\n",
              "      <td>121</td>\n",
              "      <td>8.41</td>\n",
              "      <td>10.1</td>\n",
              "      <td>3</td>\n",
              "      <td>2.73</td>\n",
              "      <td>3</td>\n",
              "      <td>False</td>\n",
              "    </tr>\n",
              "  </tbody>\n",
              "</table>\n",
              "</div>\n",
              "      <button class=\"colab-df-convert\" onclick=\"convertToInteractive('df-87adb1ab-1341-4da6-9868-81b94e138c32')\"\n",
              "              title=\"Convert this dataframe to an interactive table.\"\n",
              "              style=\"display:none;\">\n",
              "\n",
              "  <svg xmlns=\"http://www.w3.org/2000/svg\" height=\"24px\"viewBox=\"0 0 24 24\"\n",
              "       width=\"24px\">\n",
              "    <path d=\"M0 0h24v24H0V0z\" fill=\"none\"/>\n",
              "    <path d=\"M18.56 5.44l.94 2.06.94-2.06 2.06-.94-2.06-.94-.94-2.06-.94 2.06-2.06.94zm-11 1L8.5 8.5l.94-2.06 2.06-.94-2.06-.94L8.5 2.5l-.94 2.06-2.06.94zm10 10l.94 2.06.94-2.06 2.06-.94-2.06-.94-.94-2.06-.94 2.06-2.06.94z\"/><path d=\"M17.41 7.96l-1.37-1.37c-.4-.4-.92-.59-1.43-.59-.52 0-1.04.2-1.43.59L10.3 9.45l-7.72 7.72c-.78.78-.78 2.05 0 2.83L4 21.41c.39.39.9.59 1.41.59.51 0 1.02-.2 1.41-.59l7.78-7.78 2.81-2.81c.8-.78.8-2.07 0-2.86zM5.41 20L4 18.59l7.72-7.72 1.47 1.35L5.41 20z\"/>\n",
              "  </svg>\n",
              "      </button>\n",
              "\n",
              "\n",
              "\n",
              "    <div id=\"df-433016ba-ff2e-4b5b-9712-a2ea01134a94\">\n",
              "      <button class=\"colab-df-quickchart\" onclick=\"quickchart('df-433016ba-ff2e-4b5b-9712-a2ea01134a94')\"\n",
              "              title=\"Suggest charts.\"\n",
              "              style=\"display:none;\">\n",
              "\n",
              "<svg xmlns=\"http://www.w3.org/2000/svg\" height=\"24px\"viewBox=\"0 0 24 24\"\n",
              "     width=\"24px\">\n",
              "    <g>\n",
              "        <path d=\"M19 3H5c-1.1 0-2 .9-2 2v14c0 1.1.9 2 2 2h14c1.1 0 2-.9 2-2V5c0-1.1-.9-2-2-2zM9 17H7v-7h2v7zm4 0h-2V7h2v10zm4 0h-2v-4h2v4z\"/>\n",
              "    </g>\n",
              "</svg>\n",
              "      </button>\n",
              "    </div>\n",
              "\n",
              "<style>\n",
              "  .colab-df-quickchart {\n",
              "    background-color: #E8F0FE;\n",
              "    border: none;\n",
              "    border-radius: 50%;\n",
              "    cursor: pointer;\n",
              "    display: none;\n",
              "    fill: #1967D2;\n",
              "    height: 32px;\n",
              "    padding: 0 0 0 0;\n",
              "    width: 32px;\n",
              "  }\n",
              "\n",
              "  .colab-df-quickchart:hover {\n",
              "    background-color: #E2EBFA;\n",
              "    box-shadow: 0px 1px 2px rgba(60, 64, 67, 0.3), 0px 1px 3px 1px rgba(60, 64, 67, 0.15);\n",
              "    fill: #174EA6;\n",
              "  }\n",
              "\n",
              "  [theme=dark] .colab-df-quickchart {\n",
              "    background-color: #3B4455;\n",
              "    fill: #D2E3FC;\n",
              "  }\n",
              "\n",
              "  [theme=dark] .colab-df-quickchart:hover {\n",
              "    background-color: #434B5C;\n",
              "    box-shadow: 0px 1px 3px 1px rgba(0, 0, 0, 0.15);\n",
              "    filter: drop-shadow(0px 1px 2px rgba(0, 0, 0, 0.3));\n",
              "    fill: #FFFFFF;\n",
              "  }\n",
              "</style>\n",
              "\n",
              "    <script>\n",
              "      async function quickchart(key) {\n",
              "        const containerElement = document.querySelector('#' + key);\n",
              "        const charts = await google.colab.kernel.invokeFunction(\n",
              "            'suggestCharts', [key], {});\n",
              "      }\n",
              "    </script>\n",
              "\n",
              "      <script>\n",
              "\n",
              "function displayQuickchartButton(domScope) {\n",
              "  let quickchartButtonEl =\n",
              "    domScope.querySelector('#df-433016ba-ff2e-4b5b-9712-a2ea01134a94 button.colab-df-quickchart');\n",
              "  quickchartButtonEl.style.display =\n",
              "    google.colab.kernel.accessAllowed ? 'block' : 'none';\n",
              "}\n",
              "\n",
              "        displayQuickchartButton(document);\n",
              "      </script>\n",
              "      <style>\n",
              "    .colab-df-container {\n",
              "      display:flex;\n",
              "      flex-wrap:wrap;\n",
              "      gap: 12px;\n",
              "    }\n",
              "\n",
              "    .colab-df-convert {\n",
              "      background-color: #E8F0FE;\n",
              "      border: none;\n",
              "      border-radius: 50%;\n",
              "      cursor: pointer;\n",
              "      display: none;\n",
              "      fill: #1967D2;\n",
              "      height: 32px;\n",
              "      padding: 0 0 0 0;\n",
              "      width: 32px;\n",
              "    }\n",
              "\n",
              "    .colab-df-convert:hover {\n",
              "      background-color: #E2EBFA;\n",
              "      box-shadow: 0px 1px 2px rgba(60, 64, 67, 0.3), 0px 1px 3px 1px rgba(60, 64, 67, 0.15);\n",
              "      fill: #174EA6;\n",
              "    }\n",
              "\n",
              "    [theme=dark] .colab-df-convert {\n",
              "      background-color: #3B4455;\n",
              "      fill: #D2E3FC;\n",
              "    }\n",
              "\n",
              "    [theme=dark] .colab-df-convert:hover {\n",
              "      background-color: #434B5C;\n",
              "      box-shadow: 0px 1px 3px 1px rgba(0, 0, 0, 0.15);\n",
              "      filter: drop-shadow(0px 1px 2px rgba(0, 0, 0, 0.3));\n",
              "      fill: #FFFFFF;\n",
              "    }\n",
              "  </style>\n",
              "\n",
              "      <script>\n",
              "        const buttonEl =\n",
              "          document.querySelector('#df-87adb1ab-1341-4da6-9868-81b94e138c32 button.colab-df-convert');\n",
              "        buttonEl.style.display =\n",
              "          google.colab.kernel.accessAllowed ? 'block' : 'none';\n",
              "\n",
              "        async function convertToInteractive(key) {\n",
              "          const element = document.querySelector('#df-87adb1ab-1341-4da6-9868-81b94e138c32');\n",
              "          const dataTable =\n",
              "            await google.colab.kernel.invokeFunction('convertToInteractive',\n",
              "                                                     [key], {});\n",
              "          if (!dataTable) return;\n",
              "\n",
              "          const docLinkHtml = 'Like what you see? Visit the ' +\n",
              "            '<a target=\"_blank\" href=https://colab.research.google.com/notebooks/data_table.ipynb>data table notebook</a>'\n",
              "            + ' to learn more about interactive tables.';\n",
              "          element.innerHTML = '';\n",
              "          dataTable['output_type'] = 'display_data';\n",
              "          await google.colab.output.renderOutput(dataTable, element);\n",
              "          const docLink = document.createElement('div');\n",
              "          docLink.innerHTML = docLinkHtml;\n",
              "          element.appendChild(docLink);\n",
              "        }\n",
              "      </script>\n",
              "    </div>\n",
              "  </div>\n"
            ]
          },
          "metadata": {},
          "execution_count": 3
        }
      ]
    },
    {
      "cell_type": "code",
      "source": [
        "print(\"last 5 rows of the DataFrame: \")\n",
        "telecom_df.tail()"
      ],
      "metadata": {
        "colab": {
          "base_uri": "https://localhost:8080/",
          "height": 302
        },
        "id": "12VCZXNOwxpo",
        "outputId": "d4693ad7-5fc5-46a4-d787-2eb71b9788fd"
      },
      "execution_count": 4,
      "outputs": [
        {
          "output_type": "stream",
          "name": "stdout",
          "text": [
            "last 5 rows of the DataFrame: \n"
          ]
        },
        {
          "output_type": "execute_result",
          "data": {
            "text/plain": [
              "     State  Account length  Area code International plan Voice mail plan  \\\n",
              "3328    AZ             192        415                 No             Yes   \n",
              "3329    WV              68        415                 No              No   \n",
              "3330    RI              28        510                 No              No   \n",
              "3331    CT             184        510                Yes              No   \n",
              "3332    TN              74        415                 No             Yes   \n",
              "\n",
              "      Number vmail messages  Total day minutes  Total day calls  \\\n",
              "3328                     36              156.2               77   \n",
              "3329                      0              231.1               57   \n",
              "3330                      0              180.8              109   \n",
              "3331                      0              213.8              105   \n",
              "3332                     25              234.4              113   \n",
              "\n",
              "      Total day charge  Total eve minutes  Total eve calls  Total eve charge  \\\n",
              "3328             26.55              215.5              126             18.32   \n",
              "3329             39.29              153.4               55             13.04   \n",
              "3330             30.74              288.8               58             24.55   \n",
              "3331             36.35              159.6               84             13.57   \n",
              "3332             39.85              265.9               82             22.60   \n",
              "\n",
              "      Total night minutes  Total night calls  Total night charge  \\\n",
              "3328                279.1                 83               12.56   \n",
              "3329                191.3                123                8.61   \n",
              "3330                191.9                 91                8.64   \n",
              "3331                139.2                137                6.26   \n",
              "3332                241.4                 77               10.86   \n",
              "\n",
              "      Total intl minutes  Total intl calls  Total intl charge  \\\n",
              "3328                 9.9                 6               2.67   \n",
              "3329                 9.6                 4               2.59   \n",
              "3330                14.1                 6               3.81   \n",
              "3331                 5.0                10               1.35   \n",
              "3332                13.7                 4               3.70   \n",
              "\n",
              "      Customer service calls  Churn  \n",
              "3328                       2  False  \n",
              "3329                       3  False  \n",
              "3330                       2  False  \n",
              "3331                       2  False  \n",
              "3332                       0  False  "
            ],
            "text/html": [
              "\n",
              "\n",
              "  <div id=\"df-e44ae71f-e8a2-4149-9ebb-0a57107c3484\">\n",
              "    <div class=\"colab-df-container\">\n",
              "      <div>\n",
              "<style scoped>\n",
              "    .dataframe tbody tr th:only-of-type {\n",
              "        vertical-align: middle;\n",
              "    }\n",
              "\n",
              "    .dataframe tbody tr th {\n",
              "        vertical-align: top;\n",
              "    }\n",
              "\n",
              "    .dataframe thead th {\n",
              "        text-align: right;\n",
              "    }\n",
              "</style>\n",
              "<table border=\"1\" class=\"dataframe\">\n",
              "  <thead>\n",
              "    <tr style=\"text-align: right;\">\n",
              "      <th></th>\n",
              "      <th>State</th>\n",
              "      <th>Account length</th>\n",
              "      <th>Area code</th>\n",
              "      <th>International plan</th>\n",
              "      <th>Voice mail plan</th>\n",
              "      <th>Number vmail messages</th>\n",
              "      <th>Total day minutes</th>\n",
              "      <th>Total day calls</th>\n",
              "      <th>Total day charge</th>\n",
              "      <th>Total eve minutes</th>\n",
              "      <th>Total eve calls</th>\n",
              "      <th>Total eve charge</th>\n",
              "      <th>Total night minutes</th>\n",
              "      <th>Total night calls</th>\n",
              "      <th>Total night charge</th>\n",
              "      <th>Total intl minutes</th>\n",
              "      <th>Total intl calls</th>\n",
              "      <th>Total intl charge</th>\n",
              "      <th>Customer service calls</th>\n",
              "      <th>Churn</th>\n",
              "    </tr>\n",
              "  </thead>\n",
              "  <tbody>\n",
              "    <tr>\n",
              "      <th>3328</th>\n",
              "      <td>AZ</td>\n",
              "      <td>192</td>\n",
              "      <td>415</td>\n",
              "      <td>No</td>\n",
              "      <td>Yes</td>\n",
              "      <td>36</td>\n",
              "      <td>156.2</td>\n",
              "      <td>77</td>\n",
              "      <td>26.55</td>\n",
              "      <td>215.5</td>\n",
              "      <td>126</td>\n",
              "      <td>18.32</td>\n",
              "      <td>279.1</td>\n",
              "      <td>83</td>\n",
              "      <td>12.56</td>\n",
              "      <td>9.9</td>\n",
              "      <td>6</td>\n",
              "      <td>2.67</td>\n",
              "      <td>2</td>\n",
              "      <td>False</td>\n",
              "    </tr>\n",
              "    <tr>\n",
              "      <th>3329</th>\n",
              "      <td>WV</td>\n",
              "      <td>68</td>\n",
              "      <td>415</td>\n",
              "      <td>No</td>\n",
              "      <td>No</td>\n",
              "      <td>0</td>\n",
              "      <td>231.1</td>\n",
              "      <td>57</td>\n",
              "      <td>39.29</td>\n",
              "      <td>153.4</td>\n",
              "      <td>55</td>\n",
              "      <td>13.04</td>\n",
              "      <td>191.3</td>\n",
              "      <td>123</td>\n",
              "      <td>8.61</td>\n",
              "      <td>9.6</td>\n",
              "      <td>4</td>\n",
              "      <td>2.59</td>\n",
              "      <td>3</td>\n",
              "      <td>False</td>\n",
              "    </tr>\n",
              "    <tr>\n",
              "      <th>3330</th>\n",
              "      <td>RI</td>\n",
              "      <td>28</td>\n",
              "      <td>510</td>\n",
              "      <td>No</td>\n",
              "      <td>No</td>\n",
              "      <td>0</td>\n",
              "      <td>180.8</td>\n",
              "      <td>109</td>\n",
              "      <td>30.74</td>\n",
              "      <td>288.8</td>\n",
              "      <td>58</td>\n",
              "      <td>24.55</td>\n",
              "      <td>191.9</td>\n",
              "      <td>91</td>\n",
              "      <td>8.64</td>\n",
              "      <td>14.1</td>\n",
              "      <td>6</td>\n",
              "      <td>3.81</td>\n",
              "      <td>2</td>\n",
              "      <td>False</td>\n",
              "    </tr>\n",
              "    <tr>\n",
              "      <th>3331</th>\n",
              "      <td>CT</td>\n",
              "      <td>184</td>\n",
              "      <td>510</td>\n",
              "      <td>Yes</td>\n",
              "      <td>No</td>\n",
              "      <td>0</td>\n",
              "      <td>213.8</td>\n",
              "      <td>105</td>\n",
              "      <td>36.35</td>\n",
              "      <td>159.6</td>\n",
              "      <td>84</td>\n",
              "      <td>13.57</td>\n",
              "      <td>139.2</td>\n",
              "      <td>137</td>\n",
              "      <td>6.26</td>\n",
              "      <td>5.0</td>\n",
              "      <td>10</td>\n",
              "      <td>1.35</td>\n",
              "      <td>2</td>\n",
              "      <td>False</td>\n",
              "    </tr>\n",
              "    <tr>\n",
              "      <th>3332</th>\n",
              "      <td>TN</td>\n",
              "      <td>74</td>\n",
              "      <td>415</td>\n",
              "      <td>No</td>\n",
              "      <td>Yes</td>\n",
              "      <td>25</td>\n",
              "      <td>234.4</td>\n",
              "      <td>113</td>\n",
              "      <td>39.85</td>\n",
              "      <td>265.9</td>\n",
              "      <td>82</td>\n",
              "      <td>22.60</td>\n",
              "      <td>241.4</td>\n",
              "      <td>77</td>\n",
              "      <td>10.86</td>\n",
              "      <td>13.7</td>\n",
              "      <td>4</td>\n",
              "      <td>3.70</td>\n",
              "      <td>0</td>\n",
              "      <td>False</td>\n",
              "    </tr>\n",
              "  </tbody>\n",
              "</table>\n",
              "</div>\n",
              "      <button class=\"colab-df-convert\" onclick=\"convertToInteractive('df-e44ae71f-e8a2-4149-9ebb-0a57107c3484')\"\n",
              "              title=\"Convert this dataframe to an interactive table.\"\n",
              "              style=\"display:none;\">\n",
              "\n",
              "  <svg xmlns=\"http://www.w3.org/2000/svg\" height=\"24px\"viewBox=\"0 0 24 24\"\n",
              "       width=\"24px\">\n",
              "    <path d=\"M0 0h24v24H0V0z\" fill=\"none\"/>\n",
              "    <path d=\"M18.56 5.44l.94 2.06.94-2.06 2.06-.94-2.06-.94-.94-2.06-.94 2.06-2.06.94zm-11 1L8.5 8.5l.94-2.06 2.06-.94-2.06-.94L8.5 2.5l-.94 2.06-2.06.94zm10 10l.94 2.06.94-2.06 2.06-.94-2.06-.94-.94-2.06-.94 2.06-2.06.94z\"/><path d=\"M17.41 7.96l-1.37-1.37c-.4-.4-.92-.59-1.43-.59-.52 0-1.04.2-1.43.59L10.3 9.45l-7.72 7.72c-.78.78-.78 2.05 0 2.83L4 21.41c.39.39.9.59 1.41.59.51 0 1.02-.2 1.41-.59l7.78-7.78 2.81-2.81c.8-.78.8-2.07 0-2.86zM5.41 20L4 18.59l7.72-7.72 1.47 1.35L5.41 20z\"/>\n",
              "  </svg>\n",
              "      </button>\n",
              "\n",
              "\n",
              "\n",
              "    <div id=\"df-261756ba-10dd-484c-904d-4f7877407346\">\n",
              "      <button class=\"colab-df-quickchart\" onclick=\"quickchart('df-261756ba-10dd-484c-904d-4f7877407346')\"\n",
              "              title=\"Suggest charts.\"\n",
              "              style=\"display:none;\">\n",
              "\n",
              "<svg xmlns=\"http://www.w3.org/2000/svg\" height=\"24px\"viewBox=\"0 0 24 24\"\n",
              "     width=\"24px\">\n",
              "    <g>\n",
              "        <path d=\"M19 3H5c-1.1 0-2 .9-2 2v14c0 1.1.9 2 2 2h14c1.1 0 2-.9 2-2V5c0-1.1-.9-2-2-2zM9 17H7v-7h2v7zm4 0h-2V7h2v10zm4 0h-2v-4h2v4z\"/>\n",
              "    </g>\n",
              "</svg>\n",
              "      </button>\n",
              "    </div>\n",
              "\n",
              "<style>\n",
              "  .colab-df-quickchart {\n",
              "    background-color: #E8F0FE;\n",
              "    border: none;\n",
              "    border-radius: 50%;\n",
              "    cursor: pointer;\n",
              "    display: none;\n",
              "    fill: #1967D2;\n",
              "    height: 32px;\n",
              "    padding: 0 0 0 0;\n",
              "    width: 32px;\n",
              "  }\n",
              "\n",
              "  .colab-df-quickchart:hover {\n",
              "    background-color: #E2EBFA;\n",
              "    box-shadow: 0px 1px 2px rgba(60, 64, 67, 0.3), 0px 1px 3px 1px rgba(60, 64, 67, 0.15);\n",
              "    fill: #174EA6;\n",
              "  }\n",
              "\n",
              "  [theme=dark] .colab-df-quickchart {\n",
              "    background-color: #3B4455;\n",
              "    fill: #D2E3FC;\n",
              "  }\n",
              "\n",
              "  [theme=dark] .colab-df-quickchart:hover {\n",
              "    background-color: #434B5C;\n",
              "    box-shadow: 0px 1px 3px 1px rgba(0, 0, 0, 0.15);\n",
              "    filter: drop-shadow(0px 1px 2px rgba(0, 0, 0, 0.3));\n",
              "    fill: #FFFFFF;\n",
              "  }\n",
              "</style>\n",
              "\n",
              "    <script>\n",
              "      async function quickchart(key) {\n",
              "        const containerElement = document.querySelector('#' + key);\n",
              "        const charts = await google.colab.kernel.invokeFunction(\n",
              "            'suggestCharts', [key], {});\n",
              "      }\n",
              "    </script>\n",
              "\n",
              "      <script>\n",
              "\n",
              "function displayQuickchartButton(domScope) {\n",
              "  let quickchartButtonEl =\n",
              "    domScope.querySelector('#df-261756ba-10dd-484c-904d-4f7877407346 button.colab-df-quickchart');\n",
              "  quickchartButtonEl.style.display =\n",
              "    google.colab.kernel.accessAllowed ? 'block' : 'none';\n",
              "}\n",
              "\n",
              "        displayQuickchartButton(document);\n",
              "      </script>\n",
              "      <style>\n",
              "    .colab-df-container {\n",
              "      display:flex;\n",
              "      flex-wrap:wrap;\n",
              "      gap: 12px;\n",
              "    }\n",
              "\n",
              "    .colab-df-convert {\n",
              "      background-color: #E8F0FE;\n",
              "      border: none;\n",
              "      border-radius: 50%;\n",
              "      cursor: pointer;\n",
              "      display: none;\n",
              "      fill: #1967D2;\n",
              "      height: 32px;\n",
              "      padding: 0 0 0 0;\n",
              "      width: 32px;\n",
              "    }\n",
              "\n",
              "    .colab-df-convert:hover {\n",
              "      background-color: #E2EBFA;\n",
              "      box-shadow: 0px 1px 2px rgba(60, 64, 67, 0.3), 0px 1px 3px 1px rgba(60, 64, 67, 0.15);\n",
              "      fill: #174EA6;\n",
              "    }\n",
              "\n",
              "    [theme=dark] .colab-df-convert {\n",
              "      background-color: #3B4455;\n",
              "      fill: #D2E3FC;\n",
              "    }\n",
              "\n",
              "    [theme=dark] .colab-df-convert:hover {\n",
              "      background-color: #434B5C;\n",
              "      box-shadow: 0px 1px 3px 1px rgba(0, 0, 0, 0.15);\n",
              "      filter: drop-shadow(0px 1px 2px rgba(0, 0, 0, 0.3));\n",
              "      fill: #FFFFFF;\n",
              "    }\n",
              "  </style>\n",
              "\n",
              "      <script>\n",
              "        const buttonEl =\n",
              "          document.querySelector('#df-e44ae71f-e8a2-4149-9ebb-0a57107c3484 button.colab-df-convert');\n",
              "        buttonEl.style.display =\n",
              "          google.colab.kernel.accessAllowed ? 'block' : 'none';\n",
              "\n",
              "        async function convertToInteractive(key) {\n",
              "          const element = document.querySelector('#df-e44ae71f-e8a2-4149-9ebb-0a57107c3484');\n",
              "          const dataTable =\n",
              "            await google.colab.kernel.invokeFunction('convertToInteractive',\n",
              "                                                     [key], {});\n",
              "          if (!dataTable) return;\n",
              "\n",
              "          const docLinkHtml = 'Like what you see? Visit the ' +\n",
              "            '<a target=\"_blank\" href=https://colab.research.google.com/notebooks/data_table.ipynb>data table notebook</a>'\n",
              "            + ' to learn more about interactive tables.';\n",
              "          element.innerHTML = '';\n",
              "          dataTable['output_type'] = 'display_data';\n",
              "          await google.colab.output.renderOutput(dataTable, element);\n",
              "          const docLink = document.createElement('div');\n",
              "          docLink.innerHTML = docLinkHtml;\n",
              "          element.appendChild(docLink);\n",
              "        }\n",
              "      </script>\n",
              "    </div>\n",
              "  </div>\n"
            ]
          },
          "metadata": {},
          "execution_count": 4
        }
      ]
    },
    {
      "cell_type": "markdown",
      "source": [
        "### Dataset Rows & Columns count"
      ],
      "metadata": {
        "id": "7hBIi_osiCS2"
      }
    },
    {
      "cell_type": "code",
      "source": [
        "# Dataset Rows & Columns count\n",
        "print(\"Number of rows:\", telecom_df.shape[0])\n",
        "print(\"Number of columns:\", telecom_df.shape[1])"
      ],
      "metadata": {
        "id": "Kllu7SJgmLij",
        "colab": {
          "base_uri": "https://localhost:8080/"
        },
        "outputId": "7f0c349e-571f-4343-da6e-a2343262578e"
      },
      "execution_count": 5,
      "outputs": [
        {
          "output_type": "stream",
          "name": "stdout",
          "text": [
            "Number of rows: 3333\n",
            "Number of columns: 20\n"
          ]
        }
      ]
    },
    {
      "cell_type": "markdown",
      "source": [
        "### Dataset Information"
      ],
      "metadata": {
        "id": "JlHwYmJAmNHm"
      }
    },
    {
      "cell_type": "code",
      "source": [
        "# Dataset Info\n",
        "print(\"Column DataTypes and Non-null Counts:\")\n",
        "print(telecom_df.info())  # View column data types and non-null values"
      ],
      "metadata": {
        "id": "e9hRXRi6meOf",
        "colab": {
          "base_uri": "https://localhost:8080/"
        },
        "outputId": "89a9ffc3-90f3-4a36-9c5f-e95372f34d49"
      },
      "execution_count": 6,
      "outputs": [
        {
          "output_type": "stream",
          "name": "stdout",
          "text": [
            "Column DataTypes and Non-null Counts:\n",
            "<class 'pandas.core.frame.DataFrame'>\n",
            "RangeIndex: 3333 entries, 0 to 3332\n",
            "Data columns (total 20 columns):\n",
            " #   Column                  Non-Null Count  Dtype  \n",
            "---  ------                  --------------  -----  \n",
            " 0   State                   3333 non-null   object \n",
            " 1   Account length          3333 non-null   int64  \n",
            " 2   Area code               3333 non-null   int64  \n",
            " 3   International plan      3333 non-null   object \n",
            " 4   Voice mail plan         3333 non-null   object \n",
            " 5   Number vmail messages   3333 non-null   int64  \n",
            " 6   Total day minutes       3333 non-null   float64\n",
            " 7   Total day calls         3333 non-null   int64  \n",
            " 8   Total day charge        3333 non-null   float64\n",
            " 9   Total eve minutes       3333 non-null   float64\n",
            " 10  Total eve calls         3333 non-null   int64  \n",
            " 11  Total eve charge        3333 non-null   float64\n",
            " 12  Total night minutes     3333 non-null   float64\n",
            " 13  Total night calls       3333 non-null   int64  \n",
            " 14  Total night charge      3333 non-null   float64\n",
            " 15  Total intl minutes      3333 non-null   float64\n",
            " 16  Total intl calls        3333 non-null   int64  \n",
            " 17  Total intl charge       3333 non-null   float64\n",
            " 18  Customer service calls  3333 non-null   int64  \n",
            " 19  Churn                   3333 non-null   bool   \n",
            "dtypes: bool(1), float64(8), int64(8), object(3)\n",
            "memory usage: 498.1+ KB\n",
            "None\n"
          ]
        }
      ]
    },
    {
      "cell_type": "markdown",
      "source": [
        "#### Duplicate Values"
      ],
      "metadata": {
        "id": "35m5QtbWiB9F"
      }
    },
    {
      "cell_type": "code",
      "source": [
        "# Dataset Duplicate Value Count\n",
        "duplicate_count = telecom_df.duplicated().sum()\n",
        "print(\"Number of duplicate values:\", duplicate_count)"
      ],
      "metadata": {
        "id": "1sLdpKYkmox0",
        "colab": {
          "base_uri": "https://localhost:8080/"
        },
        "outputId": "1b345644-e495-4df5-c1b0-e6059198db3e"
      },
      "execution_count": 7,
      "outputs": [
        {
          "output_type": "stream",
          "name": "stdout",
          "text": [
            "Number of duplicate values: 0\n"
          ]
        }
      ]
    },
    {
      "cell_type": "markdown",
      "source": [
        "#### Missing Values/Null Values"
      ],
      "metadata": {
        "id": "PoPl-ycgm1ru"
      }
    },
    {
      "cell_type": "code",
      "source": [
        "# Missing Values/Null Values Count\n",
        "print(\"Columns and their missing values:\")\n",
        "print(telecom_df.isnull().sum())\n",
        "miss_count = telecom_df.isnull().sum().sum()\n",
        "print(\"\\nColumns with missing values:\", miss_count)"
      ],
      "metadata": {
        "id": "GgHWkxvamxVg",
        "colab": {
          "base_uri": "https://localhost:8080/"
        },
        "outputId": "38c5d7f0-8482-4b88-cc4e-5faa047f62fc"
      },
      "execution_count": 8,
      "outputs": [
        {
          "output_type": "stream",
          "name": "stdout",
          "text": [
            "Columns and their missing values:\n",
            "State                     0\n",
            "Account length            0\n",
            "Area code                 0\n",
            "International plan        0\n",
            "Voice mail plan           0\n",
            "Number vmail messages     0\n",
            "Total day minutes         0\n",
            "Total day calls           0\n",
            "Total day charge          0\n",
            "Total eve minutes         0\n",
            "Total eve calls           0\n",
            "Total eve charge          0\n",
            "Total night minutes       0\n",
            "Total night calls         0\n",
            "Total night charge        0\n",
            "Total intl minutes        0\n",
            "Total intl calls          0\n",
            "Total intl charge         0\n",
            "Customer service calls    0\n",
            "Churn                     0\n",
            "dtype: int64\n",
            "\n",
            "Columns with missing values: 0\n"
          ]
        }
      ]
    },
    {
      "cell_type": "code",
      "source": [
        "# Visualizing the missing values"
      ],
      "metadata": {
        "id": "3q5wnI3om9sJ"
      },
      "execution_count": 69,
      "outputs": []
    },
    {
      "cell_type": "markdown",
      "source": [
        "### What did you know about your dataset?"
      ],
      "metadata": {
        "id": "H0kj-8xxnORC"
      }
    },
    {
      "cell_type": "markdown",
      "source": [
        "1. The dataset provided by Orange S.A. contains 20 columns and 3333 rows. The dataset consists of four major data types: bool (1), float64 (8), int64 (8), and object (3).\n",
        "\n",
        "2. During the initial inspection, it was determined that there are no null values present in the dataset, indicating that it is complete in terms of missing data.\n",
        "\n",
        "3. The numerical data in the dataset is represented by float64 (8) and int64 (8) data types. These numerical variables likely contain information such as call durations, charges, and other numerical measurements.\n",
        "\n",
        "4. Additionally, there are object (3) data types in the dataset that store categorical information such as state names, international plan status, and voice mail plan status. These variables provide context and additional details about the calls made to the service provider.\n",
        "\n",
        "5. By having this dataset, we can analyze various aspects of the calls made throughout a 24-hour day and explore relationships between different variables. This information can be valuable for understanding customer behavior, service usage patterns, and potentially identifying areas for improvement or optimization in the service provided by Orange S.A.\n",
        "\n",
        "6. In industry terms, this initial dataset overview provides a concise summary of the dataset's structure, including the data types, dimensions, presence of null values, and the types of information contained in the numerical and categorical variables."
      ],
      "metadata": {
        "id": "gfoNAAC-nUe_"
      }
    },
    {
      "cell_type": "markdown",
      "source": [
        "## ***2. Understanding Your Variables***"
      ],
      "metadata": {
        "id": "nA9Y7ga8ng1Z"
      }
    },
    {
      "cell_type": "code",
      "source": [
        "# Dataset Columns\n",
        "print(\"Column list:\")\n",
        "print(telecom_df.columns)"
      ],
      "metadata": {
        "id": "j7xfkqrt5Ag5",
        "colab": {
          "base_uri": "https://localhost:8080/"
        },
        "outputId": "8582f442-4002-4c79-c279-f143ef21d2ea"
      },
      "execution_count": 9,
      "outputs": [
        {
          "output_type": "stream",
          "name": "stdout",
          "text": [
            "Column list:\n",
            "Index(['State', 'Account length', 'Area code', 'International plan',\n",
            "       'Voice mail plan', 'Number vmail messages', 'Total day minutes',\n",
            "       'Total day calls', 'Total day charge', 'Total eve minutes',\n",
            "       'Total eve calls', 'Total eve charge', 'Total night minutes',\n",
            "       'Total night calls', 'Total night charge', 'Total intl minutes',\n",
            "       'Total intl calls', 'Total intl charge', 'Customer service calls',\n",
            "       'Churn'],\n",
            "      dtype='object')\n"
          ]
        }
      ]
    },
    {
      "cell_type": "code",
      "source": [
        "# Dataset Describe\n",
        "telecom_df.describe()"
      ],
      "metadata": {
        "id": "DnOaZdaE5Q5t",
        "colab": {
          "base_uri": "https://localhost:8080/",
          "height": 399
        },
        "outputId": "b580be55-f147-4d80-b2df-deda69010dd3"
      },
      "execution_count": 71,
      "outputs": [
        {
          "output_type": "execute_result",
          "data": {
            "text/plain": [
              "       Account length    Area code  Number vmail messages  Total day minutes  \\\n",
              "count     3333.000000  3333.000000            3333.000000        3333.000000   \n",
              "mean       101.064806   437.182418               8.099010         179.775098   \n",
              "std         39.822106    42.371290              13.688365          54.467389   \n",
              "min          1.000000   408.000000               0.000000           0.000000   \n",
              "25%         74.000000   408.000000               0.000000         143.700000   \n",
              "50%        101.000000   415.000000               0.000000         179.400000   \n",
              "75%        127.000000   510.000000              20.000000         216.400000   \n",
              "max        243.000000   510.000000              51.000000         350.800000   \n",
              "\n",
              "       Total day calls  Total day charge  Total eve minutes  Total eve calls  \\\n",
              "count      3333.000000       3333.000000        3333.000000      3333.000000   \n",
              "mean        100.435644         30.562307         200.980348       100.114311   \n",
              "std          20.069084          9.259435          50.713844        19.922625   \n",
              "min           0.000000          0.000000           0.000000         0.000000   \n",
              "25%          87.000000         24.430000         166.600000        87.000000   \n",
              "50%         101.000000         30.500000         201.400000       100.000000   \n",
              "75%         114.000000         36.790000         235.300000       114.000000   \n",
              "max         165.000000         59.640000         363.700000       170.000000   \n",
              "\n",
              "       Total eve charge  Total night minutes  Total night calls  \\\n",
              "count       3333.000000          3333.000000        3333.000000   \n",
              "mean          17.083540           200.872037         100.107711   \n",
              "std            4.310668            50.573847          19.568609   \n",
              "min            0.000000            23.200000          33.000000   \n",
              "25%           14.160000           167.000000          87.000000   \n",
              "50%           17.120000           201.200000         100.000000   \n",
              "75%           20.000000           235.300000         113.000000   \n",
              "max           30.910000           395.000000         175.000000   \n",
              "\n",
              "       Total night charge  Total intl minutes  Total intl calls  \\\n",
              "count         3333.000000         3333.000000       3333.000000   \n",
              "mean             9.039325           10.237294          4.479448   \n",
              "std              2.275873            2.791840          2.461214   \n",
              "min              1.040000            0.000000          0.000000   \n",
              "25%              7.520000            8.500000          3.000000   \n",
              "50%              9.050000           10.300000          4.000000   \n",
              "75%             10.590000           12.100000          6.000000   \n",
              "max             17.770000           20.000000         20.000000   \n",
              "\n",
              "       Total intl charge  Customer service calls  \n",
              "count        3333.000000             3333.000000  \n",
              "mean            2.764581                1.562856  \n",
              "std             0.753773                1.315491  \n",
              "min             0.000000                0.000000  \n",
              "25%             2.300000                1.000000  \n",
              "50%             2.780000                1.000000  \n",
              "75%             3.270000                2.000000  \n",
              "max             5.400000                9.000000  "
            ],
            "text/html": [
              "\n",
              "\n",
              "  <div id=\"df-ddb81ea7-e3ce-4c95-8810-baa94da75bfa\">\n",
              "    <div class=\"colab-df-container\">\n",
              "      <div>\n",
              "<style scoped>\n",
              "    .dataframe tbody tr th:only-of-type {\n",
              "        vertical-align: middle;\n",
              "    }\n",
              "\n",
              "    .dataframe tbody tr th {\n",
              "        vertical-align: top;\n",
              "    }\n",
              "\n",
              "    .dataframe thead th {\n",
              "        text-align: right;\n",
              "    }\n",
              "</style>\n",
              "<table border=\"1\" class=\"dataframe\">\n",
              "  <thead>\n",
              "    <tr style=\"text-align: right;\">\n",
              "      <th></th>\n",
              "      <th>Account length</th>\n",
              "      <th>Area code</th>\n",
              "      <th>Number vmail messages</th>\n",
              "      <th>Total day minutes</th>\n",
              "      <th>Total day calls</th>\n",
              "      <th>Total day charge</th>\n",
              "      <th>Total eve minutes</th>\n",
              "      <th>Total eve calls</th>\n",
              "      <th>Total eve charge</th>\n",
              "      <th>Total night minutes</th>\n",
              "      <th>Total night calls</th>\n",
              "      <th>Total night charge</th>\n",
              "      <th>Total intl minutes</th>\n",
              "      <th>Total intl calls</th>\n",
              "      <th>Total intl charge</th>\n",
              "      <th>Customer service calls</th>\n",
              "    </tr>\n",
              "  </thead>\n",
              "  <tbody>\n",
              "    <tr>\n",
              "      <th>count</th>\n",
              "      <td>3333.000000</td>\n",
              "      <td>3333.000000</td>\n",
              "      <td>3333.000000</td>\n",
              "      <td>3333.000000</td>\n",
              "      <td>3333.000000</td>\n",
              "      <td>3333.000000</td>\n",
              "      <td>3333.000000</td>\n",
              "      <td>3333.000000</td>\n",
              "      <td>3333.000000</td>\n",
              "      <td>3333.000000</td>\n",
              "      <td>3333.000000</td>\n",
              "      <td>3333.000000</td>\n",
              "      <td>3333.000000</td>\n",
              "      <td>3333.000000</td>\n",
              "      <td>3333.000000</td>\n",
              "      <td>3333.000000</td>\n",
              "    </tr>\n",
              "    <tr>\n",
              "      <th>mean</th>\n",
              "      <td>101.064806</td>\n",
              "      <td>437.182418</td>\n",
              "      <td>8.099010</td>\n",
              "      <td>179.775098</td>\n",
              "      <td>100.435644</td>\n",
              "      <td>30.562307</td>\n",
              "      <td>200.980348</td>\n",
              "      <td>100.114311</td>\n",
              "      <td>17.083540</td>\n",
              "      <td>200.872037</td>\n",
              "      <td>100.107711</td>\n",
              "      <td>9.039325</td>\n",
              "      <td>10.237294</td>\n",
              "      <td>4.479448</td>\n",
              "      <td>2.764581</td>\n",
              "      <td>1.562856</td>\n",
              "    </tr>\n",
              "    <tr>\n",
              "      <th>std</th>\n",
              "      <td>39.822106</td>\n",
              "      <td>42.371290</td>\n",
              "      <td>13.688365</td>\n",
              "      <td>54.467389</td>\n",
              "      <td>20.069084</td>\n",
              "      <td>9.259435</td>\n",
              "      <td>50.713844</td>\n",
              "      <td>19.922625</td>\n",
              "      <td>4.310668</td>\n",
              "      <td>50.573847</td>\n",
              "      <td>19.568609</td>\n",
              "      <td>2.275873</td>\n",
              "      <td>2.791840</td>\n",
              "      <td>2.461214</td>\n",
              "      <td>0.753773</td>\n",
              "      <td>1.315491</td>\n",
              "    </tr>\n",
              "    <tr>\n",
              "      <th>min</th>\n",
              "      <td>1.000000</td>\n",
              "      <td>408.000000</td>\n",
              "      <td>0.000000</td>\n",
              "      <td>0.000000</td>\n",
              "      <td>0.000000</td>\n",
              "      <td>0.000000</td>\n",
              "      <td>0.000000</td>\n",
              "      <td>0.000000</td>\n",
              "      <td>0.000000</td>\n",
              "      <td>23.200000</td>\n",
              "      <td>33.000000</td>\n",
              "      <td>1.040000</td>\n",
              "      <td>0.000000</td>\n",
              "      <td>0.000000</td>\n",
              "      <td>0.000000</td>\n",
              "      <td>0.000000</td>\n",
              "    </tr>\n",
              "    <tr>\n",
              "      <th>25%</th>\n",
              "      <td>74.000000</td>\n",
              "      <td>408.000000</td>\n",
              "      <td>0.000000</td>\n",
              "      <td>143.700000</td>\n",
              "      <td>87.000000</td>\n",
              "      <td>24.430000</td>\n",
              "      <td>166.600000</td>\n",
              "      <td>87.000000</td>\n",
              "      <td>14.160000</td>\n",
              "      <td>167.000000</td>\n",
              "      <td>87.000000</td>\n",
              "      <td>7.520000</td>\n",
              "      <td>8.500000</td>\n",
              "      <td>3.000000</td>\n",
              "      <td>2.300000</td>\n",
              "      <td>1.000000</td>\n",
              "    </tr>\n",
              "    <tr>\n",
              "      <th>50%</th>\n",
              "      <td>101.000000</td>\n",
              "      <td>415.000000</td>\n",
              "      <td>0.000000</td>\n",
              "      <td>179.400000</td>\n",
              "      <td>101.000000</td>\n",
              "      <td>30.500000</td>\n",
              "      <td>201.400000</td>\n",
              "      <td>100.000000</td>\n",
              "      <td>17.120000</td>\n",
              "      <td>201.200000</td>\n",
              "      <td>100.000000</td>\n",
              "      <td>9.050000</td>\n",
              "      <td>10.300000</td>\n",
              "      <td>4.000000</td>\n",
              "      <td>2.780000</td>\n",
              "      <td>1.000000</td>\n",
              "    </tr>\n",
              "    <tr>\n",
              "      <th>75%</th>\n",
              "      <td>127.000000</td>\n",
              "      <td>510.000000</td>\n",
              "      <td>20.000000</td>\n",
              "      <td>216.400000</td>\n",
              "      <td>114.000000</td>\n",
              "      <td>36.790000</td>\n",
              "      <td>235.300000</td>\n",
              "      <td>114.000000</td>\n",
              "      <td>20.000000</td>\n",
              "      <td>235.300000</td>\n",
              "      <td>113.000000</td>\n",
              "      <td>10.590000</td>\n",
              "      <td>12.100000</td>\n",
              "      <td>6.000000</td>\n",
              "      <td>3.270000</td>\n",
              "      <td>2.000000</td>\n",
              "    </tr>\n",
              "    <tr>\n",
              "      <th>max</th>\n",
              "      <td>243.000000</td>\n",
              "      <td>510.000000</td>\n",
              "      <td>51.000000</td>\n",
              "      <td>350.800000</td>\n",
              "      <td>165.000000</td>\n",
              "      <td>59.640000</td>\n",
              "      <td>363.700000</td>\n",
              "      <td>170.000000</td>\n",
              "      <td>30.910000</td>\n",
              "      <td>395.000000</td>\n",
              "      <td>175.000000</td>\n",
              "      <td>17.770000</td>\n",
              "      <td>20.000000</td>\n",
              "      <td>20.000000</td>\n",
              "      <td>5.400000</td>\n",
              "      <td>9.000000</td>\n",
              "    </tr>\n",
              "  </tbody>\n",
              "</table>\n",
              "</div>\n",
              "      <button class=\"colab-df-convert\" onclick=\"convertToInteractive('df-ddb81ea7-e3ce-4c95-8810-baa94da75bfa')\"\n",
              "              title=\"Convert this dataframe to an interactive table.\"\n",
              "              style=\"display:none;\">\n",
              "\n",
              "  <svg xmlns=\"http://www.w3.org/2000/svg\" height=\"24px\"viewBox=\"0 0 24 24\"\n",
              "       width=\"24px\">\n",
              "    <path d=\"M0 0h24v24H0V0z\" fill=\"none\"/>\n",
              "    <path d=\"M18.56 5.44l.94 2.06.94-2.06 2.06-.94-2.06-.94-.94-2.06-.94 2.06-2.06.94zm-11 1L8.5 8.5l.94-2.06 2.06-.94-2.06-.94L8.5 2.5l-.94 2.06-2.06.94zm10 10l.94 2.06.94-2.06 2.06-.94-2.06-.94-.94-2.06-.94 2.06-2.06.94z\"/><path d=\"M17.41 7.96l-1.37-1.37c-.4-.4-.92-.59-1.43-.59-.52 0-1.04.2-1.43.59L10.3 9.45l-7.72 7.72c-.78.78-.78 2.05 0 2.83L4 21.41c.39.39.9.59 1.41.59.51 0 1.02-.2 1.41-.59l7.78-7.78 2.81-2.81c.8-.78.8-2.07 0-2.86zM5.41 20L4 18.59l7.72-7.72 1.47 1.35L5.41 20z\"/>\n",
              "  </svg>\n",
              "      </button>\n",
              "\n",
              "\n",
              "\n",
              "    <div id=\"df-67b1c4d4-e9a6-4bac-a3ef-12c87782fce2\">\n",
              "      <button class=\"colab-df-quickchart\" onclick=\"quickchart('df-67b1c4d4-e9a6-4bac-a3ef-12c87782fce2')\"\n",
              "              title=\"Suggest charts.\"\n",
              "              style=\"display:none;\">\n",
              "\n",
              "<svg xmlns=\"http://www.w3.org/2000/svg\" height=\"24px\"viewBox=\"0 0 24 24\"\n",
              "     width=\"24px\">\n",
              "    <g>\n",
              "        <path d=\"M19 3H5c-1.1 0-2 .9-2 2v14c0 1.1.9 2 2 2h14c1.1 0 2-.9 2-2V5c0-1.1-.9-2-2-2zM9 17H7v-7h2v7zm4 0h-2V7h2v10zm4 0h-2v-4h2v4z\"/>\n",
              "    </g>\n",
              "</svg>\n",
              "      </button>\n",
              "    </div>\n",
              "\n",
              "<style>\n",
              "  .colab-df-quickchart {\n",
              "    background-color: #E8F0FE;\n",
              "    border: none;\n",
              "    border-radius: 50%;\n",
              "    cursor: pointer;\n",
              "    display: none;\n",
              "    fill: #1967D2;\n",
              "    height: 32px;\n",
              "    padding: 0 0 0 0;\n",
              "    width: 32px;\n",
              "  }\n",
              "\n",
              "  .colab-df-quickchart:hover {\n",
              "    background-color: #E2EBFA;\n",
              "    box-shadow: 0px 1px 2px rgba(60, 64, 67, 0.3), 0px 1px 3px 1px rgba(60, 64, 67, 0.15);\n",
              "    fill: #174EA6;\n",
              "  }\n",
              "\n",
              "  [theme=dark] .colab-df-quickchart {\n",
              "    background-color: #3B4455;\n",
              "    fill: #D2E3FC;\n",
              "  }\n",
              "\n",
              "  [theme=dark] .colab-df-quickchart:hover {\n",
              "    background-color: #434B5C;\n",
              "    box-shadow: 0px 1px 3px 1px rgba(0, 0, 0, 0.15);\n",
              "    filter: drop-shadow(0px 1px 2px rgba(0, 0, 0, 0.3));\n",
              "    fill: #FFFFFF;\n",
              "  }\n",
              "</style>\n",
              "\n",
              "    <script>\n",
              "      async function quickchart(key) {\n",
              "        const containerElement = document.querySelector('#' + key);\n",
              "        const charts = await google.colab.kernel.invokeFunction(\n",
              "            'suggestCharts', [key], {});\n",
              "      }\n",
              "    </script>\n",
              "\n",
              "      <script>\n",
              "\n",
              "function displayQuickchartButton(domScope) {\n",
              "  let quickchartButtonEl =\n",
              "    domScope.querySelector('#df-67b1c4d4-e9a6-4bac-a3ef-12c87782fce2 button.colab-df-quickchart');\n",
              "  quickchartButtonEl.style.display =\n",
              "    google.colab.kernel.accessAllowed ? 'block' : 'none';\n",
              "}\n",
              "\n",
              "        displayQuickchartButton(document);\n",
              "      </script>\n",
              "      <style>\n",
              "    .colab-df-container {\n",
              "      display:flex;\n",
              "      flex-wrap:wrap;\n",
              "      gap: 12px;\n",
              "    }\n",
              "\n",
              "    .colab-df-convert {\n",
              "      background-color: #E8F0FE;\n",
              "      border: none;\n",
              "      border-radius: 50%;\n",
              "      cursor: pointer;\n",
              "      display: none;\n",
              "      fill: #1967D2;\n",
              "      height: 32px;\n",
              "      padding: 0 0 0 0;\n",
              "      width: 32px;\n",
              "    }\n",
              "\n",
              "    .colab-df-convert:hover {\n",
              "      background-color: #E2EBFA;\n",
              "      box-shadow: 0px 1px 2px rgba(60, 64, 67, 0.3), 0px 1px 3px 1px rgba(60, 64, 67, 0.15);\n",
              "      fill: #174EA6;\n",
              "    }\n",
              "\n",
              "    [theme=dark] .colab-df-convert {\n",
              "      background-color: #3B4455;\n",
              "      fill: #D2E3FC;\n",
              "    }\n",
              "\n",
              "    [theme=dark] .colab-df-convert:hover {\n",
              "      background-color: #434B5C;\n",
              "      box-shadow: 0px 1px 3px 1px rgba(0, 0, 0, 0.15);\n",
              "      filter: drop-shadow(0px 1px 2px rgba(0, 0, 0, 0.3));\n",
              "      fill: #FFFFFF;\n",
              "    }\n",
              "  </style>\n",
              "\n",
              "      <script>\n",
              "        const buttonEl =\n",
              "          document.querySelector('#df-ddb81ea7-e3ce-4c95-8810-baa94da75bfa button.colab-df-convert');\n",
              "        buttonEl.style.display =\n",
              "          google.colab.kernel.accessAllowed ? 'block' : 'none';\n",
              "\n",
              "        async function convertToInteractive(key) {\n",
              "          const element = document.querySelector('#df-ddb81ea7-e3ce-4c95-8810-baa94da75bfa');\n",
              "          const dataTable =\n",
              "            await google.colab.kernel.invokeFunction('convertToInteractive',\n",
              "                                                     [key], {});\n",
              "          if (!dataTable) return;\n",
              "\n",
              "          const docLinkHtml = 'Like what you see? Visit the ' +\n",
              "            '<a target=\"_blank\" href=https://colab.research.google.com/notebooks/data_table.ipynb>data table notebook</a>'\n",
              "            + ' to learn more about interactive tables.';\n",
              "          element.innerHTML = '';\n",
              "          dataTable['output_type'] = 'display_data';\n",
              "          await google.colab.output.renderOutput(dataTable, element);\n",
              "          const docLink = document.createElement('div');\n",
              "          docLink.innerHTML = docLinkHtml;\n",
              "          element.appendChild(docLink);\n",
              "        }\n",
              "      </script>\n",
              "    </div>\n",
              "  </div>\n"
            ]
          },
          "metadata": {},
          "execution_count": 71
        }
      ]
    },
    {
      "cell_type": "code",
      "source": [
        "# Check Unique Values for each variable using a for loop\n",
        "print(telecom_df.nunique())"
      ],
      "metadata": {
        "colab": {
          "base_uri": "https://localhost:8080/"
        },
        "id": "SerPtHh6x7ZB",
        "outputId": "dc0da381-070b-446a-f50d-b469c0165ba5"
      },
      "execution_count": 10,
      "outputs": [
        {
          "output_type": "stream",
          "name": "stdout",
          "text": [
            "State                       51\n",
            "Account length             212\n",
            "Area code                    3\n",
            "International plan           2\n",
            "Voice mail plan              2\n",
            "Number vmail messages       46\n",
            "Total day minutes         1667\n",
            "Total day calls            119\n",
            "Total day charge          1667\n",
            "Total eve minutes         1611\n",
            "Total eve calls            123\n",
            "Total eve charge          1440\n",
            "Total night minutes       1591\n",
            "Total night calls          120\n",
            "Total night charge         933\n",
            "Total intl minutes         162\n",
            "Total intl calls            21\n",
            "Total intl charge          162\n",
            "Customer service calls      10\n",
            "Churn                        2\n",
            "dtype: int64\n"
          ]
        }
      ]
    },
    {
      "cell_type": "code",
      "source": [
        "#### State count DataFrame ####\n",
        "state_count = pd.DataFrame()\n",
        "state_count['State'] = telecom_df['State'].value_counts().index\n",
        "state_count['Count'] = telecom_df['State'].value_counts().values\n",
        "print(state_count.head())"
      ],
      "metadata": {
        "colab": {
          "base_uri": "https://localhost:8080/"
        },
        "id": "JgGHBubGyC_4",
        "outputId": "19b5a5d6-477f-4c57-d543-5933cc8f0799"
      },
      "execution_count": 11,
      "outputs": [
        {
          "output_type": "stream",
          "name": "stdout",
          "text": [
            "  State  Count\n",
            "0    WV    106\n",
            "1    MN     84\n",
            "2    NY     83\n",
            "3    AL     80\n",
            "4    WI     78\n"
          ]
        }
      ]
    },
    {
      "cell_type": "markdown",
      "source": [
        "### Variables Description"
      ],
      "metadata": {
        "id": "PBTbrJXOngz2"
      }
    },
    {
      "cell_type": "markdown",
      "source": [
        "#### **Name: State**\n",
        "Data Type: object(3)\n",
        "\n",
        "Description: The State data provides the state code of the user from the 51 unique states in the USA\n",
        "\n",
        "Example: 'OH' stands for OHIO\n",
        "\n",
        "Potential Insights: This data can be used to know the customer distribution throughout the USA\n",
        "\n",
        "### **Name: Account Length**\n",
        "Data Type: int64(8)\n",
        "\n",
        "Description: describes the length of the account\n",
        "\n",
        "Example: 243\n",
        "\n",
        "Potential Insights: Determine if customer tenure influences churn rate, if longer or shorter account lengths are associated with higher churn\n",
        "\n",
        "### **Name: Area Code**\n",
        "Data Type: int64\n",
        "\n",
        "Description: The code for the area in the United States of America\n",
        "\n",
        "Example: 415 relates to San Francisco\n",
        "\n",
        "Potential Insights: Identifying regions with higher or lower churn rates.\n",
        "\n",
        "### **Name: International Plan**\n",
        "Data Type: object(3)\n",
        "\n",
        "Description: Indicates if the Customer has active international calls\n",
        "\n",
        "Example: Yes\n",
        "\n",
        "Potential Insights: If customers with international plans have different churn behaviour; if international plan subscription affects churn likelihood.\n",
        "\n",
        "### **Name: Voice mail plan**\n",
        "Data Type: object(3)\n",
        "\n",
        "Description: Indicates if the Customer has an active voicemail plan\n",
        "\n",
        "Example: No\n",
        "\n",
        "Potential Insights: If customers with voice mail plans exhibit different churn patterns; if voice mail plan subscription influences churn rates.\n",
        "\n",
        "### **Name: Number Vmail messages**\n",
        "Data Type: int64(8)\n",
        "\n",
        "Description: describes the number of voicemail messages ranging from 0-50\n",
        "\n",
        "Example: 49\n",
        "\n",
        "Potential Insights: If the number of voicemail messages affects churn rates; if higher or lower usage of voicemail impacts customer retention.\n",
        "\n",
        "### **Name: Total day minutes**\n",
        "Data Type: float64(8)\n",
        "\n",
        "Description: Total number of minutes spent by customers in the morning\n",
        "\n",
        "Example: 54.46\n",
        "\n",
        "Potential Insights: if customers with high daytime usage are more likely to churn\n",
        "\n",
        "### **Name: Total day calls**\n",
        "Data Type: int64(8)\n",
        "\n",
        "Description: Total number of calls made by customers in the morning\n",
        "\n",
        "Example: 20\n",
        "\n",
        "Potential Insights: if customers with high daytime usage are more likely to churn\n",
        "\n",
        "### **Name: Total day charge**\n",
        "Data Type: float64(8)\n",
        "\n",
        "Description: Total charge to the customer in the morning\n",
        "\n",
        "Example: 64.86\n",
        "\n",
        "Potential Insights: if customers with high daytime usage are more likely to churn\n",
        "\n",
        "### **Name: Total eve minutes**\n",
        "Data Type: float64(8)\n",
        "\n",
        "Description: Total number of calls made by customers in the evening\n",
        "\n",
        "Example: 50.71\n",
        "\n",
        "Potential Insights: if customers with high evening usage are more likely to churn\n",
        "\n",
        "### **Name: Total eve calls**\n",
        "Data Type: int64(8)\n",
        "\n",
        "Description: Total number of calls made by customers in the evening\n",
        "\n",
        "Example: 19\n",
        "\n",
        "Potential Insights: if customers with high evening usage are more likely to churn\n",
        "\n",
        "### **Name: Total eve charge**\n",
        "Data Type: float64(8)\n",
        "\n",
        "Description: Total charge to the customers in the evening\n",
        "\n",
        "Example: 46.5\n",
        "\n",
        "Potential Insights: if customers with high evening usage are more likely to churn\n",
        "\n",
        "### **Name: Total night minutes**\n",
        "Data Type: float64(8)\n",
        "\n",
        "Description: Total number of minutes spent by customers in the night\n",
        "\n",
        "Example: 50.57\n",
        "\n",
        "Potential Insights: if higher or lower nighttime usage influences customer retention\n",
        "\n",
        "### **Name: Total night calls**\n",
        "Data Type: int64(8)\n",
        "\n",
        "Description: Total number of calls made by customers in the night\n",
        "\n",
        "Example: 20\n",
        "\n",
        "Potential Insights: if higher or lower nighttime usage influences customer retention\n",
        "\n",
        "### **Name: Total night charge**\n",
        "Data Type: float64(8)\n",
        "\n",
        "Description: Total charge to the customers in the night\n",
        "\n",
        "Example: 50.57\n",
        "\n",
        "Potential Insights: if higher or lower nighttime usage influences customer retention\n",
        "\n",
        "### **Name: Total intl minutes**\n",
        "Data Type: float64(8)\n",
        "\n",
        "Description: Total number of minutes spent by customers on international call\n",
        "\n",
        "Example: 50.57\n",
        "\n",
        "Potential Insights: if higher or lower international usage influences customer retention\n",
        "\n",
        "### **Name: Total intl calls**\n",
        "Data Type: int64(8)\n",
        "\n",
        "Description: Total number of international calls made by customers\n",
        "\n",
        "Example: 20\n",
        "\n",
        "Potential Insights: if international call usage affects churn rates\n",
        "\n",
        "### **Name: Total intl charge**\n",
        "Data Type: float64(8)\n",
        "\n",
        "Description: Total charge to the customers for international calls\n",
        "\n",
        "Example: 50.57\n",
        "\n",
        "Potential Insights: if international call charges affect churn rates\n",
        "\n",
        "### **Name: Customer service calls**\n",
        "Data Type: int64(8)\n",
        "\n",
        "Description: Total number of customer-support calls made by the customer\n",
        "\n",
        "Example: 50\n",
        "\n",
        "Potential Insights: if customers who contact customer service more frequently are more likely to churn\n",
        "\n",
        "### **Name: Churn**\n",
        "Data Type: bool(1)\n",
        "\n",
        "Description: indicates if there is a churn or not\n",
        "\n",
        "Example: False\n",
        "\n",
        "Potential Insights: Analyzing the churn rate and investigate factors influencing churn"
      ],
      "metadata": {
        "id": "aJV4KIxSnxay"
      }
    },
    {
      "cell_type": "markdown",
      "source": [
        "### Check Unique Values for each variable."
      ],
      "metadata": {
        "id": "u3PMJOP6ngxN"
      }
    },
    {
      "cell_type": "code",
      "source": [
        "# Check Unique Values for each variable.\n",
        "categorical_columns = ['State', 'Area code', 'International plan', 'Voice mail plan', 'Churn']\n",
        "\n",
        "for column in categorical_columns:\n",
        "    unique_values = telecom_df[column].unique()\n",
        "    print(f\"Unique values for column '{column}':\")\n",
        "    print(unique_values)\n",
        "    print()"
      ],
      "metadata": {
        "id": "zms12Yq5n-jE",
        "colab": {
          "base_uri": "https://localhost:8080/"
        },
        "outputId": "f42d32a0-09c2-4254-9334-0a7d1ad3cae3"
      },
      "execution_count": 12,
      "outputs": [
        {
          "output_type": "stream",
          "name": "stdout",
          "text": [
            "Unique values for column 'State':\n",
            "['KS' 'OH' 'NJ' 'OK' 'AL' 'MA' 'MO' 'LA' 'WV' 'IN' 'RI' 'IA' 'MT' 'NY'\n",
            " 'ID' 'VT' 'VA' 'TX' 'FL' 'CO' 'AZ' 'SC' 'NE' 'WY' 'HI' 'IL' 'NH' 'GA'\n",
            " 'AK' 'MD' 'AR' 'WI' 'OR' 'MI' 'DE' 'UT' 'CA' 'MN' 'SD' 'NC' 'WA' 'NM'\n",
            " 'NV' 'DC' 'KY' 'ME' 'MS' 'TN' 'PA' 'CT' 'ND']\n",
            "\n",
            "Unique values for column 'Area code':\n",
            "[415 408 510]\n",
            "\n",
            "Unique values for column 'International plan':\n",
            "['No' 'Yes']\n",
            "\n",
            "Unique values for column 'Voice mail plan':\n",
            "['Yes' 'No']\n",
            "\n",
            "Unique values for column 'Churn':\n",
            "[False  True]\n",
            "\n"
          ]
        }
      ]
    },
    {
      "cell_type": "markdown",
      "source": [
        "## 3. ***Data Wrangling***"
      ],
      "metadata": {
        "id": "dauF4eBmngu3"
      }
    },
    {
      "cell_type": "markdown",
      "source": [
        "### Data Wrangling Code"
      ],
      "metadata": {
        "id": "bKJF3rekwFvQ"
      }
    },
    {
      "cell_type": "code",
      "source": [
        "# Write your code to make your dataset analysis ready.\n",
        "# Copy the telecom_df so original_df so the original dataframe do not get affected\n",
        "df_copy = telecom_df.copy()\n",
        "\n",
        "# 1. State: This data can be used to know the customer distribution throughout the USA\n",
        "# A\n",
        "state_counts = telecom_df['State'].value_counts()\n",
        "state_counts_df = pd.DataFrame({'State': state_counts.index, 'Count': state_counts.values})\n",
        "state_counts_df.head()\n"
      ],
      "metadata": {
        "id": "wk-9a2fpoLcV",
        "colab": {
          "base_uri": "https://localhost:8080/",
          "height": 206
        },
        "outputId": "549f59a9-e36c-42b7-8d90-8a6b6d96ffe0"
      },
      "execution_count": 13,
      "outputs": [
        {
          "output_type": "execute_result",
          "data": {
            "text/plain": [
              "  State  Count\n",
              "0    WV    106\n",
              "1    MN     84\n",
              "2    NY     83\n",
              "3    AL     80\n",
              "4    WI     78"
            ],
            "text/html": [
              "\n",
              "\n",
              "  <div id=\"df-9053172d-41e7-4a04-87a9-fcd23d4eac73\">\n",
              "    <div class=\"colab-df-container\">\n",
              "      <div>\n",
              "<style scoped>\n",
              "    .dataframe tbody tr th:only-of-type {\n",
              "        vertical-align: middle;\n",
              "    }\n",
              "\n",
              "    .dataframe tbody tr th {\n",
              "        vertical-align: top;\n",
              "    }\n",
              "\n",
              "    .dataframe thead th {\n",
              "        text-align: right;\n",
              "    }\n",
              "</style>\n",
              "<table border=\"1\" class=\"dataframe\">\n",
              "  <thead>\n",
              "    <tr style=\"text-align: right;\">\n",
              "      <th></th>\n",
              "      <th>State</th>\n",
              "      <th>Count</th>\n",
              "    </tr>\n",
              "  </thead>\n",
              "  <tbody>\n",
              "    <tr>\n",
              "      <th>0</th>\n",
              "      <td>WV</td>\n",
              "      <td>106</td>\n",
              "    </tr>\n",
              "    <tr>\n",
              "      <th>1</th>\n",
              "      <td>MN</td>\n",
              "      <td>84</td>\n",
              "    </tr>\n",
              "    <tr>\n",
              "      <th>2</th>\n",
              "      <td>NY</td>\n",
              "      <td>83</td>\n",
              "    </tr>\n",
              "    <tr>\n",
              "      <th>3</th>\n",
              "      <td>AL</td>\n",
              "      <td>80</td>\n",
              "    </tr>\n",
              "    <tr>\n",
              "      <th>4</th>\n",
              "      <td>WI</td>\n",
              "      <td>78</td>\n",
              "    </tr>\n",
              "  </tbody>\n",
              "</table>\n",
              "</div>\n",
              "      <button class=\"colab-df-convert\" onclick=\"convertToInteractive('df-9053172d-41e7-4a04-87a9-fcd23d4eac73')\"\n",
              "              title=\"Convert this dataframe to an interactive table.\"\n",
              "              style=\"display:none;\">\n",
              "\n",
              "  <svg xmlns=\"http://www.w3.org/2000/svg\" height=\"24px\"viewBox=\"0 0 24 24\"\n",
              "       width=\"24px\">\n",
              "    <path d=\"M0 0h24v24H0V0z\" fill=\"none\"/>\n",
              "    <path d=\"M18.56 5.44l.94 2.06.94-2.06 2.06-.94-2.06-.94-.94-2.06-.94 2.06-2.06.94zm-11 1L8.5 8.5l.94-2.06 2.06-.94-2.06-.94L8.5 2.5l-.94 2.06-2.06.94zm10 10l.94 2.06.94-2.06 2.06-.94-2.06-.94-.94-2.06-.94 2.06-2.06.94z\"/><path d=\"M17.41 7.96l-1.37-1.37c-.4-.4-.92-.59-1.43-.59-.52 0-1.04.2-1.43.59L10.3 9.45l-7.72 7.72c-.78.78-.78 2.05 0 2.83L4 21.41c.39.39.9.59 1.41.59.51 0 1.02-.2 1.41-.59l7.78-7.78 2.81-2.81c.8-.78.8-2.07 0-2.86zM5.41 20L4 18.59l7.72-7.72 1.47 1.35L5.41 20z\"/>\n",
              "  </svg>\n",
              "      </button>\n",
              "\n",
              "\n",
              "\n",
              "    <div id=\"df-24fa2666-5f46-4e13-8330-f4688f98df3a\">\n",
              "      <button class=\"colab-df-quickchart\" onclick=\"quickchart('df-24fa2666-5f46-4e13-8330-f4688f98df3a')\"\n",
              "              title=\"Suggest charts.\"\n",
              "              style=\"display:none;\">\n",
              "\n",
              "<svg xmlns=\"http://www.w3.org/2000/svg\" height=\"24px\"viewBox=\"0 0 24 24\"\n",
              "     width=\"24px\">\n",
              "    <g>\n",
              "        <path d=\"M19 3H5c-1.1 0-2 .9-2 2v14c0 1.1.9 2 2 2h14c1.1 0 2-.9 2-2V5c0-1.1-.9-2-2-2zM9 17H7v-7h2v7zm4 0h-2V7h2v10zm4 0h-2v-4h2v4z\"/>\n",
              "    </g>\n",
              "</svg>\n",
              "      </button>\n",
              "    </div>\n",
              "\n",
              "<style>\n",
              "  .colab-df-quickchart {\n",
              "    background-color: #E8F0FE;\n",
              "    border: none;\n",
              "    border-radius: 50%;\n",
              "    cursor: pointer;\n",
              "    display: none;\n",
              "    fill: #1967D2;\n",
              "    height: 32px;\n",
              "    padding: 0 0 0 0;\n",
              "    width: 32px;\n",
              "  }\n",
              "\n",
              "  .colab-df-quickchart:hover {\n",
              "    background-color: #E2EBFA;\n",
              "    box-shadow: 0px 1px 2px rgba(60, 64, 67, 0.3), 0px 1px 3px 1px rgba(60, 64, 67, 0.15);\n",
              "    fill: #174EA6;\n",
              "  }\n",
              "\n",
              "  [theme=dark] .colab-df-quickchart {\n",
              "    background-color: #3B4455;\n",
              "    fill: #D2E3FC;\n",
              "  }\n",
              "\n",
              "  [theme=dark] .colab-df-quickchart:hover {\n",
              "    background-color: #434B5C;\n",
              "    box-shadow: 0px 1px 3px 1px rgba(0, 0, 0, 0.15);\n",
              "    filter: drop-shadow(0px 1px 2px rgba(0, 0, 0, 0.3));\n",
              "    fill: #FFFFFF;\n",
              "  }\n",
              "</style>\n",
              "\n",
              "    <script>\n",
              "      async function quickchart(key) {\n",
              "        const containerElement = document.querySelector('#' + key);\n",
              "        const charts = await google.colab.kernel.invokeFunction(\n",
              "            'suggestCharts', [key], {});\n",
              "      }\n",
              "    </script>\n",
              "\n",
              "      <script>\n",
              "\n",
              "function displayQuickchartButton(domScope) {\n",
              "  let quickchartButtonEl =\n",
              "    domScope.querySelector('#df-24fa2666-5f46-4e13-8330-f4688f98df3a button.colab-df-quickchart');\n",
              "  quickchartButtonEl.style.display =\n",
              "    google.colab.kernel.accessAllowed ? 'block' : 'none';\n",
              "}\n",
              "\n",
              "        displayQuickchartButton(document);\n",
              "      </script>\n",
              "      <style>\n",
              "    .colab-df-container {\n",
              "      display:flex;\n",
              "      flex-wrap:wrap;\n",
              "      gap: 12px;\n",
              "    }\n",
              "\n",
              "    .colab-df-convert {\n",
              "      background-color: #E8F0FE;\n",
              "      border: none;\n",
              "      border-radius: 50%;\n",
              "      cursor: pointer;\n",
              "      display: none;\n",
              "      fill: #1967D2;\n",
              "      height: 32px;\n",
              "      padding: 0 0 0 0;\n",
              "      width: 32px;\n",
              "    }\n",
              "\n",
              "    .colab-df-convert:hover {\n",
              "      background-color: #E2EBFA;\n",
              "      box-shadow: 0px 1px 2px rgba(60, 64, 67, 0.3), 0px 1px 3px 1px rgba(60, 64, 67, 0.15);\n",
              "      fill: #174EA6;\n",
              "    }\n",
              "\n",
              "    [theme=dark] .colab-df-convert {\n",
              "      background-color: #3B4455;\n",
              "      fill: #D2E3FC;\n",
              "    }\n",
              "\n",
              "    [theme=dark] .colab-df-convert:hover {\n",
              "      background-color: #434B5C;\n",
              "      box-shadow: 0px 1px 3px 1px rgba(0, 0, 0, 0.15);\n",
              "      filter: drop-shadow(0px 1px 2px rgba(0, 0, 0, 0.3));\n",
              "      fill: #FFFFFF;\n",
              "    }\n",
              "  </style>\n",
              "\n",
              "      <script>\n",
              "        const buttonEl =\n",
              "          document.querySelector('#df-9053172d-41e7-4a04-87a9-fcd23d4eac73 button.colab-df-convert');\n",
              "        buttonEl.style.display =\n",
              "          google.colab.kernel.accessAllowed ? 'block' : 'none';\n",
              "\n",
              "        async function convertToInteractive(key) {\n",
              "          const element = document.querySelector('#df-9053172d-41e7-4a04-87a9-fcd23d4eac73');\n",
              "          const dataTable =\n",
              "            await google.colab.kernel.invokeFunction('convertToInteractive',\n",
              "                                                     [key], {});\n",
              "          if (!dataTable) return;\n",
              "\n",
              "          const docLinkHtml = 'Like what you see? Visit the ' +\n",
              "            '<a target=\"_blank\" href=https://colab.research.google.com/notebooks/data_table.ipynb>data table notebook</a>'\n",
              "            + ' to learn more about interactive tables.';\n",
              "          element.innerHTML = '';\n",
              "          dataTable['output_type'] = 'display_data';\n",
              "          await google.colab.output.renderOutput(dataTable, element);\n",
              "          const docLink = document.createElement('div');\n",
              "          docLink.innerHTML = docLinkHtml;\n",
              "          element.appendChild(docLink);\n",
              "        }\n",
              "      </script>\n",
              "    </div>\n",
              "  </div>\n"
            ]
          },
          "metadata": {},
          "execution_count": 13
        }
      ]
    },
    {
      "cell_type": "code",
      "source": [
        "# B Calculate the churn rate for each state\n",
        "state_wise_churn_rate = telecom_df.groupby('State')['Churn'].mean().reset_index()\n",
        "state_wise_churn_rate['Churn'] = (state_wise_churn_rate['Churn'] * 100).round(2)\n",
        "# Sort the data by churn rate in descending order for better visualization\n",
        "state_wise_churn_rate = state_wise_churn_rate.sort_values(by='Churn', ascending=False)\n",
        "statesBychurn_fst = state_wise_churn_rate.head()\n",
        "statesBychurn_lst = state_wise_churn_rate.tail()\n",
        "# Filter the data for the state \"CA\" (California)\n",
        "ca_df = telecom_df[telecom_df['State'] == 'CA']\n",
        "churn_counts_ca = ca_df['Churn'].value_counts()\n",
        "# Filter the data for the state \"HI\" (Hawaii)\n",
        "hi_df = telecom_df[telecom_df['State'] == 'HI']\n",
        "churn_counts_hi = hi_df['Churn'].value_counts()\n",
        "# statesBychurn_fst\n",
        "state_wise_churn_rate.head()"
      ],
      "metadata": {
        "colab": {
          "base_uri": "https://localhost:8080/",
          "height": 206
        },
        "id": "PdGMKLeaJkJv",
        "outputId": "390f995f-09cc-4dcc-b7c2-f61e38c4fa14"
      },
      "execution_count": 14,
      "outputs": [
        {
          "output_type": "execute_result",
          "data": {
            "text/plain": [
              "   State  Churn\n",
              "31    NJ  26.47\n",
              "4     CA  26.47\n",
              "43    TX  25.00\n",
              "20    MD  24.29\n",
              "40    SC  23.33"
            ],
            "text/html": [
              "\n",
              "\n",
              "  <div id=\"df-faed64d7-fda8-47c7-b86d-27f5631641c3\">\n",
              "    <div class=\"colab-df-container\">\n",
              "      <div>\n",
              "<style scoped>\n",
              "    .dataframe tbody tr th:only-of-type {\n",
              "        vertical-align: middle;\n",
              "    }\n",
              "\n",
              "    .dataframe tbody tr th {\n",
              "        vertical-align: top;\n",
              "    }\n",
              "\n",
              "    .dataframe thead th {\n",
              "        text-align: right;\n",
              "    }\n",
              "</style>\n",
              "<table border=\"1\" class=\"dataframe\">\n",
              "  <thead>\n",
              "    <tr style=\"text-align: right;\">\n",
              "      <th></th>\n",
              "      <th>State</th>\n",
              "      <th>Churn</th>\n",
              "    </tr>\n",
              "  </thead>\n",
              "  <tbody>\n",
              "    <tr>\n",
              "      <th>31</th>\n",
              "      <td>NJ</td>\n",
              "      <td>26.47</td>\n",
              "    </tr>\n",
              "    <tr>\n",
              "      <th>4</th>\n",
              "      <td>CA</td>\n",
              "      <td>26.47</td>\n",
              "    </tr>\n",
              "    <tr>\n",
              "      <th>43</th>\n",
              "      <td>TX</td>\n",
              "      <td>25.00</td>\n",
              "    </tr>\n",
              "    <tr>\n",
              "      <th>20</th>\n",
              "      <td>MD</td>\n",
              "      <td>24.29</td>\n",
              "    </tr>\n",
              "    <tr>\n",
              "      <th>40</th>\n",
              "      <td>SC</td>\n",
              "      <td>23.33</td>\n",
              "    </tr>\n",
              "  </tbody>\n",
              "</table>\n",
              "</div>\n",
              "      <button class=\"colab-df-convert\" onclick=\"convertToInteractive('df-faed64d7-fda8-47c7-b86d-27f5631641c3')\"\n",
              "              title=\"Convert this dataframe to an interactive table.\"\n",
              "              style=\"display:none;\">\n",
              "\n",
              "  <svg xmlns=\"http://www.w3.org/2000/svg\" height=\"24px\"viewBox=\"0 0 24 24\"\n",
              "       width=\"24px\">\n",
              "    <path d=\"M0 0h24v24H0V0z\" fill=\"none\"/>\n",
              "    <path d=\"M18.56 5.44l.94 2.06.94-2.06 2.06-.94-2.06-.94-.94-2.06-.94 2.06-2.06.94zm-11 1L8.5 8.5l.94-2.06 2.06-.94-2.06-.94L8.5 2.5l-.94 2.06-2.06.94zm10 10l.94 2.06.94-2.06 2.06-.94-2.06-.94-.94-2.06-.94 2.06-2.06.94z\"/><path d=\"M17.41 7.96l-1.37-1.37c-.4-.4-.92-.59-1.43-.59-.52 0-1.04.2-1.43.59L10.3 9.45l-7.72 7.72c-.78.78-.78 2.05 0 2.83L4 21.41c.39.39.9.59 1.41.59.51 0 1.02-.2 1.41-.59l7.78-7.78 2.81-2.81c.8-.78.8-2.07 0-2.86zM5.41 20L4 18.59l7.72-7.72 1.47 1.35L5.41 20z\"/>\n",
              "  </svg>\n",
              "      </button>\n",
              "\n",
              "\n",
              "\n",
              "    <div id=\"df-f65d15b2-21d7-439e-b1c7-d3c95fb6faca\">\n",
              "      <button class=\"colab-df-quickchart\" onclick=\"quickchart('df-f65d15b2-21d7-439e-b1c7-d3c95fb6faca')\"\n",
              "              title=\"Suggest charts.\"\n",
              "              style=\"display:none;\">\n",
              "\n",
              "<svg xmlns=\"http://www.w3.org/2000/svg\" height=\"24px\"viewBox=\"0 0 24 24\"\n",
              "     width=\"24px\">\n",
              "    <g>\n",
              "        <path d=\"M19 3H5c-1.1 0-2 .9-2 2v14c0 1.1.9 2 2 2h14c1.1 0 2-.9 2-2V5c0-1.1-.9-2-2-2zM9 17H7v-7h2v7zm4 0h-2V7h2v10zm4 0h-2v-4h2v4z\"/>\n",
              "    </g>\n",
              "</svg>\n",
              "      </button>\n",
              "    </div>\n",
              "\n",
              "<style>\n",
              "  .colab-df-quickchart {\n",
              "    background-color: #E8F0FE;\n",
              "    border: none;\n",
              "    border-radius: 50%;\n",
              "    cursor: pointer;\n",
              "    display: none;\n",
              "    fill: #1967D2;\n",
              "    height: 32px;\n",
              "    padding: 0 0 0 0;\n",
              "    width: 32px;\n",
              "  }\n",
              "\n",
              "  .colab-df-quickchart:hover {\n",
              "    background-color: #E2EBFA;\n",
              "    box-shadow: 0px 1px 2px rgba(60, 64, 67, 0.3), 0px 1px 3px 1px rgba(60, 64, 67, 0.15);\n",
              "    fill: #174EA6;\n",
              "  }\n",
              "\n",
              "  [theme=dark] .colab-df-quickchart {\n",
              "    background-color: #3B4455;\n",
              "    fill: #D2E3FC;\n",
              "  }\n",
              "\n",
              "  [theme=dark] .colab-df-quickchart:hover {\n",
              "    background-color: #434B5C;\n",
              "    box-shadow: 0px 1px 3px 1px rgba(0, 0, 0, 0.15);\n",
              "    filter: drop-shadow(0px 1px 2px rgba(0, 0, 0, 0.3));\n",
              "    fill: #FFFFFF;\n",
              "  }\n",
              "</style>\n",
              "\n",
              "    <script>\n",
              "      async function quickchart(key) {\n",
              "        const containerElement = document.querySelector('#' + key);\n",
              "        const charts = await google.colab.kernel.invokeFunction(\n",
              "            'suggestCharts', [key], {});\n",
              "      }\n",
              "    </script>\n",
              "\n",
              "      <script>\n",
              "\n",
              "function displayQuickchartButton(domScope) {\n",
              "  let quickchartButtonEl =\n",
              "    domScope.querySelector('#df-f65d15b2-21d7-439e-b1c7-d3c95fb6faca button.colab-df-quickchart');\n",
              "  quickchartButtonEl.style.display =\n",
              "    google.colab.kernel.accessAllowed ? 'block' : 'none';\n",
              "}\n",
              "\n",
              "        displayQuickchartButton(document);\n",
              "      </script>\n",
              "      <style>\n",
              "    .colab-df-container {\n",
              "      display:flex;\n",
              "      flex-wrap:wrap;\n",
              "      gap: 12px;\n",
              "    }\n",
              "\n",
              "    .colab-df-convert {\n",
              "      background-color: #E8F0FE;\n",
              "      border: none;\n",
              "      border-radius: 50%;\n",
              "      cursor: pointer;\n",
              "      display: none;\n",
              "      fill: #1967D2;\n",
              "      height: 32px;\n",
              "      padding: 0 0 0 0;\n",
              "      width: 32px;\n",
              "    }\n",
              "\n",
              "    .colab-df-convert:hover {\n",
              "      background-color: #E2EBFA;\n",
              "      box-shadow: 0px 1px 2px rgba(60, 64, 67, 0.3), 0px 1px 3px 1px rgba(60, 64, 67, 0.15);\n",
              "      fill: #174EA6;\n",
              "    }\n",
              "\n",
              "    [theme=dark] .colab-df-convert {\n",
              "      background-color: #3B4455;\n",
              "      fill: #D2E3FC;\n",
              "    }\n",
              "\n",
              "    [theme=dark] .colab-df-convert:hover {\n",
              "      background-color: #434B5C;\n",
              "      box-shadow: 0px 1px 3px 1px rgba(0, 0, 0, 0.15);\n",
              "      filter: drop-shadow(0px 1px 2px rgba(0, 0, 0, 0.3));\n",
              "      fill: #FFFFFF;\n",
              "    }\n",
              "  </style>\n",
              "\n",
              "      <script>\n",
              "        const buttonEl =\n",
              "          document.querySelector('#df-faed64d7-fda8-47c7-b86d-27f5631641c3 button.colab-df-convert');\n",
              "        buttonEl.style.display =\n",
              "          google.colab.kernel.accessAllowed ? 'block' : 'none';\n",
              "\n",
              "        async function convertToInteractive(key) {\n",
              "          const element = document.querySelector('#df-faed64d7-fda8-47c7-b86d-27f5631641c3');\n",
              "          const dataTable =\n",
              "            await google.colab.kernel.invokeFunction('convertToInteractive',\n",
              "                                                     [key], {});\n",
              "          if (!dataTable) return;\n",
              "\n",
              "          const docLinkHtml = 'Like what you see? Visit the ' +\n",
              "            '<a target=\"_blank\" href=https://colab.research.google.com/notebooks/data_table.ipynb>data table notebook</a>'\n",
              "            + ' to learn more about interactive tables.';\n",
              "          element.innerHTML = '';\n",
              "          dataTable['output_type'] = 'display_data';\n",
              "          await google.colab.output.renderOutput(dataTable, element);\n",
              "          const docLink = document.createElement('div');\n",
              "          docLink.innerHTML = docLinkHtml;\n",
              "          element.appendChild(docLink);\n",
              "        }\n",
              "      </script>\n",
              "    </div>\n",
              "  </div>\n"
            ]
          },
          "metadata": {},
          "execution_count": 14
        }
      ]
    },
    {
      "cell_type": "code",
      "source": [
        "# 2. Account Length: Determine if customer tenure influences churn rate, if longer or shorter account lengths are associated with higher churn\n",
        "churnBylength = telecom_df.groupby('Account length')['Churn'].mean()\n",
        "churnBylength = np.round(churnBylength*100, 2)\n",
        "# Convert churnBylength to a DataFrame for easier plotting\n",
        "churn_df = pd.DataFrame({'Account length': churnBylength.index, 'Churn Rate': churnBylength.values})\n",
        "churn_df.head()"
      ],
      "metadata": {
        "colab": {
          "base_uri": "https://localhost:8080/",
          "height": 206
        },
        "id": "uVoEeLAlJXq4",
        "outputId": "15e176bf-ad25-49d6-a20f-3d60c4ec65d9"
      },
      "execution_count": 15,
      "outputs": [
        {
          "output_type": "execute_result",
          "data": {
            "text/plain": [
              "   Account length  Churn Rate\n",
              "0               1        12.5\n",
              "1               2       100.0\n",
              "2               3         0.0\n",
              "3               4         0.0\n",
              "4               5         0.0"
            ],
            "text/html": [
              "\n",
              "\n",
              "  <div id=\"df-18bd302c-d967-4202-a906-dfcf93beea2b\">\n",
              "    <div class=\"colab-df-container\">\n",
              "      <div>\n",
              "<style scoped>\n",
              "    .dataframe tbody tr th:only-of-type {\n",
              "        vertical-align: middle;\n",
              "    }\n",
              "\n",
              "    .dataframe tbody tr th {\n",
              "        vertical-align: top;\n",
              "    }\n",
              "\n",
              "    .dataframe thead th {\n",
              "        text-align: right;\n",
              "    }\n",
              "</style>\n",
              "<table border=\"1\" class=\"dataframe\">\n",
              "  <thead>\n",
              "    <tr style=\"text-align: right;\">\n",
              "      <th></th>\n",
              "      <th>Account length</th>\n",
              "      <th>Churn Rate</th>\n",
              "    </tr>\n",
              "  </thead>\n",
              "  <tbody>\n",
              "    <tr>\n",
              "      <th>0</th>\n",
              "      <td>1</td>\n",
              "      <td>12.5</td>\n",
              "    </tr>\n",
              "    <tr>\n",
              "      <th>1</th>\n",
              "      <td>2</td>\n",
              "      <td>100.0</td>\n",
              "    </tr>\n",
              "    <tr>\n",
              "      <th>2</th>\n",
              "      <td>3</td>\n",
              "      <td>0.0</td>\n",
              "    </tr>\n",
              "    <tr>\n",
              "      <th>3</th>\n",
              "      <td>4</td>\n",
              "      <td>0.0</td>\n",
              "    </tr>\n",
              "    <tr>\n",
              "      <th>4</th>\n",
              "      <td>5</td>\n",
              "      <td>0.0</td>\n",
              "    </tr>\n",
              "  </tbody>\n",
              "</table>\n",
              "</div>\n",
              "      <button class=\"colab-df-convert\" onclick=\"convertToInteractive('df-18bd302c-d967-4202-a906-dfcf93beea2b')\"\n",
              "              title=\"Convert this dataframe to an interactive table.\"\n",
              "              style=\"display:none;\">\n",
              "\n",
              "  <svg xmlns=\"http://www.w3.org/2000/svg\" height=\"24px\"viewBox=\"0 0 24 24\"\n",
              "       width=\"24px\">\n",
              "    <path d=\"M0 0h24v24H0V0z\" fill=\"none\"/>\n",
              "    <path d=\"M18.56 5.44l.94 2.06.94-2.06 2.06-.94-2.06-.94-.94-2.06-.94 2.06-2.06.94zm-11 1L8.5 8.5l.94-2.06 2.06-.94-2.06-.94L8.5 2.5l-.94 2.06-2.06.94zm10 10l.94 2.06.94-2.06 2.06-.94-2.06-.94-.94-2.06-.94 2.06-2.06.94z\"/><path d=\"M17.41 7.96l-1.37-1.37c-.4-.4-.92-.59-1.43-.59-.52 0-1.04.2-1.43.59L10.3 9.45l-7.72 7.72c-.78.78-.78 2.05 0 2.83L4 21.41c.39.39.9.59 1.41.59.51 0 1.02-.2 1.41-.59l7.78-7.78 2.81-2.81c.8-.78.8-2.07 0-2.86zM5.41 20L4 18.59l7.72-7.72 1.47 1.35L5.41 20z\"/>\n",
              "  </svg>\n",
              "      </button>\n",
              "\n",
              "\n",
              "\n",
              "    <div id=\"df-2eff3d0b-d2a5-4542-aac8-d7f2f6a56bf1\">\n",
              "      <button class=\"colab-df-quickchart\" onclick=\"quickchart('df-2eff3d0b-d2a5-4542-aac8-d7f2f6a56bf1')\"\n",
              "              title=\"Suggest charts.\"\n",
              "              style=\"display:none;\">\n",
              "\n",
              "<svg xmlns=\"http://www.w3.org/2000/svg\" height=\"24px\"viewBox=\"0 0 24 24\"\n",
              "     width=\"24px\">\n",
              "    <g>\n",
              "        <path d=\"M19 3H5c-1.1 0-2 .9-2 2v14c0 1.1.9 2 2 2h14c1.1 0 2-.9 2-2V5c0-1.1-.9-2-2-2zM9 17H7v-7h2v7zm4 0h-2V7h2v10zm4 0h-2v-4h2v4z\"/>\n",
              "    </g>\n",
              "</svg>\n",
              "      </button>\n",
              "    </div>\n",
              "\n",
              "<style>\n",
              "  .colab-df-quickchart {\n",
              "    background-color: #E8F0FE;\n",
              "    border: none;\n",
              "    border-radius: 50%;\n",
              "    cursor: pointer;\n",
              "    display: none;\n",
              "    fill: #1967D2;\n",
              "    height: 32px;\n",
              "    padding: 0 0 0 0;\n",
              "    width: 32px;\n",
              "  }\n",
              "\n",
              "  .colab-df-quickchart:hover {\n",
              "    background-color: #E2EBFA;\n",
              "    box-shadow: 0px 1px 2px rgba(60, 64, 67, 0.3), 0px 1px 3px 1px rgba(60, 64, 67, 0.15);\n",
              "    fill: #174EA6;\n",
              "  }\n",
              "\n",
              "  [theme=dark] .colab-df-quickchart {\n",
              "    background-color: #3B4455;\n",
              "    fill: #D2E3FC;\n",
              "  }\n",
              "\n",
              "  [theme=dark] .colab-df-quickchart:hover {\n",
              "    background-color: #434B5C;\n",
              "    box-shadow: 0px 1px 3px 1px rgba(0, 0, 0, 0.15);\n",
              "    filter: drop-shadow(0px 1px 2px rgba(0, 0, 0, 0.3));\n",
              "    fill: #FFFFFF;\n",
              "  }\n",
              "</style>\n",
              "\n",
              "    <script>\n",
              "      async function quickchart(key) {\n",
              "        const containerElement = document.querySelector('#' + key);\n",
              "        const charts = await google.colab.kernel.invokeFunction(\n",
              "            'suggestCharts', [key], {});\n",
              "      }\n",
              "    </script>\n",
              "\n",
              "      <script>\n",
              "\n",
              "function displayQuickchartButton(domScope) {\n",
              "  let quickchartButtonEl =\n",
              "    domScope.querySelector('#df-2eff3d0b-d2a5-4542-aac8-d7f2f6a56bf1 button.colab-df-quickchart');\n",
              "  quickchartButtonEl.style.display =\n",
              "    google.colab.kernel.accessAllowed ? 'block' : 'none';\n",
              "}\n",
              "\n",
              "        displayQuickchartButton(document);\n",
              "      </script>\n",
              "      <style>\n",
              "    .colab-df-container {\n",
              "      display:flex;\n",
              "      flex-wrap:wrap;\n",
              "      gap: 12px;\n",
              "    }\n",
              "\n",
              "    .colab-df-convert {\n",
              "      background-color: #E8F0FE;\n",
              "      border: none;\n",
              "      border-radius: 50%;\n",
              "      cursor: pointer;\n",
              "      display: none;\n",
              "      fill: #1967D2;\n",
              "      height: 32px;\n",
              "      padding: 0 0 0 0;\n",
              "      width: 32px;\n",
              "    }\n",
              "\n",
              "    .colab-df-convert:hover {\n",
              "      background-color: #E2EBFA;\n",
              "      box-shadow: 0px 1px 2px rgba(60, 64, 67, 0.3), 0px 1px 3px 1px rgba(60, 64, 67, 0.15);\n",
              "      fill: #174EA6;\n",
              "    }\n",
              "\n",
              "    [theme=dark] .colab-df-convert {\n",
              "      background-color: #3B4455;\n",
              "      fill: #D2E3FC;\n",
              "    }\n",
              "\n",
              "    [theme=dark] .colab-df-convert:hover {\n",
              "      background-color: #434B5C;\n",
              "      box-shadow: 0px 1px 3px 1px rgba(0, 0, 0, 0.15);\n",
              "      filter: drop-shadow(0px 1px 2px rgba(0, 0, 0, 0.3));\n",
              "      fill: #FFFFFF;\n",
              "    }\n",
              "  </style>\n",
              "\n",
              "      <script>\n",
              "        const buttonEl =\n",
              "          document.querySelector('#df-18bd302c-d967-4202-a906-dfcf93beea2b button.colab-df-convert');\n",
              "        buttonEl.style.display =\n",
              "          google.colab.kernel.accessAllowed ? 'block' : 'none';\n",
              "\n",
              "        async function convertToInteractive(key) {\n",
              "          const element = document.querySelector('#df-18bd302c-d967-4202-a906-dfcf93beea2b');\n",
              "          const dataTable =\n",
              "            await google.colab.kernel.invokeFunction('convertToInteractive',\n",
              "                                                     [key], {});\n",
              "          if (!dataTable) return;\n",
              "\n",
              "          const docLinkHtml = 'Like what you see? Visit the ' +\n",
              "            '<a target=\"_blank\" href=https://colab.research.google.com/notebooks/data_table.ipynb>data table notebook</a>'\n",
              "            + ' to learn more about interactive tables.';\n",
              "          element.innerHTML = '';\n",
              "          dataTable['output_type'] = 'display_data';\n",
              "          await google.colab.output.renderOutput(dataTable, element);\n",
              "          const docLink = document.createElement('div');\n",
              "          docLink.innerHTML = docLinkHtml;\n",
              "          element.appendChild(docLink);\n",
              "        }\n",
              "      </script>\n",
              "    </div>\n",
              "  </div>\n"
            ]
          },
          "metadata": {},
          "execution_count": 15
        }
      ]
    },
    {
      "cell_type": "code",
      "source": [
        "# 3. Area Code: Identifying regions with higher or lower churn rates.\n",
        "# Calculate the average churn rate for each unique area code\n",
        "churnByAreaCode = telecom_df.groupby('Area code')['Churn'].mean()\n",
        "churnByAreaCode = (churnByAreaCode * 100).round(2)\n",
        "# Convert churnByAreaCode to a DataFrame\n",
        "churnByarea_df = churnByAreaCode.reset_index(name='Churn Rate')\n",
        "# Sort the DataFrame based on churn rate\n",
        "churnByarea_df.sort_values(by='Churn Rate', ascending=True, inplace=True)\n",
        "churnByarea_df.head()"
      ],
      "metadata": {
        "colab": {
          "base_uri": "https://localhost:8080/",
          "height": 143
        },
        "id": "KBeQSBv3K373",
        "outputId": "84b6a2f2-e553-41cf-ef1a-3cfaf56791c9"
      },
      "execution_count": 16,
      "outputs": [
        {
          "output_type": "execute_result",
          "data": {
            "text/plain": [
              "   Area code  Churn Rate\n",
              "1        415       14.26\n",
              "0        408       14.56\n",
              "2        510       14.88"
            ],
            "text/html": [
              "\n",
              "\n",
              "  <div id=\"df-02e8dcdc-750f-4bf5-8294-99a12722ddf7\">\n",
              "    <div class=\"colab-df-container\">\n",
              "      <div>\n",
              "<style scoped>\n",
              "    .dataframe tbody tr th:only-of-type {\n",
              "        vertical-align: middle;\n",
              "    }\n",
              "\n",
              "    .dataframe tbody tr th {\n",
              "        vertical-align: top;\n",
              "    }\n",
              "\n",
              "    .dataframe thead th {\n",
              "        text-align: right;\n",
              "    }\n",
              "</style>\n",
              "<table border=\"1\" class=\"dataframe\">\n",
              "  <thead>\n",
              "    <tr style=\"text-align: right;\">\n",
              "      <th></th>\n",
              "      <th>Area code</th>\n",
              "      <th>Churn Rate</th>\n",
              "    </tr>\n",
              "  </thead>\n",
              "  <tbody>\n",
              "    <tr>\n",
              "      <th>1</th>\n",
              "      <td>415</td>\n",
              "      <td>14.26</td>\n",
              "    </tr>\n",
              "    <tr>\n",
              "      <th>0</th>\n",
              "      <td>408</td>\n",
              "      <td>14.56</td>\n",
              "    </tr>\n",
              "    <tr>\n",
              "      <th>2</th>\n",
              "      <td>510</td>\n",
              "      <td>14.88</td>\n",
              "    </tr>\n",
              "  </tbody>\n",
              "</table>\n",
              "</div>\n",
              "      <button class=\"colab-df-convert\" onclick=\"convertToInteractive('df-02e8dcdc-750f-4bf5-8294-99a12722ddf7')\"\n",
              "              title=\"Convert this dataframe to an interactive table.\"\n",
              "              style=\"display:none;\">\n",
              "\n",
              "  <svg xmlns=\"http://www.w3.org/2000/svg\" height=\"24px\"viewBox=\"0 0 24 24\"\n",
              "       width=\"24px\">\n",
              "    <path d=\"M0 0h24v24H0V0z\" fill=\"none\"/>\n",
              "    <path d=\"M18.56 5.44l.94 2.06.94-2.06 2.06-.94-2.06-.94-.94-2.06-.94 2.06-2.06.94zm-11 1L8.5 8.5l.94-2.06 2.06-.94-2.06-.94L8.5 2.5l-.94 2.06-2.06.94zm10 10l.94 2.06.94-2.06 2.06-.94-2.06-.94-.94-2.06-.94 2.06-2.06.94z\"/><path d=\"M17.41 7.96l-1.37-1.37c-.4-.4-.92-.59-1.43-.59-.52 0-1.04.2-1.43.59L10.3 9.45l-7.72 7.72c-.78.78-.78 2.05 0 2.83L4 21.41c.39.39.9.59 1.41.59.51 0 1.02-.2 1.41-.59l7.78-7.78 2.81-2.81c.8-.78.8-2.07 0-2.86zM5.41 20L4 18.59l7.72-7.72 1.47 1.35L5.41 20z\"/>\n",
              "  </svg>\n",
              "      </button>\n",
              "\n",
              "\n",
              "\n",
              "    <div id=\"df-90da58a4-8610-431e-9154-a4a2191a26b5\">\n",
              "      <button class=\"colab-df-quickchart\" onclick=\"quickchart('df-90da58a4-8610-431e-9154-a4a2191a26b5')\"\n",
              "              title=\"Suggest charts.\"\n",
              "              style=\"display:none;\">\n",
              "\n",
              "<svg xmlns=\"http://www.w3.org/2000/svg\" height=\"24px\"viewBox=\"0 0 24 24\"\n",
              "     width=\"24px\">\n",
              "    <g>\n",
              "        <path d=\"M19 3H5c-1.1 0-2 .9-2 2v14c0 1.1.9 2 2 2h14c1.1 0 2-.9 2-2V5c0-1.1-.9-2-2-2zM9 17H7v-7h2v7zm4 0h-2V7h2v10zm4 0h-2v-4h2v4z\"/>\n",
              "    </g>\n",
              "</svg>\n",
              "      </button>\n",
              "    </div>\n",
              "\n",
              "<style>\n",
              "  .colab-df-quickchart {\n",
              "    background-color: #E8F0FE;\n",
              "    border: none;\n",
              "    border-radius: 50%;\n",
              "    cursor: pointer;\n",
              "    display: none;\n",
              "    fill: #1967D2;\n",
              "    height: 32px;\n",
              "    padding: 0 0 0 0;\n",
              "    width: 32px;\n",
              "  }\n",
              "\n",
              "  .colab-df-quickchart:hover {\n",
              "    background-color: #E2EBFA;\n",
              "    box-shadow: 0px 1px 2px rgba(60, 64, 67, 0.3), 0px 1px 3px 1px rgba(60, 64, 67, 0.15);\n",
              "    fill: #174EA6;\n",
              "  }\n",
              "\n",
              "  [theme=dark] .colab-df-quickchart {\n",
              "    background-color: #3B4455;\n",
              "    fill: #D2E3FC;\n",
              "  }\n",
              "\n",
              "  [theme=dark] .colab-df-quickchart:hover {\n",
              "    background-color: #434B5C;\n",
              "    box-shadow: 0px 1px 3px 1px rgba(0, 0, 0, 0.15);\n",
              "    filter: drop-shadow(0px 1px 2px rgba(0, 0, 0, 0.3));\n",
              "    fill: #FFFFFF;\n",
              "  }\n",
              "</style>\n",
              "\n",
              "    <script>\n",
              "      async function quickchart(key) {\n",
              "        const containerElement = document.querySelector('#' + key);\n",
              "        const charts = await google.colab.kernel.invokeFunction(\n",
              "            'suggestCharts', [key], {});\n",
              "      }\n",
              "    </script>\n",
              "\n",
              "      <script>\n",
              "\n",
              "function displayQuickchartButton(domScope) {\n",
              "  let quickchartButtonEl =\n",
              "    domScope.querySelector('#df-90da58a4-8610-431e-9154-a4a2191a26b5 button.colab-df-quickchart');\n",
              "  quickchartButtonEl.style.display =\n",
              "    google.colab.kernel.accessAllowed ? 'block' : 'none';\n",
              "}\n",
              "\n",
              "        displayQuickchartButton(document);\n",
              "      </script>\n",
              "      <style>\n",
              "    .colab-df-container {\n",
              "      display:flex;\n",
              "      flex-wrap:wrap;\n",
              "      gap: 12px;\n",
              "    }\n",
              "\n",
              "    .colab-df-convert {\n",
              "      background-color: #E8F0FE;\n",
              "      border: none;\n",
              "      border-radius: 50%;\n",
              "      cursor: pointer;\n",
              "      display: none;\n",
              "      fill: #1967D2;\n",
              "      height: 32px;\n",
              "      padding: 0 0 0 0;\n",
              "      width: 32px;\n",
              "    }\n",
              "\n",
              "    .colab-df-convert:hover {\n",
              "      background-color: #E2EBFA;\n",
              "      box-shadow: 0px 1px 2px rgba(60, 64, 67, 0.3), 0px 1px 3px 1px rgba(60, 64, 67, 0.15);\n",
              "      fill: #174EA6;\n",
              "    }\n",
              "\n",
              "    [theme=dark] .colab-df-convert {\n",
              "      background-color: #3B4455;\n",
              "      fill: #D2E3FC;\n",
              "    }\n",
              "\n",
              "    [theme=dark] .colab-df-convert:hover {\n",
              "      background-color: #434B5C;\n",
              "      box-shadow: 0px 1px 3px 1px rgba(0, 0, 0, 0.15);\n",
              "      filter: drop-shadow(0px 1px 2px rgba(0, 0, 0, 0.3));\n",
              "      fill: #FFFFFF;\n",
              "    }\n",
              "  </style>\n",
              "\n",
              "      <script>\n",
              "        const buttonEl =\n",
              "          document.querySelector('#df-02e8dcdc-750f-4bf5-8294-99a12722ddf7 button.colab-df-convert');\n",
              "        buttonEl.style.display =\n",
              "          google.colab.kernel.accessAllowed ? 'block' : 'none';\n",
              "\n",
              "        async function convertToInteractive(key) {\n",
              "          const element = document.querySelector('#df-02e8dcdc-750f-4bf5-8294-99a12722ddf7');\n",
              "          const dataTable =\n",
              "            await google.colab.kernel.invokeFunction('convertToInteractive',\n",
              "                                                     [key], {});\n",
              "          if (!dataTable) return;\n",
              "\n",
              "          const docLinkHtml = 'Like what you see? Visit the ' +\n",
              "            '<a target=\"_blank\" href=https://colab.research.google.com/notebooks/data_table.ipynb>data table notebook</a>'\n",
              "            + ' to learn more about interactive tables.';\n",
              "          element.innerHTML = '';\n",
              "          dataTable['output_type'] = 'display_data';\n",
              "          await google.colab.output.renderOutput(dataTable, element);\n",
              "          const docLink = document.createElement('div');\n",
              "          docLink.innerHTML = docLinkHtml;\n",
              "          element.appendChild(docLink);\n",
              "        }\n",
              "      </script>\n",
              "    </div>\n",
              "  </div>\n"
            ]
          },
          "metadata": {},
          "execution_count": 16
        }
      ]
    },
    {
      "cell_type": "code",
      "source": [
        "# 4. International Plan: If customers with international plans have different churn behaviour; if international plan subscription affects churn likelihood.\n",
        "churnbyiplan_df = telecom_df.groupby('International plan')['Churn'].mean().reset_index()\n",
        "churnbyiplan_df['Churn'] = round(churnbyiplan_df['Churn'] * 100,2)\n",
        "print(churnbyiplan_df.head())\n",
        "\n",
        "# 5. Voice mail plan: If customers with voice mail plans exhibit different churn patterns; if voice mail plan subscription influences churn rates.\n",
        "churnByvmp = telecom_df.groupby('Voice mail plan')['Churn'].mean()\n",
        "churnByvmp = (churnByvmp * 100).round(2).reset_index(name='Churn')\n",
        "print()\n",
        "print(churnByvmp)\n",
        "\n",
        "# # 6. Number Vmail messages : If the number of voicemail messages affects churn rates; if higher or lower usage of voicemail impacts customer retention.\n",
        "bin_edges = [0, 10, 20, 30, float('inf')]\n",
        "bin_labels = ['Low', 'Medium', 'High', 'Very High']\n",
        "df_copy['Voicemail Usage'] = pd.cut(df_copy['Number vmail messages'], bins=bin_edges, labels=bin_labels)\n",
        "churnByvmm = df_copy.groupby('Voicemail Usage')['Churn'].mean()\n",
        "churnByvmm = (churnByvmm * 100).round(2).reset_index(name = 'Churn')\n",
        "print()\n",
        "print(churnByvmm)"
      ],
      "metadata": {
        "colab": {
          "base_uri": "https://localhost:8080/"
        },
        "id": "hQMPFUetN7Ho",
        "outputId": "8c4928c4-a1bc-46f1-d5af-f40e0927f75c"
      },
      "execution_count": 18,
      "outputs": [
        {
          "output_type": "stream",
          "name": "stdout",
          "text": [
            "  International plan  Churn\n",
            "0                 No  11.50\n",
            "1                Yes  42.41\n",
            "\n",
            "  Voice mail plan  Churn\n",
            "0              No  16.72\n",
            "1             Yes   8.68\n",
            "\n",
            "  Voicemail Usage  Churn\n",
            "0             Low   0.00\n",
            "1          Medium   7.77\n",
            "2            High   7.35\n",
            "3       Very High  10.37\n"
          ]
        }
      ]
    },
    {
      "cell_type": "code",
      "source": [
        "# 7. Total day minutes : if customers with high daytime usage are more likely to churn\n",
        "bin_edges = [0, 143, 179, 216, 350]\n",
        "bin_labels = ['Low', 'Medium', 'High', 'Very High']\n",
        "df_copy['Daytime min Usage'] = pd.cut(df_copy['Total day minutes'], bins=bin_edges, labels=bin_labels)\n",
        "churnBytdm = df_copy.groupby('Daytime min Usage')['Churn'].mean()\n",
        "churnBytdm = (churnBytdm * 100).round(2).reset_index(name = 'Churn')\n",
        "print(churnBytdm, \"\\n\")\n",
        "\n",
        "\n",
        "# 8. Total day calls : if customers with high daytime usage are more likely to churn\n",
        "bin_edges = [0, 87, 101, 114, 165]\n",
        "bin_labels = ['Low', 'Medium', 'High', 'Very High']\n",
        "df_copy['Daytime calls Usage'] = pd.cut(df_copy['Total day calls'], bins=bin_edges, labels=bin_labels)\n",
        "churnBytdc = df_copy.groupby('Daytime calls Usage')['Churn'].mean()\n",
        "churnBytdc = (churnBytdc * 100).round(2).reset_index(name = 'Churn')\n",
        "print(churnBytdc, \"\\n\")\n",
        "\n",
        "\n",
        "# 9. Total day charge : if customers with high daytime usage are more likely to churn\n",
        "bin_edges = [0, 25, 30, 37, 60]\n",
        "bin_labels = ['Low', 'Medium', 'High', 'Very High']\n",
        "df_copy['Daytime charge Usage'] = pd.cut(df_copy['Total day charge'], bins=bin_edges, labels=bin_labels)\n",
        "churnBytdch = df_copy.groupby('Daytime charge Usage')['Churn'].mean()\n",
        "churnBytdch = (churnBytdch * 100).round(2).reset_index(name = 'Churn')\n",
        "print(churnBytdch, \"\\n\")\n"
      ],
      "metadata": {
        "colab": {
          "base_uri": "https://localhost:8080/"
        },
        "id": "e7vu-YaYQB3I",
        "outputId": "ce3cdd8d-015f-4484-dab5-fdaa2fb12095"
      },
      "execution_count": 19,
      "outputs": [
        {
          "output_type": "stream",
          "name": "stdout",
          "text": [
            "  Daytime min Usage  Churn\n",
            "0               Low  12.07\n",
            "1            Medium  10.87\n",
            "2              High   5.70\n",
            "3         Very High  29.08 \n",
            "\n",
            "  Daytime calls Usage  Churn\n",
            "0                 Low  14.30\n",
            "1              Medium  12.57\n",
            "2                High  14.53\n",
            "3           Very High  16.65 \n",
            "\n",
            "  Daytime charge Usage  Churn\n",
            "0                  Low  11.66\n",
            "1               Medium  11.50\n",
            "2                 High   6.04\n",
            "3            Very High  29.83 \n",
            "\n"
          ]
        }
      ]
    },
    {
      "cell_type": "code",
      "source": [
        "# 10. Total eve minutes : if customers with high evening usage are more likely to churn\n",
        "bin_edges = [0, 166, 201, 235, 360]\n",
        "bin_labels = ['Low', 'Medium', 'High', 'Very High']\n",
        "df_copy['Evetime mins Usage'] = pd.cut(df_copy['Total eve minutes'], bins=bin_edges, labels=bin_labels)\n",
        "churnBytem = df_copy.groupby('Evetime mins Usage')['Churn'].mean()\n",
        "churnBytem = (churnBytem * 100).round(2).reset_index(name = 'Churn')\n",
        "print(churnBytem, \"\\n\")\n",
        "\n",
        "# 11. Total eve calls : if customers with high evening usage are more likely to churn\n",
        "bin_edges = [0, 87, 100, 114, 170]\n",
        "bin_labels = ['Low', 'Medium', 'High', 'Very High']\n",
        "df_copy['Evetime calls Usage'] = pd.cut(df_copy['Total eve calls'], bins=bin_edges, labels=bin_labels)\n",
        "churnBytec = df_copy.groupby('Evetime calls Usage')['Churn'].mean()\n",
        "churnBytec = (churnBytec * 100).round(2).reset_index(name = 'Churn')\n",
        "print(churnBytec, \"\\n\")\n",
        "\n",
        "# 12. Total eve charge : if customers with high evening usage are more likely to churn\n",
        "bin_edges = [0, 10, 16, 20, 30]\n",
        "bin_labels = ['Low', 'Medium', 'High', 'Very High']\n",
        "df_copy['Evetime charge Usage'] = pd.cut(df_copy['Total eve charge'], bins=bin_edges, labels=bin_labels)\n",
        "churnBytech = df_copy.groupby('Evetime charge Usage')['Churn'].mean()\n",
        "churnBytech = (churnBytech * 100).round(2).reset_index(name = 'Churn')\n",
        "print(churnBytech, \"\\n\")"
      ],
      "metadata": {
        "colab": {
          "base_uri": "https://localhost:8080/"
        },
        "id": "dxdIl1wvSA6m",
        "outputId": "2f062e0a-c249-4013-c41e-43034b258f54"
      },
      "execution_count": 20,
      "outputs": [
        {
          "output_type": "stream",
          "name": "stdout",
          "text": [
            "  Evetime mins Usage  Churn\n",
            "0                Low   9.92\n",
            "1             Medium  13.81\n",
            "2               High  15.50\n",
            "3          Very High  18.62 \n",
            "\n",
            "  Evetime calls Usage  Churn\n",
            "0                 Low  14.17\n",
            "1              Medium  14.30\n",
            "2                High  14.84\n",
            "3           Very High  14.67 \n",
            "\n",
            "  Evetime charge Usage  Churn\n",
            "0                  Low   9.74\n",
            "1               Medium  12.34\n",
            "2                 High  14.27\n",
            "3            Very High  18.70 \n",
            "\n"
          ]
        }
      ]
    },
    {
      "cell_type": "code",
      "source": [
        "# 13. Total night minutes : if higher or lower nighttime usage influences customer retention\n",
        "bin_edges = [0, 167, 201, 235, 395]\n",
        "bin_labels = ['Low', 'Medium', 'High', 'Very High']\n",
        "df_copy['Nighttime mins Usage'] = pd.cut(df_copy['Total night minutes'], bins=bin_edges, labels=bin_labels)\n",
        "churnBytnm = df_copy.groupby('Nighttime mins Usage')['Churn'].mean()\n",
        "churnBytnm = (churnBytnm * 100).round(2).reset_index(name = 'Churn')\n",
        "print(churnBytnm, \"\\n\")\n",
        "\n",
        "# 14. Total night calls : if higher or lower nighttime usage influences customer retention\n",
        "bin_edges = [0, 87, 100, 113, 175]\n",
        "bin_labels = ['Low', 'Medium', 'High', 'Very High']\n",
        "df_copy['Nighttime calls Usage'] = pd.cut(df_copy['Total night calls'], bins=bin_edges, labels=bin_labels)\n",
        "churnBytnc = df_copy.groupby('Nighttime calls Usage')['Churn'].mean()\n",
        "churnBytnc = (churnBytnc * 100).round(2).reset_index(name = 'Churn')\n",
        "print(churnBytnc, \"\\n\")\n",
        "\n",
        "# 15. Total night charge : if higher or lower nighttime usage influences customer retention\n",
        "bin_edges = [0, 8, 9, 11, 18]\n",
        "bin_labels = ['Low', 'Medium', 'High', 'Very High']\n",
        "df_copy['Nighttime charge Usage'] = pd.cut(df_copy['Total night charge'], bins=bin_edges, labels=bin_labels)\n",
        "churnBytnch = df_copy.groupby('Nighttime charge Usage')['Churn'].mean()\n",
        "churnBytnch = (churnBytnch * 100).round(2).reset_index(name = 'Churn')\n",
        "print(churnBytnch, \"\\n\")"
      ],
      "metadata": {
        "colab": {
          "base_uri": "https://localhost:8080/"
        },
        "id": "NRIySNS8UBX4",
        "outputId": "ba176d08-b2b0-4a4b-dc04-e833e3544e21"
      },
      "execution_count": 22,
      "outputs": [
        {
          "output_type": "stream",
          "name": "stdout",
          "text": [
            "  Nighttime mins Usage  Churn\n",
            "0                  Low  11.99\n",
            "1               Medium  14.96\n",
            "2                 High  15.52\n",
            "3            Very High  15.49 \n",
            "\n",
            "  Nighttime calls Usage  Churn\n",
            "0                   Low  15.36\n",
            "1                Medium  13.48\n",
            "2                  High  12.53\n",
            "3             Very High  16.49 \n",
            "\n",
            "  Nighttime charge Usage  Churn\n",
            "0                    Low  13.08\n",
            "1                 Medium  14.39\n",
            "2                   High  15.32\n",
            "3              Very High  15.60 \n",
            "\n"
          ]
        }
      ]
    },
    {
      "cell_type": "code",
      "source": [
        "# 16. Total intl minutes : if higher or lower international usage influences customer retention\n",
        "bin_edges = [0, 8, 10, 12, 20]\n",
        "bin_labels = ['Low', 'Medium', 'High', 'Very High']\n",
        "df_copy['Intl mins Usage'] = pd.cut(df_copy['Total intl minutes'], bins=bin_edges, labels=bin_labels)\n",
        "churnByitm = df_copy.groupby('Intl mins Usage')['Churn'].mean()\n",
        "churnByitm = (churnByitm * 100).round(2).reset_index(name = 'Churn')\n",
        "print(churnByitm, \"\\n\")\n",
        "\n",
        "# 17. Total intl calls : if international call usage affects churn rates\n",
        "# bin_edges = [0, 3, 4, 6, 20]\n",
        "bin_edges = [0, 5, 10, 15, 20]\n",
        "bin_labels = ['Low', 'Medium', 'High', 'Very High']\n",
        "df_copy['Intl calls Usage'] = pd.cut(df_copy['Total intl calls'], bins=bin_edges, labels=bin_labels)\n",
        "churnByitc = df_copy.groupby('Intl calls Usage')['Churn'].mean()\n",
        "churnByitc = (churnByitc * 100).round(2).reset_index(name = 'Churn')\n",
        "print(churnByitc, \"\\n\")\n",
        "\n",
        "\n",
        "# 18. Total intl charge : if international call charges affect churn rates\n",
        "bin_edges = [0, 2, 3, 4, 6]\n",
        "bin_labels = ['Low', 'Medium', 'High', 'Very High']\n",
        "df_copy['Intl charge Usage'] = pd.cut(df_copy['Total intl charge'], bins=bin_edges, labels=bin_labels)\n",
        "churnByitch = df_copy.groupby('Intl charge Usage')['Churn'].mean()\n",
        "churnByitch = (churnByitch * 100).round(2).reset_index(name = 'Churn')\n",
        "print(churnByitch, \"\\n\")\n",
        "\n",
        "# Customer service calls : if customers who contact customer service more frequently are more likely to churn\n",
        "bin_edges = [0, 2, 4, 6, 9]\n",
        "bin_labels = ['Low', 'Medium', 'High', 'Very High']\n",
        "telecom_df['Customer calls Usage'] = pd.cut(telecom_df['Customer service calls'], bins=bin_edges, labels=bin_labels)\n",
        "churnBycsc = telecom_df.groupby('Customer calls Usage')['Churn'].mean()\n",
        "churnBycsc = (churnBycsc * 100).round(2).reset_index(name = 'Churn')\n",
        "print(churnBycsc, \"\\n\")"
      ],
      "metadata": {
        "colab": {
          "base_uri": "https://localhost:8080/"
        },
        "id": "4Jw1yBxMWEQh",
        "outputId": "2a261f38-9cd1-42a0-b9d3-9c8e9bbf5241"
      },
      "execution_count": 23,
      "outputs": [
        {
          "output_type": "stream",
          "name": "stdout",
          "text": [
            "  Intl mins Usage  Churn\n",
            "0             Low  11.67\n",
            "1          Medium  14.30\n",
            "2            High  14.00\n",
            "3       Very High  17.81 \n",
            "\n",
            "  Intl calls Usage  Churn\n",
            "0              Low  15.32\n",
            "1           Medium  12.42\n",
            "2             High  14.29\n",
            "3        Very High  12.50 \n",
            "\n",
            "  Intl charge Usage  Churn\n",
            "0               Low  11.64\n",
            "1            Medium  14.27\n",
            "2              High  15.94\n",
            "3         Very High  17.14 \n",
            "\n",
            "  Customer calls Usage  Churn\n",
            "0                  Low  10.77\n",
            "1               Medium  20.17\n",
            "2                 High  61.36\n",
            "3            Very High  61.54 \n",
            "\n"
          ]
        }
      ]
    },
    {
      "cell_type": "code",
      "source": [
        "df_copy.head(5)"
      ],
      "metadata": {
        "colab": {
          "base_uri": "https://localhost:8080/",
          "height": 421
        },
        "id": "0S7MYRlSXKaF",
        "outputId": "9956a92b-1dcc-41a7-c729-88db7ce1e2ae"
      },
      "execution_count": 24,
      "outputs": [
        {
          "output_type": "execute_result",
          "data": {
            "text/plain": [
              "  State  Account length  Area code International plan Voice mail plan  \\\n",
              "0    KS             128        415                 No             Yes   \n",
              "1    OH             107        415                 No             Yes   \n",
              "2    NJ             137        415                 No              No   \n",
              "3    OH              84        408                Yes              No   \n",
              "4    OK              75        415                Yes              No   \n",
              "\n",
              "   Number vmail messages  Total day minutes  Total day calls  \\\n",
              "0                     25              265.1              110   \n",
              "1                     26              161.6              123   \n",
              "2                      0              243.4              114   \n",
              "3                      0              299.4               71   \n",
              "4                      0              166.7              113   \n",
              "\n",
              "   Total day charge  Total eve minutes  ...  Daytime charge Usage  \\\n",
              "0             45.07              197.4  ...             Very High   \n",
              "1             27.47              195.5  ...                Medium   \n",
              "2             41.38              121.2  ...             Very High   \n",
              "3             50.90               61.9  ...             Very High   \n",
              "4             28.34              148.3  ...                Medium   \n",
              "\n",
              "   Evetime mins Usage  Evetime calls Usage  Evetime charge Usage  \\\n",
              "0              Medium               Medium                  High   \n",
              "1              Medium                 High                  High   \n",
              "2                 Low                 High                Medium   \n",
              "3                 Low               Medium                   Low   \n",
              "4                 Low            Very High                Medium   \n",
              "\n",
              "   Nighttime mins Usage  Nighttime calls Usage  Nighttime charge Usage  \\\n",
              "0             Very High                 Medium               Very High   \n",
              "1             Very High                   High               Very High   \n",
              "2                   Low                   High                     Low   \n",
              "3                Medium                 Medium                  Medium   \n",
              "4                Medium              Very High                  Medium   \n",
              "\n",
              "   Intl mins Usage  Intl calls Usage  Intl charge Usage  \n",
              "0           Medium               Low             Medium  \n",
              "1        Very High               Low               High  \n",
              "2        Very High               Low               High  \n",
              "3              Low            Medium                Low  \n",
              "4             High               Low             Medium  \n",
              "\n",
              "[5 rows x 33 columns]"
            ],
            "text/html": [
              "\n",
              "\n",
              "  <div id=\"df-4996126c-0f1e-4a4c-b9cc-c1737824e362\">\n",
              "    <div class=\"colab-df-container\">\n",
              "      <div>\n",
              "<style scoped>\n",
              "    .dataframe tbody tr th:only-of-type {\n",
              "        vertical-align: middle;\n",
              "    }\n",
              "\n",
              "    .dataframe tbody tr th {\n",
              "        vertical-align: top;\n",
              "    }\n",
              "\n",
              "    .dataframe thead th {\n",
              "        text-align: right;\n",
              "    }\n",
              "</style>\n",
              "<table border=\"1\" class=\"dataframe\">\n",
              "  <thead>\n",
              "    <tr style=\"text-align: right;\">\n",
              "      <th></th>\n",
              "      <th>State</th>\n",
              "      <th>Account length</th>\n",
              "      <th>Area code</th>\n",
              "      <th>International plan</th>\n",
              "      <th>Voice mail plan</th>\n",
              "      <th>Number vmail messages</th>\n",
              "      <th>Total day minutes</th>\n",
              "      <th>Total day calls</th>\n",
              "      <th>Total day charge</th>\n",
              "      <th>Total eve minutes</th>\n",
              "      <th>...</th>\n",
              "      <th>Daytime charge Usage</th>\n",
              "      <th>Evetime mins Usage</th>\n",
              "      <th>Evetime calls Usage</th>\n",
              "      <th>Evetime charge Usage</th>\n",
              "      <th>Nighttime mins Usage</th>\n",
              "      <th>Nighttime calls Usage</th>\n",
              "      <th>Nighttime charge Usage</th>\n",
              "      <th>Intl mins Usage</th>\n",
              "      <th>Intl calls Usage</th>\n",
              "      <th>Intl charge Usage</th>\n",
              "    </tr>\n",
              "  </thead>\n",
              "  <tbody>\n",
              "    <tr>\n",
              "      <th>0</th>\n",
              "      <td>KS</td>\n",
              "      <td>128</td>\n",
              "      <td>415</td>\n",
              "      <td>No</td>\n",
              "      <td>Yes</td>\n",
              "      <td>25</td>\n",
              "      <td>265.1</td>\n",
              "      <td>110</td>\n",
              "      <td>45.07</td>\n",
              "      <td>197.4</td>\n",
              "      <td>...</td>\n",
              "      <td>Very High</td>\n",
              "      <td>Medium</td>\n",
              "      <td>Medium</td>\n",
              "      <td>High</td>\n",
              "      <td>Very High</td>\n",
              "      <td>Medium</td>\n",
              "      <td>Very High</td>\n",
              "      <td>Medium</td>\n",
              "      <td>Low</td>\n",
              "      <td>Medium</td>\n",
              "    </tr>\n",
              "    <tr>\n",
              "      <th>1</th>\n",
              "      <td>OH</td>\n",
              "      <td>107</td>\n",
              "      <td>415</td>\n",
              "      <td>No</td>\n",
              "      <td>Yes</td>\n",
              "      <td>26</td>\n",
              "      <td>161.6</td>\n",
              "      <td>123</td>\n",
              "      <td>27.47</td>\n",
              "      <td>195.5</td>\n",
              "      <td>...</td>\n",
              "      <td>Medium</td>\n",
              "      <td>Medium</td>\n",
              "      <td>High</td>\n",
              "      <td>High</td>\n",
              "      <td>Very High</td>\n",
              "      <td>High</td>\n",
              "      <td>Very High</td>\n",
              "      <td>Very High</td>\n",
              "      <td>Low</td>\n",
              "      <td>High</td>\n",
              "    </tr>\n",
              "    <tr>\n",
              "      <th>2</th>\n",
              "      <td>NJ</td>\n",
              "      <td>137</td>\n",
              "      <td>415</td>\n",
              "      <td>No</td>\n",
              "      <td>No</td>\n",
              "      <td>0</td>\n",
              "      <td>243.4</td>\n",
              "      <td>114</td>\n",
              "      <td>41.38</td>\n",
              "      <td>121.2</td>\n",
              "      <td>...</td>\n",
              "      <td>Very High</td>\n",
              "      <td>Low</td>\n",
              "      <td>High</td>\n",
              "      <td>Medium</td>\n",
              "      <td>Low</td>\n",
              "      <td>High</td>\n",
              "      <td>Low</td>\n",
              "      <td>Very High</td>\n",
              "      <td>Low</td>\n",
              "      <td>High</td>\n",
              "    </tr>\n",
              "    <tr>\n",
              "      <th>3</th>\n",
              "      <td>OH</td>\n",
              "      <td>84</td>\n",
              "      <td>408</td>\n",
              "      <td>Yes</td>\n",
              "      <td>No</td>\n",
              "      <td>0</td>\n",
              "      <td>299.4</td>\n",
              "      <td>71</td>\n",
              "      <td>50.90</td>\n",
              "      <td>61.9</td>\n",
              "      <td>...</td>\n",
              "      <td>Very High</td>\n",
              "      <td>Low</td>\n",
              "      <td>Medium</td>\n",
              "      <td>Low</td>\n",
              "      <td>Medium</td>\n",
              "      <td>Medium</td>\n",
              "      <td>Medium</td>\n",
              "      <td>Low</td>\n",
              "      <td>Medium</td>\n",
              "      <td>Low</td>\n",
              "    </tr>\n",
              "    <tr>\n",
              "      <th>4</th>\n",
              "      <td>OK</td>\n",
              "      <td>75</td>\n",
              "      <td>415</td>\n",
              "      <td>Yes</td>\n",
              "      <td>No</td>\n",
              "      <td>0</td>\n",
              "      <td>166.7</td>\n",
              "      <td>113</td>\n",
              "      <td>28.34</td>\n",
              "      <td>148.3</td>\n",
              "      <td>...</td>\n",
              "      <td>Medium</td>\n",
              "      <td>Low</td>\n",
              "      <td>Very High</td>\n",
              "      <td>Medium</td>\n",
              "      <td>Medium</td>\n",
              "      <td>Very High</td>\n",
              "      <td>Medium</td>\n",
              "      <td>High</td>\n",
              "      <td>Low</td>\n",
              "      <td>Medium</td>\n",
              "    </tr>\n",
              "  </tbody>\n",
              "</table>\n",
              "<p>5 rows × 33 columns</p>\n",
              "</div>\n",
              "      <button class=\"colab-df-convert\" onclick=\"convertToInteractive('df-4996126c-0f1e-4a4c-b9cc-c1737824e362')\"\n",
              "              title=\"Convert this dataframe to an interactive table.\"\n",
              "              style=\"display:none;\">\n",
              "\n",
              "  <svg xmlns=\"http://www.w3.org/2000/svg\" height=\"24px\"viewBox=\"0 0 24 24\"\n",
              "       width=\"24px\">\n",
              "    <path d=\"M0 0h24v24H0V0z\" fill=\"none\"/>\n",
              "    <path d=\"M18.56 5.44l.94 2.06.94-2.06 2.06-.94-2.06-.94-.94-2.06-.94 2.06-2.06.94zm-11 1L8.5 8.5l.94-2.06 2.06-.94-2.06-.94L8.5 2.5l-.94 2.06-2.06.94zm10 10l.94 2.06.94-2.06 2.06-.94-2.06-.94-.94-2.06-.94 2.06-2.06.94z\"/><path d=\"M17.41 7.96l-1.37-1.37c-.4-.4-.92-.59-1.43-.59-.52 0-1.04.2-1.43.59L10.3 9.45l-7.72 7.72c-.78.78-.78 2.05 0 2.83L4 21.41c.39.39.9.59 1.41.59.51 0 1.02-.2 1.41-.59l7.78-7.78 2.81-2.81c.8-.78.8-2.07 0-2.86zM5.41 20L4 18.59l7.72-7.72 1.47 1.35L5.41 20z\"/>\n",
              "  </svg>\n",
              "      </button>\n",
              "\n",
              "\n",
              "\n",
              "    <div id=\"df-386e1fca-8abc-4d77-9026-dd920744902e\">\n",
              "      <button class=\"colab-df-quickchart\" onclick=\"quickchart('df-386e1fca-8abc-4d77-9026-dd920744902e')\"\n",
              "              title=\"Suggest charts.\"\n",
              "              style=\"display:none;\">\n",
              "\n",
              "<svg xmlns=\"http://www.w3.org/2000/svg\" height=\"24px\"viewBox=\"0 0 24 24\"\n",
              "     width=\"24px\">\n",
              "    <g>\n",
              "        <path d=\"M19 3H5c-1.1 0-2 .9-2 2v14c0 1.1.9 2 2 2h14c1.1 0 2-.9 2-2V5c0-1.1-.9-2-2-2zM9 17H7v-7h2v7zm4 0h-2V7h2v10zm4 0h-2v-4h2v4z\"/>\n",
              "    </g>\n",
              "</svg>\n",
              "      </button>\n",
              "    </div>\n",
              "\n",
              "<style>\n",
              "  .colab-df-quickchart {\n",
              "    background-color: #E8F0FE;\n",
              "    border: none;\n",
              "    border-radius: 50%;\n",
              "    cursor: pointer;\n",
              "    display: none;\n",
              "    fill: #1967D2;\n",
              "    height: 32px;\n",
              "    padding: 0 0 0 0;\n",
              "    width: 32px;\n",
              "  }\n",
              "\n",
              "  .colab-df-quickchart:hover {\n",
              "    background-color: #E2EBFA;\n",
              "    box-shadow: 0px 1px 2px rgba(60, 64, 67, 0.3), 0px 1px 3px 1px rgba(60, 64, 67, 0.15);\n",
              "    fill: #174EA6;\n",
              "  }\n",
              "\n",
              "  [theme=dark] .colab-df-quickchart {\n",
              "    background-color: #3B4455;\n",
              "    fill: #D2E3FC;\n",
              "  }\n",
              "\n",
              "  [theme=dark] .colab-df-quickchart:hover {\n",
              "    background-color: #434B5C;\n",
              "    box-shadow: 0px 1px 3px 1px rgba(0, 0, 0, 0.15);\n",
              "    filter: drop-shadow(0px 1px 2px rgba(0, 0, 0, 0.3));\n",
              "    fill: #FFFFFF;\n",
              "  }\n",
              "</style>\n",
              "\n",
              "    <script>\n",
              "      async function quickchart(key) {\n",
              "        const containerElement = document.querySelector('#' + key);\n",
              "        const charts = await google.colab.kernel.invokeFunction(\n",
              "            'suggestCharts', [key], {});\n",
              "      }\n",
              "    </script>\n",
              "\n",
              "      <script>\n",
              "\n",
              "function displayQuickchartButton(domScope) {\n",
              "  let quickchartButtonEl =\n",
              "    domScope.querySelector('#df-386e1fca-8abc-4d77-9026-dd920744902e button.colab-df-quickchart');\n",
              "  quickchartButtonEl.style.display =\n",
              "    google.colab.kernel.accessAllowed ? 'block' : 'none';\n",
              "}\n",
              "\n",
              "        displayQuickchartButton(document);\n",
              "      </script>\n",
              "      <style>\n",
              "    .colab-df-container {\n",
              "      display:flex;\n",
              "      flex-wrap:wrap;\n",
              "      gap: 12px;\n",
              "    }\n",
              "\n",
              "    .colab-df-convert {\n",
              "      background-color: #E8F0FE;\n",
              "      border: none;\n",
              "      border-radius: 50%;\n",
              "      cursor: pointer;\n",
              "      display: none;\n",
              "      fill: #1967D2;\n",
              "      height: 32px;\n",
              "      padding: 0 0 0 0;\n",
              "      width: 32px;\n",
              "    }\n",
              "\n",
              "    .colab-df-convert:hover {\n",
              "      background-color: #E2EBFA;\n",
              "      box-shadow: 0px 1px 2px rgba(60, 64, 67, 0.3), 0px 1px 3px 1px rgba(60, 64, 67, 0.15);\n",
              "      fill: #174EA6;\n",
              "    }\n",
              "\n",
              "    [theme=dark] .colab-df-convert {\n",
              "      background-color: #3B4455;\n",
              "      fill: #D2E3FC;\n",
              "    }\n",
              "\n",
              "    [theme=dark] .colab-df-convert:hover {\n",
              "      background-color: #434B5C;\n",
              "      box-shadow: 0px 1px 3px 1px rgba(0, 0, 0, 0.15);\n",
              "      filter: drop-shadow(0px 1px 2px rgba(0, 0, 0, 0.3));\n",
              "      fill: #FFFFFF;\n",
              "    }\n",
              "  </style>\n",
              "\n",
              "      <script>\n",
              "        const buttonEl =\n",
              "          document.querySelector('#df-4996126c-0f1e-4a4c-b9cc-c1737824e362 button.colab-df-convert');\n",
              "        buttonEl.style.display =\n",
              "          google.colab.kernel.accessAllowed ? 'block' : 'none';\n",
              "\n",
              "        async function convertToInteractive(key) {\n",
              "          const element = document.querySelector('#df-4996126c-0f1e-4a4c-b9cc-c1737824e362');\n",
              "          const dataTable =\n",
              "            await google.colab.kernel.invokeFunction('convertToInteractive',\n",
              "                                                     [key], {});\n",
              "          if (!dataTable) return;\n",
              "\n",
              "          const docLinkHtml = 'Like what you see? Visit the ' +\n",
              "            '<a target=\"_blank\" href=https://colab.research.google.com/notebooks/data_table.ipynb>data table notebook</a>'\n",
              "            + ' to learn more about interactive tables.';\n",
              "          element.innerHTML = '';\n",
              "          dataTable['output_type'] = 'display_data';\n",
              "          await google.colab.output.renderOutput(dataTable, element);\n",
              "          const docLink = document.createElement('div');\n",
              "          docLink.innerHTML = docLinkHtml;\n",
              "          element.appendChild(docLink);\n",
              "        }\n",
              "      </script>\n",
              "    </div>\n",
              "  </div>\n"
            ]
          },
          "metadata": {},
          "execution_count": 24
        }
      ]
    },
    {
      "cell_type": "markdown",
      "source": [
        "### What all manipulations have you done and insights you found?"
      ],
      "metadata": {
        "id": "MSa1f5Uengrz"
      }
    },
    {
      "cell_type": "markdown",
      "source": [
        "1. By creating a copy of the original DataFrame and adding necessary columns,\n",
        "  * Streamlined the process of accessing features during the **Bivariate Analysis**.\n",
        "  * Allows for a more efficient and focused exploration of relationships between different variables.\n",
        "\n",
        "2. The new DataFrame with added columns makes it easier to access and work with specific features relevant to the analysis. This **Enhanced Data Accessibility** facilitates a deeper understanding of the data and enables more targeted investigations.\n",
        "\n",
        "3."
      ],
      "metadata": {
        "id": "LbyXE7I1olp8"
      }
    },
    {
      "cell_type": "markdown",
      "source": [
        "## ***4. Data Vizualization, Storytelling & Experimenting with charts : Understand the relationships between variables***"
      ],
      "metadata": {
        "id": "GF8Ens_Soomf"
      }
    },
    {
      "cell_type": "code",
      "source": [
        "import pandas as pd\n",
        "import seaborn as sns\n",
        "import matplotlib.pyplot as plt\n",
        "from matplotlib.ticker import MultipleLocator"
      ],
      "metadata": {
        "id": "JgnALABzDPqp"
      },
      "execution_count": 46,
      "outputs": []
    },
    {
      "cell_type": "markdown",
      "source": [
        "#### Chart - 1"
      ],
      "metadata": {
        "id": "0wOQAZs5pc--"
      }
    },
    {
      "cell_type": "code",
      "source": [
        "# Chart - 1 visualization code\n",
        "'''\n",
        "UNIVARIATE ANALYSIS OF NUMERICAL FEATURES\n",
        "'''\n",
        "# Filter numeric columns excluding 'Area code'\n",
        "# numeric_columns = telecom_df.select_dtypes(include='number').drop('Area code', axis=1)\n",
        "numeric_columns = df_copy.select_dtypes(include='number').drop('Area code', axis=1)\n",
        "\n",
        "# Get the summary statistics using describe()\n",
        "summary_stats = numeric_columns.describe()\n",
        "# Visualize numeric columns (excluding 'Area code') using box plots\n",
        "plt.figure(figsize=(15, 10))\n",
        "sns.set(style=\"whitegrid\")  # Optional, sets the style of the plot\n",
        "# Calculate the number of rows and columns for the subplot grid\n",
        "num_rows = (len(summary_stats.columns) - 1) // 3 + 1\n",
        "num_cols = min(len(summary_stats.columns), 3)\n",
        "# Loop through numeric columns and create box plots\n",
        "for i, column in enumerate(summary_stats.columns):\n",
        "    plt.subplot(num_rows, num_cols, i + 1)\n",
        "    sns.boxplot(x=numeric_columns[column])\n",
        "    plt.title(f'Box Plot of {column}')\n",
        "    plt.xlabel('')\n",
        "plt.tight_layout()\n",
        "plt.show()"
      ],
      "metadata": {
        "id": "7v_ESjsspbW7",
        "colab": {
          "base_uri": "https://localhost:8080/",
          "height": 957
        },
        "outputId": "b3852feb-6467-4b8a-bb46-5d52ac4a0920"
      },
      "execution_count": 26,
      "outputs": [
        {
          "output_type": "display_data",
          "data": {
            "text/plain": [
              "<Figure size 1500x1000 with 15 Axes>"
            ],
            "image/png": "[encoded data removed]"
          },
          "metadata": {}
        }
      ]
    },
    {
      "cell_type": "markdown",
      "source": [
        "##### 1. Why did you pick the specific chart?"
      ],
      "metadata": {
        "id": "K5QZ13OEpz2H"
      }
    },
    {
      "cell_type": "markdown",
      "source": [
        "1. Box plot, was chosen because the dataset contains several numerical columns. It is essential to understand and visualize the detailed features of these numerical datasets.\n",
        "2. The box plot is well-suited for this purpose as it provides valuable insights such as the presence of outliers, minimum values, maximum values, quartiles, and the overall distribution of the data for each numerical feature."
      ],
      "metadata": {
        "id": "XESiWehPqBRc"
      }
    },
    {
      "cell_type": "markdown",
      "source": [
        "##### 2. What is/are the insight(s) found from the chart?"
      ],
      "metadata": {
        "id": "lQ7QKXXCp7Bj"
      }
    },
    {
      "cell_type": "markdown",
      "source": [
        "1.  Features \"Number Vmail Messages\" and \"Account Length\" have fewer outliers, indicating that the majority of the data points lie closer to the median for these features.\n",
        "2. The Daytime charge is the highest among all three call types. This suggests that Daytime calls might be more expensive despite having a shorter average duration.\n",
        "3. Box plot provides valuable information about the distribution and characteristics of the numerical features, it may not reveal profound insights on its own."
      ],
      "metadata": {
        "id": "C_j1G7yiqdRP"
      }
    },
    {
      "cell_type": "markdown",
      "source": [
        "##### 3. Will the gained insights help creating a positive business impact?\n",
        "Are there any insights that lead to negative growth? Justify with specific reason."
      ],
      "metadata": {
        "id": "448CDAPjqfQr"
      }
    },
    {
      "cell_type": "markdown",
      "source": [
        "1. Features with the fewer outliers suggests that the majority of customers fall within certain ranges for these features. This helps in identifying target customer segments.\n",
        "2. The Daytime charge is the highest among all three call types despite having a shorter average duration indicates that Daytime calls might be more expensive for customers. Adjusting the pricing strategy for Daytime calls could enhance customer satisfaction and loyalty."
      ],
      "metadata": {
        "id": "3cspy4FjqxJW"
      }
    },
    {
      "cell_type": "markdown",
      "source": [
        "#### Chart - 2"
      ],
      "metadata": {
        "id": "KSlN3yHqYklG"
      }
    },
    {
      "cell_type": "code",
      "source": [
        "'''\n",
        "UNIVARIATE ANALYSIS OF CATEGORICAL FEATURES\n",
        "'''\n",
        "# Get the categorical columns\n",
        "categorical_columns = list(telecom_df.select_dtypes(include='object').columns)\n",
        "categorical_columns.append('Area code')\n",
        "\n",
        "# plt.figure(figsize=(15, 5))\n",
        "# sns.countplot(data=telecom_df, x=categorical_columns[0], palette='Paired')\n",
        "# plt.title(f\"Frequency of Unique Values in {categorical_columns[0]}\")\n",
        "# plt.xlabel(categorical_columns[0])\n",
        "# plt.xticks(rotation=0)\n",
        "\n",
        "plt.figure(figsize=(12, 5))\n",
        "plt.subplot(1, 3, 1)\n",
        "sns.countplot(data=telecom_df, x=categorical_columns[1])\n",
        "plt.title(f\"Unique Values in {categorical_columns[1]}\")\n",
        "plt.xlabel(categorical_columns[1])\n",
        "plt.xticks(rotation=0)\n",
        "\n",
        "plt.subplot(1, 3, 2)\n",
        "sns.countplot(data=telecom_df, x=categorical_columns[2])\n",
        "plt.title(f\"Unique Values in {categorical_columns[2]}\")\n",
        "plt.xlabel(categorical_columns[2])\n",
        "plt.xticks(rotation=0)\n",
        "\n",
        "plt.subplot(1, 3, 3)\n",
        "sns.countplot(data=telecom_df, x=categorical_columns[3])\n",
        "plt.title(f\"Unique Values in {categorical_columns[3]}\")\n",
        "plt.xlabel(categorical_columns[3])\n",
        "plt.xticks(rotation=0)\n",
        "\n",
        "plt.tight_layout()\n",
        "plt.show()"
      ],
      "metadata": {
        "colab": {
          "base_uri": "https://localhost:8080/",
          "height": 501
        },
        "id": "Y2MFTQh4i23Y",
        "outputId": "d8753db6-8dad-4032-c4ae-b10fa2a230c6"
      },
      "execution_count": 27,
      "outputs": [
        {
          "output_type": "display_data",
          "data": {
            "text/plain": [
              "<Figure size 1200x500 with 3 Axes>"
            ],
            "image/png": "[encoded data removed]"
          },
          "metadata": {}
        }
      ]
    },
    {
      "cell_type": "code",
      "source": [
        "from matplotlib.ticker import MultipleLocator\n",
        "import geopandas as gpd  # Import geopandas library\n",
        "\n",
        "# Replace the URLs with the direct raw links to the shapefile files\n",
        "url_base = 'https://raw.githubusercontent.com/Patrick-1324/Almabetter/76a4339c29cb40570e2ae7c344ac277aed8e5f90/'\n",
        "\n",
        "url_shp = url_base + 'cb_2019_us_state_20m.shp'\n",
        "url_shx = url_base + 'cb_2019_us_state_20m.shx'\n",
        "url_dbf = url_base + 'cb_2019_us_state_20m.dbf'\n",
        "\n",
        "# Read the shapefile using the direct raw links\n",
        "states_shapefile = gpd.read_file(url_shp)\n",
        "\n",
        "state_counts_df.columns = ['STUSPS', \"Count\"]\n",
        "# print(states_shapefile.columns)\n",
        "# Merge the state_counts_df DataFrame with the states_shapefile based on the 'State' column\n",
        "merged_data = states_shapefile.merge(state_counts_df, on='STUSPS', how='left')\n",
        "\n",
        "fig, ax = plt.subplots(1, 1, figsize=(15, 10))\n",
        "merged_data.plot(column='Count', cmap='Paired', linewidth=0.8, ax=ax, edgecolor='0.8', legend = True)\n",
        "ax.set_title('State-wise Distribution')\n",
        "\n",
        "# Set x-ticks range\n",
        "ax.set_xlim(-180, -50)\n",
        "# Set x-ticks interval to 5\n",
        "ax.xaxis.set_major_locator(MultipleLocator(10))\n",
        "# Set y-ticks range\n",
        "ax.set_ylim(20, 75)\n",
        "# Set y-ticks interval to 10\n",
        "ax.yaxis.set_major_locator(MultipleLocator(5))\n",
        "plt.show()"
      ],
      "metadata": {
        "colab": {
          "base_uri": "https://localhost:8080/",
          "height": 807
        },
        "id": "xD6U63Lkk3XY",
        "outputId": "352fddf4-8edd-44e3-e653-78e51a43a9c7"
      },
      "execution_count": 88,
      "outputs": [
        {
          "output_type": "display_data",
          "data": {
            "text/plain": [
              "<Figure size 1500x1000 with 2 Axes>"
            ],
            "image/png": "[encoded data removed]"
          },
          "metadata": {}
        }
      ]
    },
    {
      "cell_type": "code",
      "source": [
        "# Chart - 2 visualization code\n",
        "\n",
        "# Calculate the average rates for each call type across all rows\n",
        "avg_day_rate = (telecom_df['Total day charge'].mean() / telecom_df['Total day minutes'].mean())*100\n",
        "avg_evening_rate = (telecom_df['Total eve charge'].mean() / telecom_df['Total eve minutes'].mean())*100\n",
        "avg_night_rate = (telecom_df['Total night charge'].mean() / telecom_df['Total night minutes'].mean())*100\n",
        "avg_international_rate = (telecom_df['Total intl charge'].mean() / telecom_df['Total intl minutes'].mean())*100\n",
        "\n",
        "# Create a new dataframe with the average rates\n",
        "avg_rates_df = pd.DataFrame({ 'Avg day rate': [avg_day_rate],\n",
        "                          'Avg evening rate': [avg_evening_rate],\n",
        "                            'Avg night rate': [avg_night_rate],\n",
        "                    'Avg international rate': [avg_international_rate] })\n",
        "avg_rates_df = avg_rates_df.round(2)\n",
        "print(avg_rates_df)\n",
        "\n",
        "# Create a bar plot using seaborn\n",
        "sns.set(style=\"whitegrid\")\n",
        "plt.figure(figsize=(10, 6))\n",
        "# sns.barplot(x=avg_rates_df.columns, y=avg_rates_df.iloc[0], color='skyblue')\n",
        "sns.barplot(x=avg_rates_df.columns, y=avg_rates_df.iloc[0])\n",
        "# Add labels and title\n",
        "plt.xlabel('Call Type')\n",
        "plt.ylabel('Average Rate (%)')\n",
        "plt.title('Average Rates for Different Call Types')\n",
        "\n",
        "# Show the plot\n",
        "plt.show()"
      ],
      "metadata": {
        "id": "R4YgtaqtYklH",
        "colab": {
          "base_uri": "https://localhost:8080/",
          "height": 608
        },
        "outputId": "3ca2388b-20a2-47e0-b9f4-7bc9b3e1b04a"
      },
      "execution_count": 89,
      "outputs": [
        {
          "output_type": "stream",
          "name": "stdout",
          "text": [
            "   Avg day rate  Avg evening rate  Avg night rate  Avg international rate\n",
            "0          17.0               8.5             4.5                   27.01\n"
          ]
        },
        {
          "output_type": "display_data",
          "data": {
            "text/plain": [
              "<Figure size 1000x600 with 1 Axes>"
            ],
            "image/png": "[encoded data removed]"
          },
          "metadata": {}
        }
      ]
    },
    {
      "cell_type": "markdown",
      "source": [
        "##### 1. Why did you pick the specific chart?"
      ],
      "metadata": {
        "id": "t6dVpIINYklI"
      }
    },
    {
      "cell_type": "markdown",
      "source": [
        "1. Bar chart, was chosen because the features being visualized are categorical in nature. Using a bar chart allows for easy visualization of the frequency of each category.\n",
        "2. By comparing the heights of the bars, it becomes intuitive to identify which categories are more or less frequent, providing a clear and straightforward representation of the data."
      ],
      "metadata": {
        "id": "5aaW0BYyYklI"
      }
    },
    {
      "cell_type": "markdown",
      "source": [
        "##### 2. What is/are the insight(s) found from the chart?"
      ],
      "metadata": {
        "id": "ijmpgYnKYklI"
      }
    },
    {
      "cell_type": "markdown",
      "source": [
        "1. Dataset has an average count of 60 values per state and the States WV(West Virginia), MN(Minnesota) and NY are the states which have highest counts of data values per state.\n",
        "2. DataSet has the Highest count of Data Values for the Area Code 415\n",
        "3. only 27% of the customers are Subscribed for Voice mail plan and only 11% customers are subscribed to International Plans.\n",
        "\n"
      ],
      "metadata": {
        "id": "PSx9atu2YklI"
      }
    },
    {
      "cell_type": "markdown",
      "source": [
        "##### 3. Will the gained insights help creating a positive business impact?\n",
        "Are there any insights that lead to negative growth? Justify with specific reason."
      ],
      "metadata": {
        "id": "-JiQyfWJYklI"
      }
    },
    {
      "cell_type": "markdown",
      "source": [
        "1. The low subscription rates for Voice mail and International Plans indicate that a significant portion of customers has not opted for these services. If the company fails to address the factors contributing to the low subscription rates, it may lead to missed revenue opportunities and hinder business growth.\n",
        "\n",
        "2.  The dataset has the highest count of data values for the Area Code 415 allows the company to prioritize customer service and support for this area. Allocating resources to improve customer satisfaction in this area code can positively impact customer loyalty and brand reputation."
      ],
      "metadata": {
        "id": "BcBbebzrYklV"
      }
    },
    {
      "cell_type": "markdown",
      "source": [
        "#### Chart - 3"
      ],
      "metadata": {
        "id": "EM7whBJCYoAo"
      }
    },
    {
      "cell_type": "code",
      "source": [
        "'''\n",
        "BIVARIATE ANALYSIS OF NUMERICAL FEATURES\n",
        "'''\n",
        "# Create subplots for barplots\n",
        "plt.figure(figsize=(20, 18))\n",
        "plt.subplots_adjust(wspace=0.5, hspace=0.5)\n",
        "\n",
        "# # Plot churn rate by day, evening, night, international using sns barplot with 'Churn' column as hue\n",
        "plt.subplot(4, 3, 1)\n",
        "sns.barplot(x='Daytime min Usage', y='Churn', data=churnBytdm)\n",
        "plt.xlabel('Daytime Minutes')\n",
        "plt.ylabel('Churn Rate')\n",
        "plt.title('Churn by Daytime Minutes')\n",
        "plt.grid(axis='y')\n",
        "\n",
        "plt.subplot(4, 3, 2)\n",
        "sns.barplot(x='Daytime calls Usage', y='Churn', data=churnBytdc)\n",
        "plt.xlabel('Daytime Calls')\n",
        "plt.ylabel('Churn Rate')\n",
        "plt.title('Churn by Daytime Calls')\n",
        "plt.grid(axis='y')\n",
        "\n",
        "plt.subplot(4, 3, 3)\n",
        "sns.barplot(x='Daytime charge Usage', y='Churn', data=churnBytdch)\n",
        "plt.xlabel('Daytime Charges')\n",
        "plt.ylabel('Churn Rate')\n",
        "plt.title('Churn by Daytime Charges')\n",
        "plt.grid(axis='y')\n",
        "\n",
        "plt.subplot(4, 3, 4)\n",
        "sns.barplot(x='Evetime mins Usage', y='Churn', data=churnBytem)\n",
        "plt.xlabel('Evening Minutes')\n",
        "plt.ylabel('Churn Rate')\n",
        "plt.title('Churn by Evening Minutes')\n",
        "plt.grid(axis='y')\n",
        "\n",
        "plt.subplot(4, 3, 5)\n",
        "sns.barplot(x='Evetime calls Usage', y='Churn', data=churnBytec)\n",
        "plt.xlabel('Evening Calls')\n",
        "plt.ylabel('Churn Rate')\n",
        "plt.title('Churn by Evening Calls')\n",
        "plt.grid(axis='y')\n",
        "\n",
        "plt.subplot(4, 3, 6)\n",
        "sns.barplot(x='Evetime charge Usage', y='Churn', data=churnBytech)\n",
        "plt.xlabel('Evening Charges')\n",
        "plt.ylabel('Churn Rate')\n",
        "plt.title('Churn by Evening Charges')\n",
        "plt.grid(axis='y')\n",
        "\n",
        "plt.subplot(4, 3, 7)\n",
        "sns.barplot(x='Nighttime mins Usage', y='Churn', data=churnBytnm)\n",
        "plt.xlabel('Night Minutes')\n",
        "plt.ylabel('Churn Rate')\n",
        "plt.title('Churn by Night Minutes')\n",
        "plt.grid(axis='y')\n",
        "\n",
        "plt.subplot(4, 3, 8)\n",
        "sns.barplot(x='Nighttime calls Usage', y='Churn', data=churnBytnc)\n",
        "plt.xlabel('Night Calls')\n",
        "plt.ylabel('Churn Rate')\n",
        "plt.title('Churn by Night Calls')\n",
        "plt.grid(axis='y')\n",
        "\n",
        "plt.subplot(4, 3, 9)\n",
        "sns.barplot(x='Nighttime charge Usage', y='Churn', data=churnBytnch)\n",
        "plt.xlabel('Night Charges')\n",
        "plt.ylabel('Churn Rate')\n",
        "plt.title('Churn by Night Charges')\n",
        "plt.grid(axis='y')\n",
        "\n",
        "plt.subplot(4, 3, 10)\n",
        "sns.barplot(x='Intl mins Usage', y='Churn', data=churnByitm)\n",
        "plt.xlabel('International Minutes')\n",
        "plt.ylabel('Churn Rate')\n",
        "plt.title('Churn by International Minutes')\n",
        "plt.grid(axis='y')\n",
        "\n",
        "plt.subplot(4, 3, 11)\n",
        "sns.barplot(x='Intl calls Usage', y='Churn', data=churnByitc)\n",
        "plt.xlabel('International Calls')\n",
        "plt.ylabel('Churn Rate')\n",
        "plt.title('Churn by International Calls')\n",
        "plt.grid(axis='y')\n",
        "\n",
        "plt.subplot(4, 3, 12)\n",
        "sns.barplot(x='Intl charge Usage', y='Churn', data=churnByitch)\n",
        "plt.xlabel('International Charges')\n",
        "plt.ylabel('Churn Rate')\n",
        "plt.title('Churn by International Charges')\n",
        "plt.grid(axis='y')\n",
        "\n",
        "plt.tight_layout()\n",
        "plt.show()"
      ],
      "metadata": {
        "id": "t6GMdE67YoAp",
        "colab": {
          "base_uri": "https://localhost:8080/",
          "height": 1000
        },
        "outputId": "c1f766ec-4f47-4769-9bc3-95bc07d92a07"
      },
      "execution_count": 36,
      "outputs": [
        {
          "output_type": "display_data",
          "data": {
            "text/plain": [
              "<Figure size 2000x1800 with 12 Axes>"
            ],
            "image/png": "[encoded data removed]"
          },
          "metadata": {}
        }
      ]
    },
    {
      "cell_type": "markdown",
      "source": [
        "##### 1. Why did you pick the specific chart?"
      ],
      "metadata": {
        "id": "fge-S5ZAYoAp"
      }
    },
    {
      "cell_type": "markdown",
      "source": [
        "1. The dataset contains four types of data features related to minutes, call, and charge usage in Day, Evening, Night, and International calls.These features are continuous numerical values, and using scatter or line plots to visualize them may not provide sufficient clarity and isolation.\n",
        "\n",
        "2. To better understand how the churn rate is affected by different ranges of data, we decided to convert the continuous data into categorical bins.\n",
        "By converting the data into categorical bins, we can isolate the data into distinct groups and observe the effect of different ranges more precisely.\n",
        "\n",
        "3. The bar plot allows us to display the categorical bins on the x-axis and the churn rate on the y-axis, making it easier to compare the churn rate for each category. This chart choice helps us gain insights into how the churn rate varies with different usage levels of Daytime minutes, Evening minutes, Nighttime minutes, and International minutes."
      ],
      "metadata": {
        "id": "5dBItgRVYoAp"
      }
    },
    {
      "cell_type": "markdown",
      "source": [
        "##### 2. What is/are the insight(s) found from the chart?"
      ],
      "metadata": {
        "id": "85gYPyotYoAp"
      }
    },
    {
      "cell_type": "markdown",
      "source": [
        "1. Comparatively, the churn rate significantly increases as the feature's are categorized from low to very high.\n",
        "\n",
        "      a. Daytime Minutes and Charges: 1.2 -> 2.8\n",
        "\n",
        "      b. Eveningtime Minutes Charges: 0.09 -> 0.19\n",
        "\n",
        "      c. International Minutes: 0.12 -> 0.18\n",
        "\n",
        "2. The churn rate significantly increases as the features (Daytime minutes, Eveningtime minutes, and International minutes) are categorized from low to very high."
      ],
      "metadata": {
        "id": "4jstXR6OYoAp"
      }
    },
    {
      "cell_type": "markdown",
      "source": [
        "##### 3. Will the gained insights help creating a positive business impact?\n",
        "Are there any insights that lead to negative growth? Justify with specific reason."
      ],
      "metadata": {
        "id": "RoGjAbkUYoAp"
      }
    },
    {
      "cell_type": "markdown",
      "source": [
        "The significant difference observed when categorizing \"Daytime minutes\" from Low to Very High can be interpreted as follows:\n",
        "\n",
        "1. Customers with higher Daytime minutes usage are more likely to churn.\n",
        "\n",
        "2. During our Univariate Analysis, we noticed that the average Daytime charge is notably higher than charges for Evening, Nighttime, and International calls.\n",
        "\n",
        "3. This discrepancy may influence the churn ratio, particularly when customers extensively use Daytime minutes."
      ],
      "metadata": {
        "id": "zfJ8IqMcYoAp"
      }
    },
    {
      "cell_type": "markdown",
      "source": [
        "#### Chart - 4"
      ],
      "metadata": {
        "id": "4Of9eVA-YrdM"
      }
    },
    {
      "cell_type": "code",
      "source": [
        "# Chart - 4 visualization code\n",
        "'''\n",
        "BIVARIATE ANALYSIS OF NUMERICAL FEATURES\n",
        "'''\n",
        "plt.figure(figsize=(12,6))\n",
        "plt.subplot(2,2,1)\n",
        "sns.barplot(x='State', y='Churn', data=statesBychurn_fst, palette='viridis')\n",
        "plt.xlabel('State')\n",
        "plt.ylabel('Churn Rate')\n",
        "plt.title('State-wise Churn Rate (Top 5)')\n",
        "plt.xticks(rotation=90)\n",
        "\n",
        "plt.subplot(2,2,2)\n",
        "sns.barplot(x='State', y='Churn', data=statesBychurn_lst, palette='plasma')\n",
        "plt.xlabel('State')\n",
        "plt.ylabel('Churn Rate')\n",
        "plt.title('State-wise Churn Rate (Last 5)')\n",
        "plt.xticks(rotation=90)\n",
        "\n",
        "plt.subplot(2,2,3)\n",
        "# Plot the pie chart\n",
        "plt.pie(churn_counts_ca, labels=churn_counts_ca.index, autopct='%1.1f%%', colors=['skyblue', 'lightcoral'])\n",
        "plt.title('Distribution of Churn Values in California')\n",
        "\n",
        "plt.subplot(2,2,4)\n",
        "# Plot the pie chart\n",
        "plt.pie(churn_counts_hi, labels=churn_counts_hi.index, autopct='%1.1f%%', colors=['skyblue', 'lightcoral'])\n",
        "plt.title('Distribution of Churn Values in Hawai')\n",
        "\n",
        "plt.tight_layout()\n",
        "plt.show()"
      ],
      "metadata": {
        "id": "irlUoxc8YrdO",
        "colab": {
          "base_uri": "https://localhost:8080/",
          "height": 601
        },
        "outputId": "8f5d6393-1b79-4ae4-982c-6587cb5ebcb1"
      },
      "execution_count": 38,
      "outputs": [
        {
          "output_type": "display_data",
          "data": {
            "text/plain": [
              "<Figure size 1200x600 with 4 Axes>"
            ],
            "image/png": "[encoded data removed]"
          },
          "metadata": {}
        }
      ]
    },
    {
      "cell_type": "markdown",
      "source": [
        "##### 1. Why did you pick the specific chart?"
      ],
      "metadata": {
        "id": "iky9q4vBYrdO"
      }
    },
    {
      "cell_type": "markdown",
      "source": [
        "1. Since the data for the \"State\" column is categorical and the objective was to compare states based on the churn rate, the bar graph was selected as the most suitable visualization method.\n",
        "\n",
        "2. Additionally, for the distribution analysis of the highest and lowest churn states, the pie plot was chosen as it effectively represents the proportion of churn cases in a visually appealing manner."
      ],
      "metadata": {
        "id": "aJRCwT6DYrdO"
      }
    },
    {
      "cell_type": "markdown",
      "source": [
        "##### 2. What is/are the insight(s) found from the chart?"
      ],
      "metadata": {
        "id": "F6T5p64dYrdO"
      }
    },
    {
      "cell_type": "markdown",
      "source": [
        "1. The states of New Jersey and California have the highest churn rate of 0.26, and the churn distribution for both states is approximately 26.5%. This indicates that a significant proportion of customers from these states are churning.\n",
        "\n",
        "2. On the other hand, the state of Hawaii has the least churn rate of 0.05, and the churn distribution for Hawaii is around 5.7%. This suggests that the churn rate is relatively low in Hawaii compared to other states.\n",
        "\n",
        "3. From these observations, we can conclude that the average churn rate, considering all the states, is around 16.1%."
      ],
      "metadata": {
        "id": "Xx8WAJvtYrdO"
      }
    },
    {
      "cell_type": "markdown",
      "source": [
        "##### 3. Will the gained insights help creating a positive business impact?\n",
        "Are there any insights that lead to negative growth? Justify with specific reason."
      ],
      "metadata": {
        "id": "y-Ehk30pYrdP"
      }
    },
    {
      "cell_type": "markdown",
      "source": [
        "From the insights found it can be helpful to create a positive bussiness impact,\n",
        "1. Identifying the states with the highest churn rates(California & New Jersey), company can Deploy the TARGETED MARKETING steps for customer retention.\n",
        "\n",
        "2. Knowing that the churn rate is high in that top 5 states, allows the business to ALLOCATE resources and IMPROVE customer support in those regions.\n",
        "\n",
        "3. Knowing the States with least churn states, analyzing other features from that states, allows to IMPROVE the churn in other states."
      ],
      "metadata": {
        "id": "jLNxxz7MYrdP"
      }
    },
    {
      "cell_type": "markdown",
      "source": [
        "#### Chart - 5"
      ],
      "metadata": {
        "id": "bamQiAODYuh1"
      }
    },
    {
      "cell_type": "code",
      "source": [
        "# Chart - 5 visualization code\n",
        "# Filter the data for States NJ and CA\n",
        "nj_ca_data = telecom_df[telecom_df['State'].isin(['NJ'])]\n",
        "# Calculate churn rate for each number of customer service calls\n",
        "churn_rate_by_service_calls = nj_ca_data.groupby('Customer service calls')['Churn'].mean()\n",
        "# Convert churn_rate_by_service_calls to a DataFrame for easier plotting\n",
        "churn_rate_df = pd.DataFrame({'Customer service calls': churn_rate_by_service_calls.index, 'Churn Rate': churn_rate_by_service_calls.values})\n",
        "# Plot the churn rate for different numbers of customer service calls\n",
        "plt.figure(figsize=(14, 5))\n",
        "plt.subplot(1, 2, 1)\n",
        "sns.barplot(data=churn_rate_df, x='Customer service calls', y='Churn Rate', palette='viridis')\n",
        "plt.xlabel('Customer Service Calls')\n",
        "plt.ylabel('Churn Rate')\n",
        "plt.title('Churn Rate by Number of Customer Service Calls for States NJ')\n",
        "plt.xticks(rotation=0)\n",
        "\n",
        "hi_data = telecom_df[telecom_df['State'].isin(['HI'])]\n",
        "hi_data\n",
        "# Calculate churn rate for each number of customer service calls\n",
        "churn_rate_by_service_calls = hi_data.groupby('Customer service calls')['Churn'].mean()\n",
        "# Convert churn_rate_by_service_calls to a DataFrame for easier plotting\n",
        "churn_rate_df = pd.DataFrame({'Customer service calls': churn_rate_by_service_calls.index, 'Churn Rate': churn_rate_by_service_calls.values})\n",
        "# Plot the churn rate for different numbers of customer service calls\n",
        "# plt.figure(figsize=(10, 6))\n",
        "plt.subplot(1, 2, 2)\n",
        "sns.barplot(data=churn_rate_df, x='Customer service calls', y='Churn Rate', palette='viridis')\n",
        "plt.xlabel('Customer Service Calls')\n",
        "plt.ylabel('Churn Rate')\n",
        "plt.title('Churn Rate by Number of Customer Service Calls for States HI')\n",
        "plt.xticks(rotation=0)\n",
        "plt.tight_layout()\n",
        "plt.show()"
      ],
      "metadata": {
        "id": "TIJwrbroYuh3",
        "colab": {
          "base_uri": "https://localhost:8080/",
          "height": 501
        },
        "outputId": "549c95d0-5623-4f79-ee44-707a87aa725a"
      },
      "execution_count": 41,
      "outputs": [
        {
          "output_type": "display_data",
          "data": {
            "text/plain": [
              "<Figure size 1400x500 with 2 Axes>"
            ],
            "image/png": "[encoded data removed]"
          },
          "metadata": {}
        }
      ]
    },
    {
      "cell_type": "code",
      "source": [
        "# Filter the data for State = HI\n",
        "hi_data = telecom_df[telecom_df['State'] == 'HI']\n",
        "# Calculate the churn rate for customers with and without international plans in the state of HI\n",
        "churn_rate_by_intl_plan = hi_data.groupby('Voice mail plan')['Churn'].mean().reset_index()\n",
        "plt.figure(figsize=(8, 8))\n",
        "plt.subplot(2, 2, 1)\n",
        "sns.barplot(data=churn_rate_by_intl_plan, x='Voice mail plan', y='Churn', palette='pastel')\n",
        "plt.xlabel('Voice Mail Plan')\n",
        "plt.ylabel('Churn Rate')\n",
        "plt.title('Churn Rate for Voice Mail Plan in State = HI')\n",
        "\n",
        "\n",
        "# Filter the data for State = HI\n",
        "hi_data = telecom_df[telecom_df['State'] == 'HI']\n",
        "# Calculate the churn rate for customers with and without international plans in the state of HI\n",
        "churn_rate_by_intl_plan = hi_data.groupby('International plan')['Churn'].mean().reset_index()\n",
        "# Plot the bar plot\n",
        "plt.subplot(2, 2, 3)\n",
        "sns.barplot(data=churn_rate_by_intl_plan, x='International plan', y='Churn', palette='pastel')\n",
        "plt.xlabel('International Plan')\n",
        "plt.ylabel('Churn Rate')\n",
        "plt.title('Churn Rate for International Plan in State = HI')\n",
        "\n",
        "\n",
        "nj_data = telecom_df[telecom_df['State'] == 'NJ']\n",
        "# Calculate the churn rate for customers with and without international plans in the state of HI\n",
        "churn_rate_by_intl_plan = nj_data.groupby('Voice mail plan')['Churn'].mean().reset_index()\n",
        "plt.subplot(2, 2, 2)\n",
        "sns.barplot(data=churn_rate_by_intl_plan, x='Voice mail plan', y='Churn', palette='pastel')\n",
        "plt.xlabel('Voice Mail Plan')\n",
        "plt.ylabel('Churn Rate')\n",
        "plt.title('Churn Rate for Voice Mail Plan in State = NJ')\n",
        "\n",
        "\n",
        "nj_data = telecom_df[telecom_df['State'] == 'NJ']\n",
        "# Calculate the churn rate for customers with and without international plans in the state of HI\n",
        "churn_rate_by_intl_plan = nj_data.groupby('International plan')['Churn'].mean().reset_index()\n",
        "# Plot the bar plot\n",
        "plt.subplot(2, 2, 4)\n",
        "sns.barplot(data=churn_rate_by_intl_plan, x='International plan', y='Churn', palette='pastel')\n",
        "plt.xlabel('International Plan')\n",
        "plt.ylabel('Churn Rate')\n",
        "plt.title('Churn Rate for International Plan in State = NJ')\n",
        "\n",
        "plt.tight_layout()\n",
        "plt.show()"
      ],
      "metadata": {
        "colab": {
          "base_uri": "https://localhost:8080/",
          "height": 801
        },
        "id": "yAE1c_zq8-zm",
        "outputId": "d3a553b9-0db7-405a-eea2-dc3aefb7872f"
      },
      "execution_count": 44,
      "outputs": [
        {
          "output_type": "display_data",
          "data": {
            "text/plain": [
              "<Figure size 800x800 with 4 Axes>"
            ],
            "image/png": "[encoded data removed]"
          },
          "metadata": {}
        }
      ]
    },
    {
      "cell_type": "markdown",
      "source": [
        "##### 1. Why did you pick the specific chart?"
      ],
      "metadata": {
        "id": "QHF8YVU7Yuh3"
      }
    },
    {
      "cell_type": "markdown",
      "source": [
        "Answer Here."
      ],
      "metadata": {
        "id": "dcxuIMRPYuh3"
      }
    },
    {
      "cell_type": "markdown",
      "source": [
        "##### 2. What is/are the insight(s) found from the chart?"
      ],
      "metadata": {
        "id": "GwzvFGzlYuh3"
      }
    },
    {
      "cell_type": "markdown",
      "source": [
        "Answer Here"
      ],
      "metadata": {
        "id": "uyqkiB8YYuh3"
      }
    },
    {
      "cell_type": "markdown",
      "source": [
        "##### 3. Will the gained insights help creating a positive business impact?\n",
        "Are there any insights that lead to negative growth? Justify with specific reason."
      ],
      "metadata": {
        "id": "qYpmQ266Yuh3"
      }
    },
    {
      "cell_type": "markdown",
      "source": [
        "Answer Here"
      ],
      "metadata": {
        "id": "_WtzZ_hCYuh4"
      }
    },
    {
      "cell_type": "markdown",
      "source": [
        "#### Chart - 6"
      ],
      "metadata": {
        "id": "OH-pJp9IphqM"
      }
    },
    {
      "cell_type": "code",
      "source": [
        "# Chart - 6 visualization code\n",
        "'''\n",
        "BIVARIATE ANALYSIS OF NUMERICAL FEATURES\n",
        "'''\n",
        "# Plot churn rate against account length using scatter plot\n",
        "plt.figure(figsize=(12, 6))\n",
        "plt.scatter(churn_df['Account length'], churn_df['Churn Rate'], marker='o')\n",
        "plt.xlabel('Account Length')\n",
        "plt.ylabel('Churn Rate')\n",
        "plt.title('Churn Rate by Account Length')\n",
        "plt.grid(True)\n",
        "# Set x-tick interval to 20\n",
        "plt.gca().xaxis.set_major_locator(MultipleLocator(20))\n",
        "plt.show()"
      ],
      "metadata": {
        "id": "kuRf4wtuphqN",
        "colab": {
          "base_uri": "https://localhost:8080/",
          "height": 573
        },
        "outputId": "ed6149f3-2a33-43a6-db43-76be64cc3669"
      },
      "execution_count": 47,
      "outputs": [
        {
          "output_type": "display_data",
          "data": {
            "text/plain": [
              "<Figure size 1200x600 with 1 Axes>"
            ],
            "image/png": "[encoded data removed]"
          },
          "metadata": {}
        }
      ]
    },
    {
      "cell_type": "markdown",
      "source": [
        "##### 1. Why did you pick the specific chart?"
      ],
      "metadata": {
        "id": "bbFf2-_FphqN"
      }
    },
    {
      "cell_type": "markdown",
      "source": [
        "1. The specific chart, a scatter plot, was chosen because the \"Account Length\" data is continuous in nature. With a scatter plot, we can effectively visualize the relationship between the continuous variables \"Account Length\" and \"Churn Rate.\"\n",
        "\n",
        "2. This type of plot allows us to easily spot outliers, identify trends, and potentially reveal any correlation between account length and churn rate.\n",
        "\n",
        "3. Moreover, the scatter plot is particularly useful for observing churn rate trends, which can provide valuable insights into customer behavior and retention patterns."
      ],
      "metadata": {
        "id": "loh7H2nzphqN"
      }
    },
    {
      "cell_type": "markdown",
      "source": [
        "##### 2. What is/are the insight(s) found from the chart?"
      ],
      "metadata": {
        "id": "_ouA3fa0phqN"
      }
    },
    {
      "cell_type": "markdown",
      "source": [
        "1. Outliers: The scatter plot reveals that there are some outliers in the data for account lengths outside the range of 25 to 180. In these cases, the churn rate reaches 100%, indicating that certain account lengths have a significantly higher likelihood of churn.\n",
        "\n",
        "2. Average Churn Rate: For account lengths within the range of 25 to 180, the average churn rate falls within the range of 18% to 20%. This suggests that customers with account lengths in this range are more likely to churn compared to other account lengths."
      ],
      "metadata": {
        "id": "VECbqPI7phqN"
      }
    },
    {
      "cell_type": "markdown",
      "source": [
        "##### 3. Will the gained insights help creating a positive business impact?\n",
        "Are there any insights that lead to negative growth? Justify with specific reason."
      ],
      "metadata": {
        "id": "Seke61FWphqN"
      }
    },
    {
      "cell_type": "markdown",
      "source": [
        "1. Positive Impact: By identifying at-risk customers within this segment, the company can offer personalized incentives, loyalty programs, or improved customer support to increase retention and foster customer satisfaction.\n",
        "\n",
        "2. Negative Impact:  These customers with extreme account lengths might be experiencing specific challenges or dissatisfaction with the service. Such high churn rates can negatively impact the company's growth and reputation if not addressed promptly."
      ],
      "metadata": {
        "id": "DW4_bGpfphqN"
      }
    },
    {
      "cell_type": "markdown",
      "source": [
        "#### Chart - 7"
      ],
      "metadata": {
        "id": "PIIx-8_IphqN"
      }
    },
    {
      "cell_type": "code",
      "source": [],
      "metadata": {
        "id": "lqAIGUfyphqO"
      },
      "execution_count": null,
      "outputs": []
    },
    {
      "cell_type": "markdown",
      "source": [
        "##### 1. Why did you pick the specific chart?"
      ],
      "metadata": {
        "id": "t27r6nlMphqO"
      }
    },
    {
      "cell_type": "markdown",
      "source": [
        "Answer Here."
      ],
      "metadata": {
        "id": "iv6ro40sphqO"
      }
    },
    {
      "cell_type": "markdown",
      "source": [
        "##### 2. What is/are the insight(s) found from the chart?"
      ],
      "metadata": {
        "id": "r2jJGEOYphqO"
      }
    },
    {
      "cell_type": "markdown",
      "source": [
        "Answer Here"
      ],
      "metadata": {
        "id": "Po6ZPi4hphqO"
      }
    },
    {
      "cell_type": "markdown",
      "source": [
        "##### 3. Will the gained insights help creating a positive business impact?\n",
        "Are there any insights that lead to negative growth? Justify with specific reason."
      ],
      "metadata": {
        "id": "b0JNsNcRphqO"
      }
    },
    {
      "cell_type": "markdown",
      "source": [
        "Answer Here"
      ],
      "metadata": {
        "id": "xvSq8iUTphqO"
      }
    },
    {
      "cell_type": "markdown",
      "source": [
        "#### Chart - 8"
      ],
      "metadata": {
        "id": "BZR9WyysphqO"
      }
    },
    {
      "cell_type": "code",
      "source": [
        "# Chart - 8 visualization code"
      ],
      "metadata": {
        "id": "TdPTWpAVphqO"
      },
      "execution_count": null,
      "outputs": []
    },
    {
      "cell_type": "markdown",
      "source": [
        "##### 1. Why did you pick the specific chart?"
      ],
      "metadata": {
        "id": "jj7wYXLtphqO"
      }
    },
    {
      "cell_type": "markdown",
      "source": [
        "Answer Here."
      ],
      "metadata": {
        "id": "Ob8u6rCTphqO"
      }
    },
    {
      "cell_type": "markdown",
      "source": [
        "##### 2. What is/are the insight(s) found from the chart?"
      ],
      "metadata": {
        "id": "eZrbJ2SmphqO"
      }
    },
    {
      "cell_type": "markdown",
      "source": [
        "Answer Here"
      ],
      "metadata": {
        "id": "mZtgC_hjphqO"
      }
    },
    {
      "cell_type": "markdown",
      "source": [
        "##### 3. Will the gained insights help creating a positive business impact?\n",
        "Are there any insights that lead to negative growth? Justify with specific reason."
      ],
      "metadata": {
        "id": "rFu4xreNphqO"
      }
    },
    {
      "cell_type": "markdown",
      "source": [
        "Answer Here"
      ],
      "metadata": {
        "id": "ey_0qi68phqO"
      }
    },
    {
      "cell_type": "markdown",
      "source": [
        "#### Chart - 9"
      ],
      "metadata": {
        "id": "YJ55k-q6phqO"
      }
    },
    {
      "cell_type": "code",
      "source": [
        "# Chart - 9 visualization code"
      ],
      "metadata": {
        "id": "B2aS4O1ophqO"
      },
      "execution_count": null,
      "outputs": []
    },
    {
      "cell_type": "markdown",
      "source": [
        "##### 1. Why did you pick the specific chart?"
      ],
      "metadata": {
        "id": "gCFgpxoyphqP"
      }
    },
    {
      "cell_type": "markdown",
      "source": [
        "Answer Here."
      ],
      "metadata": {
        "id": "TVxDimi2phqP"
      }
    },
    {
      "cell_type": "markdown",
      "source": [
        "##### 2. What is/are the insight(s) found from the chart?"
      ],
      "metadata": {
        "id": "OVtJsKN_phqQ"
      }
    },
    {
      "cell_type": "markdown",
      "source": [
        "Answer Here"
      ],
      "metadata": {
        "id": "ngGi97qjphqQ"
      }
    },
    {
      "cell_type": "markdown",
      "source": [
        "##### 3. Will the gained insights help creating a positive business impact?\n",
        "Are there any insights that lead to negative growth? Justify with specific reason."
      ],
      "metadata": {
        "id": "lssrdh5qphqQ"
      }
    },
    {
      "cell_type": "markdown",
      "source": [
        "Answer Here"
      ],
      "metadata": {
        "id": "tBpY5ekJphqQ"
      }
    },
    {
      "cell_type": "markdown",
      "source": [
        "#### Chart - 10"
      ],
      "metadata": {
        "id": "U2RJ9gkRphqQ"
      }
    },
    {
      "cell_type": "code",
      "source": [
        "# Chart - 10 visualization code"
      ],
      "metadata": {
        "id": "GM7a4YP4phqQ"
      },
      "execution_count": null,
      "outputs": []
    },
    {
      "cell_type": "markdown",
      "source": [
        "##### 1. Why did you pick the specific chart?"
      ],
      "metadata": {
        "id": "1M8mcRywphqQ"
      }
    },
    {
      "cell_type": "markdown",
      "source": [
        "Answer Here."
      ],
      "metadata": {
        "id": "8agQvks0phqQ"
      }
    },
    {
      "cell_type": "markdown",
      "source": [
        "##### 2. What is/are the insight(s) found from the chart?"
      ],
      "metadata": {
        "id": "tgIPom80phqQ"
      }
    },
    {
      "cell_type": "markdown",
      "source": [
        "Answer Here"
      ],
      "metadata": {
        "id": "Qp13pnNzphqQ"
      }
    },
    {
      "cell_type": "markdown",
      "source": [
        "##### 3. Will the gained insights help creating a positive business impact?\n",
        "Are there any insights that lead to negative growth? Justify with specific reason."
      ],
      "metadata": {
        "id": "JMzcOPDDphqR"
      }
    },
    {
      "cell_type": "markdown",
      "source": [
        "Answer Here"
      ],
      "metadata": {
        "id": "R4Ka1PC2phqR"
      }
    },
    {
      "cell_type": "markdown",
      "source": [
        "#### Chart - 11"
      ],
      "metadata": {
        "id": "x-EpHcCOp1ci"
      }
    },
    {
      "cell_type": "code",
      "source": [
        "# Chart - 11 visualization code"
      ],
      "metadata": {
        "id": "mAQTIvtqp1cj"
      },
      "execution_count": null,
      "outputs": []
    },
    {
      "cell_type": "markdown",
      "source": [
        "##### 1. Why did you pick the specific chart?"
      ],
      "metadata": {
        "id": "X_VqEhTip1ck"
      }
    },
    {
      "cell_type": "markdown",
      "source": [
        "Answer Here."
      ],
      "metadata": {
        "id": "-vsMzt_np1ck"
      }
    },
    {
      "cell_type": "markdown",
      "source": [
        "##### 2. What is/are the insight(s) found from the chart?"
      ],
      "metadata": {
        "id": "8zGJKyg5p1ck"
      }
    },
    {
      "cell_type": "markdown",
      "source": [
        "Answer Here"
      ],
      "metadata": {
        "id": "ZYdMsrqVp1ck"
      }
    },
    {
      "cell_type": "markdown",
      "source": [
        "##### 3. Will the gained insights help creating a positive business impact?\n",
        "Are there any insights that lead to negative growth? Justify with specific reason."
      ],
      "metadata": {
        "id": "PVzmfK_Ep1ck"
      }
    },
    {
      "cell_type": "markdown",
      "source": [
        "Answer Here"
      ],
      "metadata": {
        "id": "druuKYZpp1ck"
      }
    },
    {
      "cell_type": "markdown",
      "source": [
        "#### Chart - 12"
      ],
      "metadata": {
        "id": "n3dbpmDWp1ck"
      }
    },
    {
      "cell_type": "code",
      "source": [
        "# Chart - 12 visualization code"
      ],
      "metadata": {
        "id": "bwevp1tKp1ck"
      },
      "execution_count": null,
      "outputs": []
    },
    {
      "cell_type": "markdown",
      "source": [
        "##### 1. Why did you pick the specific chart?"
      ],
      "metadata": {
        "id": "ylSl6qgtp1ck"
      }
    },
    {
      "cell_type": "markdown",
      "source": [
        "Answer Here."
      ],
      "metadata": {
        "id": "m2xqNkiQp1ck"
      }
    },
    {
      "cell_type": "markdown",
      "source": [
        "##### 2. What is/are the insight(s) found from the chart?"
      ],
      "metadata": {
        "id": "ZWILFDl5p1ck"
      }
    },
    {
      "cell_type": "markdown",
      "source": [
        "Answer Here"
      ],
      "metadata": {
        "id": "x-lUsV2mp1ck"
      }
    },
    {
      "cell_type": "markdown",
      "source": [
        "##### 3. Will the gained insights help creating a positive business impact?\n",
        "Are there any insights that lead to negative growth? Justify with specific reason."
      ],
      "metadata": {
        "id": "M7G43BXep1ck"
      }
    },
    {
      "cell_type": "markdown",
      "source": [
        "Answer Here"
      ],
      "metadata": {
        "id": "5wwDJXsLp1cl"
      }
    },
    {
      "cell_type": "markdown",
      "source": [
        "#### Chart - 13"
      ],
      "metadata": {
        "id": "Ag9LCva-p1cl"
      }
    },
    {
      "cell_type": "code",
      "source": [
        "# Chart - 13 visualization code"
      ],
      "metadata": {
        "id": "EUfxeq9-p1cl"
      },
      "execution_count": null,
      "outputs": []
    },
    {
      "cell_type": "markdown",
      "source": [
        "##### 1. Why did you pick the specific chart?"
      ],
      "metadata": {
        "id": "E6MkPsBcp1cl"
      }
    },
    {
      "cell_type": "markdown",
      "source": [
        "Answer Here."
      ],
      "metadata": {
        "id": "V22bRsFWp1cl"
      }
    },
    {
      "cell_type": "markdown",
      "source": [
        "##### 2. What is/are the insight(s) found from the chart?"
      ],
      "metadata": {
        "id": "2cELzS2fp1cl"
      }
    },
    {
      "cell_type": "markdown",
      "source": [
        "Answer Here"
      ],
      "metadata": {
        "id": "ozQPc2_Ip1cl"
      }
    },
    {
      "cell_type": "markdown",
      "source": [
        "##### 3. Will the gained insights help creating a positive business impact?\n",
        "Are there any insights that lead to negative growth? Justify with specific reason."
      ],
      "metadata": {
        "id": "3MPXvC8up1cl"
      }
    },
    {
      "cell_type": "markdown",
      "source": [
        "Answer Here"
      ],
      "metadata": {
        "id": "GL8l1tdLp1cl"
      }
    },
    {
      "cell_type": "markdown",
      "source": [
        "#### Chart - 14 - Correlation Heatmap"
      ],
      "metadata": {
        "id": "NC_X3p0fY2L0"
      }
    },
    {
      "cell_type": "code",
      "source": [
        "# Correlation Heatmap visualization code"
      ],
      "metadata": {
        "id": "xyC9zolEZNRQ"
      },
      "execution_count": null,
      "outputs": []
    },
    {
      "cell_type": "markdown",
      "source": [
        "##### 1. Why did you pick the specific chart?"
      ],
      "metadata": {
        "id": "UV0SzAkaZNRQ"
      }
    },
    {
      "cell_type": "markdown",
      "source": [
        "Answer Here."
      ],
      "metadata": {
        "id": "DVPuT8LYZNRQ"
      }
    },
    {
      "cell_type": "markdown",
      "source": [
        "##### 2. What is/are the insight(s) found from the chart?"
      ],
      "metadata": {
        "id": "YPEH6qLeZNRQ"
      }
    },
    {
      "cell_type": "markdown",
      "source": [
        "Answer Here"
      ],
      "metadata": {
        "id": "bfSqtnDqZNRR"
      }
    },
    {
      "cell_type": "markdown",
      "source": [
        "#### Chart - 15 - Pair Plot"
      ],
      "metadata": {
        "id": "q29F0dvdveiT"
      }
    },
    {
      "cell_type": "code",
      "source": [
        "# Pair Plot visualization code"
      ],
      "metadata": {
        "id": "o58-TEIhveiU"
      },
      "execution_count": null,
      "outputs": []
    },
    {
      "cell_type": "markdown",
      "source": [
        "##### 1. Why did you pick the specific chart?"
      ],
      "metadata": {
        "id": "EXh0U9oCveiU"
      }
    },
    {
      "cell_type": "markdown",
      "source": [
        "Answer Here."
      ],
      "metadata": {
        "id": "eMmPjTByveiU"
      }
    },
    {
      "cell_type": "markdown",
      "source": [
        "##### 2. What is/are the insight(s) found from the chart?"
      ],
      "metadata": {
        "id": "22aHeOlLveiV"
      }
    },
    {
      "cell_type": "markdown",
      "source": [
        "Answer Here"
      ],
      "metadata": {
        "id": "uPQ8RGwHveiV"
      }
    },
    {
      "cell_type": "markdown",
      "source": [
        "## **5. Solution to Business Objective**"
      ],
      "metadata": {
        "id": "JcMwzZxoAimU"
      }
    },
    {
      "cell_type": "markdown",
      "source": [
        "#### What do you suggest the client to achieve Business Objective ?\n",
        "Explain Briefly."
      ],
      "metadata": {
        "id": "8G2x9gOozGDZ"
      }
    },
    {
      "cell_type": "markdown",
      "source": [
        "Answer Here."
      ],
      "metadata": {
        "id": "pASKb0qOza21"
      }
    },
    {
      "cell_type": "markdown",
      "source": [
        "# **Conclusion**"
      ],
      "metadata": {
        "id": "gCX9965dhzqZ"
      }
    },
    {
      "cell_type": "markdown",
      "source": [
        "Write the conclusion here."
      ],
      "metadata": {
        "id": "Fjb1IsQkh3yE"
      }
    },
    {
      "cell_type": "markdown",
      "source": [
        "### ***Hurrah! You have successfully completed your EDA Capstone Project !!!***"
      ],
      "metadata": {
        "id": "gIfDvo9L0UH2"
      }
    }
  ]
}